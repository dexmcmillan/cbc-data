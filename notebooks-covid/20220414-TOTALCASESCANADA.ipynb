{
 "cells": [
  {
   "cell_type": "markdown",
   "metadata": {},
   "source": [
    "# Rolling 7-day case totals in Canada\n",
    "*April 15, 2022*"
   ]
  },
  {
   "cell_type": "markdown",
   "metadata": {},
   "source": [
    "Let's do a very simple check in on COVID-19 cases in Canada. Instead of the usual rolling 7-day average, we'll do rolling 7-day totals.\n",
    "\n",
    "First, import pandas and set format for our float values (so we don't get the annoying scientific notation on them)."
   ]
  },
  {
   "cell_type": "code",
   "execution_count": 17,
   "metadata": {},
   "outputs": [],
   "source": [
    "import pandas as pd\n",
    "\n",
    "pd.options.display.float_format = '{:,}'.format"
   ]
  },
  {
   "cell_type": "markdown",
   "metadata": {},
   "source": [
    "Then, read in data."
   ]
  },
  {
   "cell_type": "code",
   "execution_count": 18,
   "metadata": {},
   "outputs": [
    {
     "data": {
      "text/html": [
       "<div>\n",
       "<style scoped>\n",
       "    .dataframe tbody tr th:only-of-type {\n",
       "        vertical-align: middle;\n",
       "    }\n",
       "\n",
       "    .dataframe tbody tr th {\n",
       "        vertical-align: top;\n",
       "    }\n",
       "\n",
       "    .dataframe thead th {\n",
       "        text-align: right;\n",
       "    }\n",
       "</style>\n",
       "<table border=\"1\" class=\"dataframe\">\n",
       "  <thead>\n",
       "    <tr style=\"text-align: right;\">\n",
       "      <th></th>\n",
       "      <th>pruid</th>\n",
       "      <th>prname</th>\n",
       "      <th>prnameFR</th>\n",
       "      <th>date</th>\n",
       "      <th>update</th>\n",
       "      <th>numconf</th>\n",
       "      <th>numprob</th>\n",
       "      <th>numdeaths</th>\n",
       "      <th>numtotal</th>\n",
       "      <th>numtested</th>\n",
       "      <th>...</th>\n",
       "      <th>ratedeaths_last14</th>\n",
       "      <th>numtotal_last7</th>\n",
       "      <th>ratetotal_last7</th>\n",
       "      <th>numdeaths_last7</th>\n",
       "      <th>ratedeaths_last7</th>\n",
       "      <th>avgtotal_last7</th>\n",
       "      <th>avgincidence_last7</th>\n",
       "      <th>avgdeaths_last7</th>\n",
       "      <th>avgratedeaths_last7</th>\n",
       "      <th>raterecovered</th>\n",
       "    </tr>\n",
       "  </thead>\n",
       "  <tbody>\n",
       "    <tr>\n",
       "      <th>4302</th>\n",
       "      <td>59</td>\n",
       "      <td>British Columbia</td>\n",
       "      <td>Colombie-Britannique</td>\n",
       "      <td>2020-12-19</td>\n",
       "      <td>NaN</td>\n",
       "      <td>46052</td>\n",
       "      <td>0.0</td>\n",
       "      <td>752</td>\n",
       "      <td>46052</td>\n",
       "      <td>904,763.0</td>\n",
       "      <td>...</td>\n",
       "      <td>4.64</td>\n",
       "      <td>4557</td>\n",
       "      <td>87.39</td>\n",
       "      <td>126</td>\n",
       "      <td>2.42</td>\n",
       "      <td>651.0</td>\n",
       "      <td>12.48</td>\n",
       "      <td>18.0</td>\n",
       "      <td>0.35</td>\n",
       "      <td>644.11</td>\n",
       "    </tr>\n",
       "    <tr>\n",
       "      <th>1234</th>\n",
       "      <td>13</td>\n",
       "      <td>New Brunswick</td>\n",
       "      <td>Nouveau-Brunswick</td>\n",
       "      <td>2020-05-28</td>\n",
       "      <td>NaN</td>\n",
       "      <td>126</td>\n",
       "      <td>0.0</td>\n",
       "      <td>0</td>\n",
       "      <td>126</td>\n",
       "      <td>21,980.0</td>\n",
       "      <td>...</td>\n",
       "      <td>0.0</td>\n",
       "      <td>5</td>\n",
       "      <td>0.63</td>\n",
       "      <td>0</td>\n",
       "      <td>0.0</td>\n",
       "      <td>0.71</td>\n",
       "      <td>0.09</td>\n",
       "      <td>0.0</td>\n",
       "      <td>0.0</td>\n",
       "      <td>15.2</td>\n",
       "    </tr>\n",
       "    <tr>\n",
       "      <th>2662</th>\n",
       "      <td>60</td>\n",
       "      <td>Yukon</td>\n",
       "      <td>Yukon</td>\n",
       "      <td>2020-08-31</td>\n",
       "      <td>NaN</td>\n",
       "      <td>15</td>\n",
       "      <td>0.0</td>\n",
       "      <td>0</td>\n",
       "      <td>15</td>\n",
       "      <td>2,562.0</td>\n",
       "      <td>...</td>\n",
       "      <td>0.0</td>\n",
       "      <td>0</td>\n",
       "      <td>0.0</td>\n",
       "      <td>0</td>\n",
       "      <td>0.0</td>\n",
       "      <td>0.0</td>\n",
       "      <td>0.0</td>\n",
       "      <td>0.0</td>\n",
       "      <td>0.0</td>\n",
       "      <td>34.9</td>\n",
       "    </tr>\n",
       "  </tbody>\n",
       "</table>\n",
       "<p>3 rows × 40 columns</p>\n",
       "</div>"
      ],
      "text/plain": [
       "      pruid            prname              prnameFR        date  update  \\\n",
       "4302     59  British Columbia  Colombie-Britannique  2020-12-19     NaN   \n",
       "1234     13     New Brunswick     Nouveau-Brunswick  2020-05-28     NaN   \n",
       "2662     60             Yukon                 Yukon  2020-08-31     NaN   \n",
       "\n",
       "      numconf  numprob  numdeaths  numtotal  numtested  ...  \\\n",
       "4302    46052      0.0        752     46052  904,763.0  ...   \n",
       "1234      126      0.0          0       126   21,980.0  ...   \n",
       "2662       15      0.0          0        15    2,562.0  ...   \n",
       "\n",
       "      ratedeaths_last14  numtotal_last7  ratetotal_last7  numdeaths_last7  \\\n",
       "4302               4.64            4557            87.39              126   \n",
       "1234                0.0               5             0.63                0   \n",
       "2662                0.0               0              0.0                0   \n",
       "\n",
       "      ratedeaths_last7  avgtotal_last7  avgincidence_last7  avgdeaths_last7  \\\n",
       "4302              2.42           651.0               12.48             18.0   \n",
       "1234               0.0            0.71                0.09              0.0   \n",
       "2662               0.0             0.0                 0.0              0.0   \n",
       "\n",
       "      avgratedeaths_last7  raterecovered  \n",
       "4302                 0.35         644.11  \n",
       "1234                  0.0           15.2  \n",
       "2662                  0.0           34.9  \n",
       "\n",
       "[3 rows x 40 columns]"
      ]
     },
     "execution_count": 18,
     "metadata": {},
     "output_type": "execute_result"
    }
   ],
   "source": [
    "raw = pd.read_csv('https://health-infobase.canada.ca/src/data/covidLive/covid19-download.csv')\n",
    "\n",
    "raw.sample(3)"
   ]
  },
  {
   "cell_type": "markdown",
   "metadata": {},
   "source": [
    "Now we filter for only Canada data, pivot to reshape the table into a more useful shape, then apply the rolling method."
   ]
  },
  {
   "cell_type": "code",
   "execution_count": 19,
   "metadata": {},
   "outputs": [],
   "source": [
    "data = (raw\n",
    "       .loc[(raw[\"prname\"] == \"Canada\")]\n",
    "       .pivot(columns=\"prname\", index=\"date\", values=\"numtoday\")\n",
    "       .rolling(7).sum()\n",
    "       )"
   ]
  },
  {
   "cell_type": "markdown",
   "metadata": {},
   "source": [
    "I'll also Filter for only values after November 1, 2021. Note that we do this AFTER applying rolling, otherwise you lose 7 days off the front of your dataset! "
   ]
  },
  {
   "cell_type": "code",
   "execution_count": 20,
   "metadata": {},
   "outputs": [],
   "source": [
    "data = data.loc[data.index >= \"2021-11-01\"].dropna()"
   ]
  },
  {
   "cell_type": "markdown",
   "metadata": {},
   "source": [
    "Now, let's plot it."
   ]
  },
  {
   "cell_type": "code",
   "execution_count": 21,
   "metadata": {},
   "outputs": [
    {
     "data": {
      "text/plain": [
       "<AxesSubplot:xlabel='date'>"
      ]
     },
     "execution_count": 21,
     "metadata": {},
     "output_type": "execute_result"
    },
    {
     "data": {
      "image/png": "[encoded data removed]",
      "text/plain": [
       "<Figure size 432x288 with 1 Axes>"
      ]
     },
     "metadata": {},
     "output_type": "display_data"
    }
   ],
   "source": [
    "all.plot()"
   ]
  },
  {
   "cell_type": "markdown",
   "metadata": {},
   "source": [
    "Easy. I'll copy this data over to datawrapper for the public presentation (final result [here](https://www.datawrapper.de/_/uKsJo/)).\n",
    "\n",
    "\\-30\\-"
   ]
  }
 ],
 "metadata": {
  "interpreter": {
   "hash": "f4d1a38d5d0290456d21c8fc16b003197c4108b66277a3181758af8be3ad3a7c"
  },
  "kernelspec": {
   "display_name": "Python 3.9.7 ('base')",
   "language": "python",
   "name": "python3"
  },
  "language_info": {
   "codemirror_mode": {
    "name": "ipython",
    "version": 3
   },
   "file_extension": ".py",
   "mimetype": "text/x-python",
   "name": "python",
   "nbconvert_exporter": "python",
   "pygments_lexer": "ipython3",
   "version": "3.9.7"
  },
  "orig_nbformat": 4
 },
 "nbformat": 4,
 "nbformat_minor": 2
}
