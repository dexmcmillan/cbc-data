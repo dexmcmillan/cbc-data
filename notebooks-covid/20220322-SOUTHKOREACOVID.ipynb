{
 "cells": [
  {
   "cell_type": "markdown",
   "metadata": {},
   "source": [
    "# COVID-19 deaths in South Korea\n",
    "\n",
    "*March 22, 2022*"
   ]
  },
  {
   "cell_type": "markdown",
   "metadata": {},
   "source": [
    "The COVID-19 situation in South Korea is looking pretty grim. For a story on surging numbers there, I put together this very quick graphic for a story. First we import pandas for analysis and read in OWID's data."
   ]
  },
  {
   "cell_type": "code",
   "execution_count": 4,
   "metadata": {},
   "outputs": [],
   "source": [
    "import pandas as pd\n",
    "\n",
    "raw = pd.read_csv(\"https://raw.githubusercontent.com/owid/covid-19-data/master/public/data/owid-covid-data.csv\")"
   ]
  },
  {
   "cell_type": "markdown",
   "metadata": {},
   "source": [
    "I typically do line charts using a rolling 7 day average (it's easier to read and understand). So here we'll filter for South Korea's new deaths per day, and then build a separate column for rolling 7-day average of the same metric."
   ]
  },
  {
   "cell_type": "code",
   "execution_count": 5,
   "metadata": {},
   "outputs": [],
   "source": [
    "south_korea = (raw\n",
    "                .loc[raw[\"location\"] == \"South Korea\", [\"date\", \"new_deaths\"]]\n",
    "                .set_index(\"date\")\n",
    "                .dropna()\n",
    "                )\n",
    "\n",
    "south_korea[\"rolling_deaths\"] = (south_korea\n",
    "                                    .loc[:, \"new_deaths\"]\n",
    "                                    .rolling(7)\n",
    "                                    .mean()\n",
    "                                    )"
   ]
  },
  {
   "cell_type": "markdown",
   "metadata": {},
   "source": [
    "From here, I like to plot it out very quickly to see if I have something interesting."
   ]
  },
  {
   "cell_type": "code",
   "execution_count": 6,
   "metadata": {},
   "outputs": [
    {
     "data": {
      "text/plain": [
       "<AxesSubplot:xlabel='date'>"
      ]
     },
     "execution_count": 6,
     "metadata": {},
     "output_type": "execute_result"
    },
    {
     "data": {
      "image/png": "[encoded data removed]",
      "text/plain": [
       "<Figure size 432x288 with 1 Axes>"
      ]
     },
     "metadata": {
      "needs_background": "light"
     },
     "output_type": "display_data"
    }
   ],
   "source": [
    "south_korea[\"rolling_deaths\"].plot()"
   ]
  },
  {
   "cell_type": "markdown",
   "metadata": {},
   "source": [
    "In this case: whoa. We definitely have something interesting. From here I copy/pasted the output to Datawrapper. [Here](https://www.datawrapper.de/_/jIG2C/)'s the final result.\n",
    "\n",
    "\\-30\\-"
   ]
  }
 ],
 "metadata": {
  "interpreter": {
   "hash": "f4d1a38d5d0290456d21c8fc16b003197c4108b66277a3181758af8be3ad3a7c"
  },
  "kernelspec": {
   "display_name": "Python 3.9.7 ('base')",
   "language": "python",
   "name": "python3"
  },
  "language_info": {
   "codemirror_mode": {
    "name": "ipython",
    "version": 3
   },
   "file_extension": ".py",
   "mimetype": "text/x-python",
   "name": "python",
   "nbconvert_exporter": "python",
   "pygments_lexer": "ipython3",
   "version": "3.9.7"
  },
  "orig_nbformat": 4
 },
 "nbformat": 4,
 "nbformat_minor": 2
}
