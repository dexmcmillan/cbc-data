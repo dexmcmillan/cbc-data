{
 "cells": [
  {
   "cell_type": "markdown",
   "metadata": {},
   "source": [
    "# Variants of concern in Canada\n",
    "*April 21, 2022*"
   ]
  },
  {
   "cell_type": "markdown",
   "metadata": {},
   "source": [
    "This week, a graphic was requested showing variants and their rise and fall overtime. This data exists on Public Health Agency of Canada's website [here](https://health-infobase.canada.ca/covid-19/epidemiological-summary-covid-19-cases.html#VOC).\n",
    "\n",
    "We start by importing pandas."
   ]
  },
  {
   "cell_type": "code",
   "execution_count": 167,
   "metadata": {},
   "outputs": [],
   "source": [
    "import pandas as pd"
   ]
  },
  {
   "cell_type": "markdown",
   "metadata": {},
   "source": [
    "Then read in the data directly from the source and take a quick peek at the structure."
   ]
  },
  {
   "cell_type": "code",
   "execution_count": 168,
   "metadata": {},
   "outputs": [
    {
     "data": {
      "text/html": [
       "<div>\n",
       "<style scoped>\n",
       "    .dataframe tbody tr th:only-of-type {\n",
       "        vertical-align: middle;\n",
       "    }\n",
       "\n",
       "    .dataframe tbody tr th {\n",
       "        vertical-align: top;\n",
       "    }\n",
       "\n",
       "    .dataframe thead th {\n",
       "        text-align: right;\n",
       "    }\n",
       "</style>\n",
       "<table border=\"1\" class=\"dataframe\">\n",
       "  <thead>\n",
       "    <tr style=\"text-align: right;\">\n",
       "      <th></th>\n",
       "      <th>Variant Grouping</th>\n",
       "      <th>_Identifier</th>\n",
       "      <th>Lineage Grouped</th>\n",
       "      <th>%CT Count of Sample #</th>\n",
       "      <th>Collection (week)</th>\n",
       "    </tr>\n",
       "  </thead>\n",
       "  <tbody>\n",
       "    <tr>\n",
       "      <th>0</th>\n",
       "      <td>VOC</td>\n",
       "      <td>Alpha</td>\n",
       "      <td>B.1.1.7 (Alpha)</td>\n",
       "      <td>0.001</td>\n",
       "      <td>2020-04-05</td>\n",
       "    </tr>\n",
       "    <tr>\n",
       "      <th>1</th>\n",
       "      <td>VOC</td>\n",
       "      <td>Alpha</td>\n",
       "      <td>B.1.1.7 (Alpha)</td>\n",
       "      <td>0.001</td>\n",
       "      <td>2020-04-19</td>\n",
       "    </tr>\n",
       "    <tr>\n",
       "      <th>2</th>\n",
       "      <td>VOC</td>\n",
       "      <td>Alpha</td>\n",
       "      <td>B.1.1.7 (Alpha)</td>\n",
       "      <td>0.008</td>\n",
       "      <td>2020-05-10</td>\n",
       "    </tr>\n",
       "    <tr>\n",
       "      <th>3</th>\n",
       "      <td>VOC</td>\n",
       "      <td>Alpha</td>\n",
       "      <td>B.1.1.7 (Alpha)</td>\n",
       "      <td>0.008</td>\n",
       "      <td>2020-05-17</td>\n",
       "    </tr>\n",
       "    <tr>\n",
       "      <th>4</th>\n",
       "      <td>VOC</td>\n",
       "      <td>Alpha</td>\n",
       "      <td>B.1.1.7 (Alpha)</td>\n",
       "      <td>0.002</td>\n",
       "      <td>2020-05-31</td>\n",
       "    </tr>\n",
       "  </tbody>\n",
       "</table>\n",
       "</div>"
      ],
      "text/plain": [
       "  Variant Grouping _Identifier  Lineage Grouped  %CT Count of Sample #  \\\n",
       "0              VOC       Alpha  B.1.1.7 (Alpha)                  0.001   \n",
       "1              VOC       Alpha  B.1.1.7 (Alpha)                  0.001   \n",
       "2              VOC       Alpha  B.1.1.7 (Alpha)                  0.008   \n",
       "3              VOC       Alpha  B.1.1.7 (Alpha)                  0.008   \n",
       "4              VOC       Alpha  B.1.1.7 (Alpha)                  0.002   \n",
       "\n",
       "  Collection (week)  \n",
       "0        2020-04-05  \n",
       "1        2020-04-19  \n",
       "2        2020-05-10  \n",
       "3        2020-05-17  \n",
       "4        2020-05-31  "
      ]
     },
     "execution_count": 168,
     "metadata": {},
     "output_type": "execute_result"
    }
   ],
   "source": [
    "raw = pd.read_csv(\"https://health-infobase.canada.ca/src/data/covidLive/covid19-epiSummary-variants.csv\")\n",
    "\n",
    "raw.head()"
   ]
  },
  {
   "cell_type": "markdown",
   "metadata": {},
   "source": [
    "Now, we'll pivot this so we have a nice series to plot."
   ]
  },
  {
   "cell_type": "code",
   "execution_count": 169,
   "metadata": {},
   "outputs": [
    {
     "data": {
      "text/html": [
       "<div>\n",
       "<style scoped>\n",
       "    .dataframe tbody tr th:only-of-type {\n",
       "        vertical-align: middle;\n",
       "    }\n",
       "\n",
       "    .dataframe tbody tr th {\n",
       "        vertical-align: top;\n",
       "    }\n",
       "\n",
       "    .dataframe thead th {\n",
       "        text-align: right;\n",
       "    }\n",
       "</style>\n",
       "<table border=\"1\" class=\"dataframe\">\n",
       "  <thead>\n",
       "    <tr style=\"text-align: right;\">\n",
       "      <th>_Identifier</th>\n",
       "      <th>Alpha</th>\n",
       "      <th>Beta</th>\n",
       "      <th>Delta</th>\n",
       "      <th>Eta</th>\n",
       "      <th>Gamma</th>\n",
       "      <th>Omicron</th>\n",
       "      <th>Other</th>\n",
       "    </tr>\n",
       "    <tr>\n",
       "      <th>Collection (week)</th>\n",
       "      <th></th>\n",
       "      <th></th>\n",
       "      <th></th>\n",
       "      <th></th>\n",
       "      <th></th>\n",
       "      <th></th>\n",
       "      <th></th>\n",
       "    </tr>\n",
       "  </thead>\n",
       "  <tbody>\n",
       "    <tr>\n",
       "      <th>2019-12-29</th>\n",
       "      <td>NaN</td>\n",
       "      <td>NaN</td>\n",
       "      <td>NaN</td>\n",
       "      <td>NaN</td>\n",
       "      <td>NaN</td>\n",
       "      <td>NaN</td>\n",
       "      <td>1.0</td>\n",
       "    </tr>\n",
       "    <tr>\n",
       "      <th>2020-02-23</th>\n",
       "      <td>NaN</td>\n",
       "      <td>NaN</td>\n",
       "      <td>NaN</td>\n",
       "      <td>NaN</td>\n",
       "      <td>NaN</td>\n",
       "      <td>NaN</td>\n",
       "      <td>1.0</td>\n",
       "    </tr>\n",
       "    <tr>\n",
       "      <th>2020-03-01</th>\n",
       "      <td>NaN</td>\n",
       "      <td>NaN</td>\n",
       "      <td>NaN</td>\n",
       "      <td>NaN</td>\n",
       "      <td>NaN</td>\n",
       "      <td>NaN</td>\n",
       "      <td>1.0</td>\n",
       "    </tr>\n",
       "    <tr>\n",
       "      <th>2020-03-08</th>\n",
       "      <td>NaN</td>\n",
       "      <td>NaN</td>\n",
       "      <td>NaN</td>\n",
       "      <td>NaN</td>\n",
       "      <td>NaN</td>\n",
       "      <td>NaN</td>\n",
       "      <td>1.0</td>\n",
       "    </tr>\n",
       "    <tr>\n",
       "      <th>2020-03-15</th>\n",
       "      <td>NaN</td>\n",
       "      <td>NaN</td>\n",
       "      <td>NaN</td>\n",
       "      <td>NaN</td>\n",
       "      <td>NaN</td>\n",
       "      <td>NaN</td>\n",
       "      <td>1.0</td>\n",
       "    </tr>\n",
       "  </tbody>\n",
       "</table>\n",
       "</div>"
      ],
      "text/plain": [
       "_Identifier        Alpha  Beta  Delta  Eta  Gamma  Omicron  Other\n",
       "Collection (week)                                                \n",
       "2019-12-29           NaN   NaN    NaN  NaN    NaN      NaN    1.0\n",
       "2020-02-23           NaN   NaN    NaN  NaN    NaN      NaN    1.0\n",
       "2020-03-01           NaN   NaN    NaN  NaN    NaN      NaN    1.0\n",
       "2020-03-08           NaN   NaN    NaN  NaN    NaN      NaN    1.0\n",
       "2020-03-15           NaN   NaN    NaN  NaN    NaN      NaN    1.0"
      ]
     },
     "execution_count": 169,
     "metadata": {},
     "output_type": "execute_result"
    }
   ],
   "source": [
    "pivot = raw.pivot_table(columns=[\"_Identifier\"], index=\"Collection (week)\", values=\"%CT Count of Sample #\", aggfunc=\"sum\")\n",
    "\n",
    "pivot.head()"
   ]
  },
  {
   "cell_type": "markdown",
   "metadata": {},
   "source": [
    "For most of these variants, we just want to include data for the variant as is (the _Identifier column). But for Omicron, we want more detailed data. Let's break out Omicron using a separate analysis. First, we'll get just our omicron rows from the raw dataset."
   ]
  },
  {
   "cell_type": "code",
   "execution_count": 170,
   "metadata": {},
   "outputs": [],
   "source": [
    "omicron = raw[raw[\"_Identifier\"] == \"Omicron\"]"
   ]
  },
  {
   "cell_type": "markdown",
   "metadata": {},
   "source": [
    "Let's see what values Omicron is grouped into."
   ]
  },
  {
   "cell_type": "code",
   "execution_count": 171,
   "metadata": {},
   "outputs": [
    {
     "data": {
      "text/plain": [
       "array(['BA.1', 'BA.1.1', 'BA.2', 'BA.2.2', 'Other Omicron'], dtype=object)"
      ]
     },
     "execution_count": 171,
     "metadata": {},
     "output_type": "execute_result"
    }
   ],
   "source": [
    "omicron[\"Lineage Grouped\"].unique()"
   ]
  },
  {
   "cell_type": "markdown",
   "metadata": {},
   "source": [
    "There are four variants here, plus an \"Other omicron\" category."
   ]
  },
  {
   "cell_type": "code",
   "execution_count": 172,
   "metadata": {},
   "outputs": [
    {
     "name": "stderr",
     "output_type": "stream",
     "text": [
      "C:\\Users\\dexmc\\anaconda3\\lib\\site-packages\\pandas\\core\\indexing.py:1773: SettingWithCopyWarning: \n",
      "A value is trying to be set on a copy of a slice from a DataFrame.\n",
      "Try using .loc[row_indexer,col_indexer] = value instead\n",
      "\n",
      "See the caveats in the documentation: https://pandas.pydata.org/pandas-docs/stable/user_guide/indexing.html#returning-a-view-versus-a-copy\n",
      "  self._setitem_single_column(ilocs[0], value, pi)\n"
     ]
    },
    {
     "data": {
      "text/html": [
       "<div>\n",
       "<style scoped>\n",
       "    .dataframe tbody tr th:only-of-type {\n",
       "        vertical-align: middle;\n",
       "    }\n",
       "\n",
       "    .dataframe tbody tr th {\n",
       "        vertical-align: top;\n",
       "    }\n",
       "\n",
       "    .dataframe thead th {\n",
       "        text-align: right;\n",
       "    }\n",
       "</style>\n",
       "<table border=\"1\" class=\"dataframe\">\n",
       "  <thead>\n",
       "    <tr style=\"text-align: right;\">\n",
       "      <th></th>\n",
       "      <th>Variant Grouping</th>\n",
       "      <th>_Identifier</th>\n",
       "      <th>Lineage Grouped</th>\n",
       "      <th>%CT Count of Sample #</th>\n",
       "      <th>Collection (week)</th>\n",
       "    </tr>\n",
       "  </thead>\n",
       "  <tbody>\n",
       "    <tr>\n",
       "      <th>567</th>\n",
       "      <td>VOC</td>\n",
       "      <td>Omicron</td>\n",
       "      <td>BA.1</td>\n",
       "      <td>0.002</td>\n",
       "      <td>2021-11-21</td>\n",
       "    </tr>\n",
       "    <tr>\n",
       "      <th>568</th>\n",
       "      <td>VOC</td>\n",
       "      <td>Omicron</td>\n",
       "      <td>BA.1</td>\n",
       "      <td>0.011</td>\n",
       "      <td>2021-11-28</td>\n",
       "    </tr>\n",
       "    <tr>\n",
       "      <th>569</th>\n",
       "      <td>VOC</td>\n",
       "      <td>Omicron</td>\n",
       "      <td>BA.1</td>\n",
       "      <td>0.110</td>\n",
       "      <td>2021-12-05</td>\n",
       "    </tr>\n",
       "    <tr>\n",
       "      <th>570</th>\n",
       "      <td>VOC</td>\n",
       "      <td>Omicron</td>\n",
       "      <td>BA.1</td>\n",
       "      <td>0.286</td>\n",
       "      <td>2021-12-12</td>\n",
       "    </tr>\n",
       "    <tr>\n",
       "      <th>571</th>\n",
       "      <td>VOC</td>\n",
       "      <td>Omicron</td>\n",
       "      <td>BA.1</td>\n",
       "      <td>0.458</td>\n",
       "      <td>2021-12-19</td>\n",
       "    </tr>\n",
       "  </tbody>\n",
       "</table>\n",
       "</div>"
      ],
      "text/plain": [
       "    Variant Grouping _Identifier Lineage Grouped  %CT Count of Sample #  \\\n",
       "567              VOC     Omicron            BA.1                  0.002   \n",
       "568              VOC     Omicron            BA.1                  0.011   \n",
       "569              VOC     Omicron            BA.1                  0.110   \n",
       "570              VOC     Omicron            BA.1                  0.286   \n",
       "571              VOC     Omicron            BA.1                  0.458   \n",
       "\n",
       "    Collection (week)  \n",
       "567        2021-11-21  \n",
       "568        2021-11-28  \n",
       "569        2021-12-05  \n",
       "570        2021-12-12  \n",
       "571        2021-12-19  "
      ]
     },
     "execution_count": 172,
     "metadata": {},
     "output_type": "execute_result"
    }
   ],
   "source": [
    "omicron.loc[:, \"Lineage Grouped\"] = (omicron\n",
    "                              .loc[:, \"Lineage Grouped\"]\n",
    "                              )\n",
    "\n",
    "omicron.head()"
   ]
  },
  {
   "cell_type": "markdown",
   "metadata": {},
   "source": [
    "Now, we'll use groupby and sum to consolidate our omicron values together, just like we did for all the other variants above. We'll join onto the other table shortly."
   ]
  },
  {
   "cell_type": "code",
   "execution_count": 173,
   "metadata": {},
   "outputs": [],
   "source": [
    "omicron = (omicron\n",
    "           .groupby([\"Lineage Grouped\", \"Collection (week)\"]).sum()\n",
    "           .reset_index()\n",
    "           .pivot(index=\"Collection (week)\", columns=\"Lineage Grouped\", values=\"%CT Count of Sample #\")\n",
    "           )"
   ]
  },
  {
   "cell_type": "markdown",
   "metadata": {},
   "source": [
    "We're also going to rename these so they're a little cleaner, before we join onto the other table."
   ]
  },
  {
   "cell_type": "code",
   "execution_count": 174,
   "metadata": {},
   "outputs": [],
   "source": [
    "omicron.columns = \"Omicron - \" + omicron.columns"
   ]
  },
  {
   "cell_type": "markdown",
   "metadata": {},
   "source": [
    "Now, we'll drop some variants we don't care too much about (and also the Omicron aggregate column), join on our new omicron breakdowns, and do some renaming of columns for clarity."
   ]
  },
  {
   "cell_type": "code",
   "execution_count": 175,
   "metadata": {},
   "outputs": [],
   "source": [
    "pivot = (pivot\n",
    "         .drop(columns=[\"Omicron\", \"Eta\", \"Beta\"])\n",
    "         .join(omicron).loc[pivot.index >= \"2020-12-10\", :]\n",
    "         )"
   ]
  },
  {
   "cell_type": "markdown",
   "metadata": {},
   "source": [
    "We'll also multiple by 100 so we get real percentages and can visualize it more clearly."
   ]
  },
  {
   "cell_type": "code",
   "execution_count": 176,
   "metadata": {},
   "outputs": [
    {
     "data": {
      "text/html": [
       "<div>\n",
       "<style scoped>\n",
       "    .dataframe tbody tr th:only-of-type {\n",
       "        vertical-align: middle;\n",
       "    }\n",
       "\n",
       "    .dataframe tbody tr th {\n",
       "        vertical-align: top;\n",
       "    }\n",
       "\n",
       "    .dataframe thead th {\n",
       "        text-align: right;\n",
       "    }\n",
       "</style>\n",
       "<table border=\"1\" class=\"dataframe\">\n",
       "  <thead>\n",
       "    <tr style=\"text-align: right;\">\n",
       "      <th></th>\n",
       "      <th>Alpha</th>\n",
       "      <th>Delta</th>\n",
       "      <th>Gamma</th>\n",
       "      <th>Other</th>\n",
       "      <th>Omicron - BA.1</th>\n",
       "      <th>Omicron - BA.1.1</th>\n",
       "      <th>Omicron - BA.2</th>\n",
       "      <th>Omicron - BA.2.2</th>\n",
       "      <th>Omicron - Other Omicron</th>\n",
       "    </tr>\n",
       "    <tr>\n",
       "      <th>Collection (week)</th>\n",
       "      <th></th>\n",
       "      <th></th>\n",
       "      <th></th>\n",
       "      <th></th>\n",
       "      <th></th>\n",
       "      <th></th>\n",
       "      <th></th>\n",
       "      <th></th>\n",
       "      <th></th>\n",
       "    </tr>\n",
       "  </thead>\n",
       "  <tbody>\n",
       "    <tr>\n",
       "      <th>2020-12-13</th>\n",
       "      <td>0.4</td>\n",
       "      <td>NaN</td>\n",
       "      <td>NaN</td>\n",
       "      <td>99.3</td>\n",
       "      <td>NaN</td>\n",
       "      <td>NaN</td>\n",
       "      <td>NaN</td>\n",
       "      <td>NaN</td>\n",
       "      <td>NaN</td>\n",
       "    </tr>\n",
       "    <tr>\n",
       "      <th>2020-12-20</th>\n",
       "      <td>0.4</td>\n",
       "      <td>NaN</td>\n",
       "      <td>NaN</td>\n",
       "      <td>99.2</td>\n",
       "      <td>NaN</td>\n",
       "      <td>NaN</td>\n",
       "      <td>NaN</td>\n",
       "      <td>NaN</td>\n",
       "      <td>NaN</td>\n",
       "    </tr>\n",
       "    <tr>\n",
       "      <th>2020-12-27</th>\n",
       "      <td>1.3</td>\n",
       "      <td>0.1</td>\n",
       "      <td>NaN</td>\n",
       "      <td>98.4</td>\n",
       "      <td>NaN</td>\n",
       "      <td>NaN</td>\n",
       "      <td>NaN</td>\n",
       "      <td>NaN</td>\n",
       "      <td>NaN</td>\n",
       "    </tr>\n",
       "    <tr>\n",
       "      <th>2021-01-03</th>\n",
       "      <td>1.4</td>\n",
       "      <td>NaN</td>\n",
       "      <td>NaN</td>\n",
       "      <td>97.8</td>\n",
       "      <td>NaN</td>\n",
       "      <td>NaN</td>\n",
       "      <td>NaN</td>\n",
       "      <td>NaN</td>\n",
       "      <td>NaN</td>\n",
       "    </tr>\n",
       "    <tr>\n",
       "      <th>2021-01-10</th>\n",
       "      <td>2.5</td>\n",
       "      <td>NaN</td>\n",
       "      <td>0.1</td>\n",
       "      <td>96.4</td>\n",
       "      <td>NaN</td>\n",
       "      <td>NaN</td>\n",
       "      <td>NaN</td>\n",
       "      <td>NaN</td>\n",
       "      <td>NaN</td>\n",
       "    </tr>\n",
       "    <tr>\n",
       "      <th>...</th>\n",
       "      <td>...</td>\n",
       "      <td>...</td>\n",
       "      <td>...</td>\n",
       "      <td>...</td>\n",
       "      <td>...</td>\n",
       "      <td>...</td>\n",
       "      <td>...</td>\n",
       "      <td>...</td>\n",
       "      <td>...</td>\n",
       "    </tr>\n",
       "    <tr>\n",
       "      <th>2022-02-27</th>\n",
       "      <td>NaN</td>\n",
       "      <td>0.1</td>\n",
       "      <td>NaN</td>\n",
       "      <td>0.2</td>\n",
       "      <td>11.3</td>\n",
       "      <td>46.1</td>\n",
       "      <td>23.1</td>\n",
       "      <td>0.0</td>\n",
       "      <td>19.2</td>\n",
       "    </tr>\n",
       "    <tr>\n",
       "      <th>2022-03-06</th>\n",
       "      <td>NaN</td>\n",
       "      <td>NaN</td>\n",
       "      <td>NaN</td>\n",
       "      <td>NaN</td>\n",
       "      <td>8.8</td>\n",
       "      <td>41.5</td>\n",
       "      <td>30.1</td>\n",
       "      <td>0.1</td>\n",
       "      <td>19.6</td>\n",
       "    </tr>\n",
       "    <tr>\n",
       "      <th>2022-03-13</th>\n",
       "      <td>NaN</td>\n",
       "      <td>NaN</td>\n",
       "      <td>NaN</td>\n",
       "      <td>NaN</td>\n",
       "      <td>4.1</td>\n",
       "      <td>38.4</td>\n",
       "      <td>34.1</td>\n",
       "      <td>0.0</td>\n",
       "      <td>23.4</td>\n",
       "    </tr>\n",
       "    <tr>\n",
       "      <th>2022-03-20</th>\n",
       "      <td>NaN</td>\n",
       "      <td>NaN</td>\n",
       "      <td>NaN</td>\n",
       "      <td>NaN</td>\n",
       "      <td>1.9</td>\n",
       "      <td>28.6</td>\n",
       "      <td>45.8</td>\n",
       "      <td>NaN</td>\n",
       "      <td>23.7</td>\n",
       "    </tr>\n",
       "    <tr>\n",
       "      <th>2022-03-27</th>\n",
       "      <td>NaN</td>\n",
       "      <td>0.1</td>\n",
       "      <td>NaN</td>\n",
       "      <td>NaN</td>\n",
       "      <td>1.1</td>\n",
       "      <td>19.2</td>\n",
       "      <td>53.0</td>\n",
       "      <td>NaN</td>\n",
       "      <td>26.6</td>\n",
       "    </tr>\n",
       "  </tbody>\n",
       "</table>\n",
       "<p>68 rows × 9 columns</p>\n",
       "</div>"
      ],
      "text/plain": [
       "                   Alpha  Delta  Gamma  Other  Omicron - BA.1  \\\n",
       "Collection (week)                                               \n",
       "2020-12-13           0.4    NaN    NaN   99.3             NaN   \n",
       "2020-12-20           0.4    NaN    NaN   99.2             NaN   \n",
       "2020-12-27           1.3    0.1    NaN   98.4             NaN   \n",
       "2021-01-03           1.4    NaN    NaN   97.8             NaN   \n",
       "2021-01-10           2.5    NaN    0.1   96.4             NaN   \n",
       "...                  ...    ...    ...    ...             ...   \n",
       "2022-02-27           NaN    0.1    NaN    0.2            11.3   \n",
       "2022-03-06           NaN    NaN    NaN    NaN             8.8   \n",
       "2022-03-13           NaN    NaN    NaN    NaN             4.1   \n",
       "2022-03-20           NaN    NaN    NaN    NaN             1.9   \n",
       "2022-03-27           NaN    0.1    NaN    NaN             1.1   \n",
       "\n",
       "                   Omicron - BA.1.1  Omicron - BA.2  Omicron - BA.2.2  \\\n",
       "Collection (week)                                                       \n",
       "2020-12-13                      NaN             NaN               NaN   \n",
       "2020-12-20                      NaN             NaN               NaN   \n",
       "2020-12-27                      NaN             NaN               NaN   \n",
       "2021-01-03                      NaN             NaN               NaN   \n",
       "2021-01-10                      NaN             NaN               NaN   \n",
       "...                             ...             ...               ...   \n",
       "2022-02-27                     46.1            23.1               0.0   \n",
       "2022-03-06                     41.5            30.1               0.1   \n",
       "2022-03-13                     38.4            34.1               0.0   \n",
       "2022-03-20                     28.6            45.8               NaN   \n",
       "2022-03-27                     19.2            53.0               NaN   \n",
       "\n",
       "                   Omicron - Other Omicron  \n",
       "Collection (week)                           \n",
       "2020-12-13                             NaN  \n",
       "2020-12-20                             NaN  \n",
       "2020-12-27                             NaN  \n",
       "2021-01-03                             NaN  \n",
       "2021-01-10                             NaN  \n",
       "...                                    ...  \n",
       "2022-02-27                            19.2  \n",
       "2022-03-06                            19.6  \n",
       "2022-03-13                            23.4  \n",
       "2022-03-20                            23.7  \n",
       "2022-03-27                            26.6  \n",
       "\n",
       "[68 rows x 9 columns]"
      ]
     },
     "execution_count": 176,
     "metadata": {},
     "output_type": "execute_result"
    }
   ],
   "source": [
    "pivot = pivot * 100\n",
    "\n",
    "pivot"
   ]
  },
  {
   "cell_type": "markdown",
   "metadata": {},
   "source": [
    "Let's plot it using pandas before we take it over to datawrapper for the public-facing version."
   ]
  },
  {
   "cell_type": "code",
   "execution_count": 177,
   "metadata": {},
   "outputs": [
    {
     "data": {
      "text/plain": [
       "<AxesSubplot:xlabel='Collection (week)'>"
      ]
     },
     "execution_count": 177,
     "metadata": {},
     "output_type": "execute_result"
    },
    {
     "data": {
      "image/png": "[encoded data removed]",
      "text/plain": [
       "<Figure size 432x288 with 1 Axes>"
      ]
     },
     "metadata": {},
     "output_type": "display_data"
    }
   ],
   "source": [
    "pivot.plot.area()"
   ]
  },
  {
   "cell_type": "markdown",
   "metadata": {},
   "source": [
    "You can view the public facing, Datawrapper version [here](https://www.datawrapper.de/_/mqQzc/).\n",
    "\n",
    "\\-30\\-"
   ]
  }
 ],
 "metadata": {
  "interpreter": {
   "hash": "f4d1a38d5d0290456d21c8fc16b003197c4108b66277a3181758af8be3ad3a7c"
  },
  "kernelspec": {
   "display_name": "Python 3.9.7 ('base')",
   "language": "python",
   "name": "python3"
  },
  "language_info": {
   "codemirror_mode": {
    "name": "ipython",
    "version": 3
   },
   "file_extension": ".py",
   "mimetype": "text/x-python",
   "name": "python",
   "nbconvert_exporter": "python",
   "pygments_lexer": "ipython3",
   "version": "3.9.7"
  },
  "orig_nbformat": 4
 },
 "nbformat": 4,
 "nbformat_minor": 2
}
