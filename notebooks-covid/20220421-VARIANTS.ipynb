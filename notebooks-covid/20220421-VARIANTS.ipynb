{
 "cells": [
  {
   "cell_type": "markdown",
   "metadata": {},
   "source": [
    "# Variants of concern in Canada\n",
    "*April 21, 2022*"
   ]
  },
  {
   "cell_type": "markdown",
   "metadata": {},
   "source": [
    "This week, a graphic was requested showing variants and their rise and fall overtime. This data exists on Public Health Agency of Canada's website [here](https://health-infobase.canada.ca/covid-19/epidemiological-summary-covid-19-cases.html#VOC).\n",
    "\n",
    "We start by importing pandas."
   ]
  },
  {
   "cell_type": "code",
   "execution_count": 1,
   "metadata": {},
   "outputs": [],
   "source": [
    "import pandas as pd\n",
    "import datawrappergraphics"
   ]
  },
  {
   "cell_type": "markdown",
   "metadata": {},
   "source": [
    "Then read in the data directly from the source and take a quick peek at the structure."
   ]
  },
  {
   "cell_type": "code",
   "execution_count": 2,
   "metadata": {},
   "outputs": [
    {
     "data": {
      "text/html": [
       "<div>\n",
       "<style scoped>\n",
       "    .dataframe tbody tr th:only-of-type {\n",
       "        vertical-align: middle;\n",
       "    }\n",
       "\n",
       "    .dataframe tbody tr th {\n",
       "        vertical-align: top;\n",
       "    }\n",
       "\n",
       "    .dataframe thead th {\n",
       "        text-align: right;\n",
       "    }\n",
       "</style>\n",
       "<table border=\"1\" class=\"dataframe\">\n",
       "  <thead>\n",
       "    <tr style=\"text-align: right;\">\n",
       "      <th></th>\n",
       "      <th>Variant Grouping</th>\n",
       "      <th>_Identifier</th>\n",
       "      <th>Lineage Grouped</th>\n",
       "      <th>%CT Count of Sample #</th>\n",
       "      <th>Collection (week)</th>\n",
       "    </tr>\n",
       "  </thead>\n",
       "  <tbody>\n",
       "    <tr>\n",
       "      <th>0</th>\n",
       "      <td>Alpha</td>\n",
       "      <td>Alpha</td>\n",
       "      <td>B.1.1.7</td>\n",
       "      <td>0.001</td>\n",
       "      <td>2020-04-05</td>\n",
       "    </tr>\n",
       "    <tr>\n",
       "      <th>1</th>\n",
       "      <td>Alpha</td>\n",
       "      <td>Alpha</td>\n",
       "      <td>B.1.1.7</td>\n",
       "      <td>0.001</td>\n",
       "      <td>2020-04-19</td>\n",
       "    </tr>\n",
       "    <tr>\n",
       "      <th>2</th>\n",
       "      <td>Alpha</td>\n",
       "      <td>Alpha</td>\n",
       "      <td>B.1.1.7</td>\n",
       "      <td>0.008</td>\n",
       "      <td>2020-05-10</td>\n",
       "    </tr>\n",
       "    <tr>\n",
       "      <th>3</th>\n",
       "      <td>Alpha</td>\n",
       "      <td>Alpha</td>\n",
       "      <td>B.1.1.7</td>\n",
       "      <td>0.008</td>\n",
       "      <td>2020-05-17</td>\n",
       "    </tr>\n",
       "    <tr>\n",
       "      <th>4</th>\n",
       "      <td>Alpha</td>\n",
       "      <td>Alpha</td>\n",
       "      <td>B.1.1.7</td>\n",
       "      <td>0.002</td>\n",
       "      <td>2020-05-31</td>\n",
       "    </tr>\n",
       "  </tbody>\n",
       "</table>\n",
       "</div>"
      ],
      "text/plain": [
       "  Variant Grouping _Identifier Lineage Grouped  %CT Count of Sample #  \\\n",
       "0            Alpha       Alpha         B.1.1.7                  0.001   \n",
       "1            Alpha       Alpha         B.1.1.7                  0.001   \n",
       "2            Alpha       Alpha         B.1.1.7                  0.008   \n",
       "3            Alpha       Alpha         B.1.1.7                  0.008   \n",
       "4            Alpha       Alpha         B.1.1.7                  0.002   \n",
       "\n",
       "  Collection (week)  \n",
       "0        2020-04-05  \n",
       "1        2020-04-19  \n",
       "2        2020-05-10  \n",
       "3        2020-05-17  \n",
       "4        2020-05-31  "
      ]
     },
     "execution_count": 2,
     "metadata": {},
     "output_type": "execute_result"
    }
   ],
   "source": [
    "raw = pd.read_csv(\"https://health-infobase.canada.ca/src/data/covidLive/covid19-epiSummary-variants.csv\")\n",
    "\n",
    "raw.head()"
   ]
  },
  {
   "cell_type": "markdown",
   "metadata": {},
   "source": [
    "Now, we'll pivot this so we have a nice series to plot."
   ]
  },
  {
   "cell_type": "code",
   "execution_count": 28,
   "metadata": {},
   "outputs": [
    {
     "data": {
      "text/html": [
       "<div>\n",
       "<style scoped>\n",
       "    .dataframe tbody tr th:only-of-type {\n",
       "        vertical-align: middle;\n",
       "    }\n",
       "\n",
       "    .dataframe tbody tr th {\n",
       "        vertical-align: top;\n",
       "    }\n",
       "\n",
       "    .dataframe thead th {\n",
       "        text-align: right;\n",
       "    }\n",
       "</style>\n",
       "<table border=\"1\" class=\"dataframe\">\n",
       "  <thead>\n",
       "    <tr style=\"text-align: right;\">\n",
       "      <th>_Identifier</th>\n",
       "      <th>Alpha</th>\n",
       "      <th>BA.1</th>\n",
       "      <th>BA.2</th>\n",
       "      <th>BA.3</th>\n",
       "      <th>BA.4</th>\n",
       "      <th>BA.5</th>\n",
       "      <th>Beta</th>\n",
       "      <th>Delta</th>\n",
       "      <th>Eta</th>\n",
       "      <th>Gamma</th>\n",
       "      <th>Other</th>\n",
       "      <th>Recombinants</th>\n",
       "    </tr>\n",
       "    <tr>\n",
       "      <th>Collection (week)</th>\n",
       "      <th></th>\n",
       "      <th></th>\n",
       "      <th></th>\n",
       "      <th></th>\n",
       "      <th></th>\n",
       "      <th></th>\n",
       "      <th></th>\n",
       "      <th></th>\n",
       "      <th></th>\n",
       "      <th></th>\n",
       "      <th></th>\n",
       "      <th></th>\n",
       "    </tr>\n",
       "  </thead>\n",
       "  <tbody>\n",
       "    <tr>\n",
       "      <th>2019-12-29</th>\n",
       "      <td>NaN</td>\n",
       "      <td>NaN</td>\n",
       "      <td>NaN</td>\n",
       "      <td>NaN</td>\n",
       "      <td>NaN</td>\n",
       "      <td>NaN</td>\n",
       "      <td>NaN</td>\n",
       "      <td>NaN</td>\n",
       "      <td>NaN</td>\n",
       "      <td>NaN</td>\n",
       "      <td>1.003</td>\n",
       "      <td>NaN</td>\n",
       "    </tr>\n",
       "    <tr>\n",
       "      <th>2020-02-23</th>\n",
       "      <td>NaN</td>\n",
       "      <td>NaN</td>\n",
       "      <td>NaN</td>\n",
       "      <td>NaN</td>\n",
       "      <td>NaN</td>\n",
       "      <td>NaN</td>\n",
       "      <td>NaN</td>\n",
       "      <td>NaN</td>\n",
       "      <td>NaN</td>\n",
       "      <td>NaN</td>\n",
       "      <td>1.000</td>\n",
       "      <td>NaN</td>\n",
       "    </tr>\n",
       "    <tr>\n",
       "      <th>2020-03-01</th>\n",
       "      <td>NaN</td>\n",
       "      <td>NaN</td>\n",
       "      <td>NaN</td>\n",
       "      <td>NaN</td>\n",
       "      <td>NaN</td>\n",
       "      <td>NaN</td>\n",
       "      <td>NaN</td>\n",
       "      <td>NaN</td>\n",
       "      <td>NaN</td>\n",
       "      <td>NaN</td>\n",
       "      <td>1.000</td>\n",
       "      <td>NaN</td>\n",
       "    </tr>\n",
       "    <tr>\n",
       "      <th>2020-03-08</th>\n",
       "      <td>NaN</td>\n",
       "      <td>NaN</td>\n",
       "      <td>NaN</td>\n",
       "      <td>NaN</td>\n",
       "      <td>NaN</td>\n",
       "      <td>NaN</td>\n",
       "      <td>NaN</td>\n",
       "      <td>NaN</td>\n",
       "      <td>NaN</td>\n",
       "      <td>NaN</td>\n",
       "      <td>1.002</td>\n",
       "      <td>NaN</td>\n",
       "    </tr>\n",
       "    <tr>\n",
       "      <th>2020-03-15</th>\n",
       "      <td>NaN</td>\n",
       "      <td>NaN</td>\n",
       "      <td>NaN</td>\n",
       "      <td>NaN</td>\n",
       "      <td>NaN</td>\n",
       "      <td>NaN</td>\n",
       "      <td>NaN</td>\n",
       "      <td>NaN</td>\n",
       "      <td>NaN</td>\n",
       "      <td>NaN</td>\n",
       "      <td>0.996</td>\n",
       "      <td>NaN</td>\n",
       "    </tr>\n",
       "  </tbody>\n",
       "</table>\n",
       "</div>"
      ],
      "text/plain": [
       "_Identifier        Alpha  BA.1  BA.2  BA.3  BA.4  BA.5  Beta  Delta  Eta  \\\n",
       "Collection (week)                                                          \n",
       "2019-12-29           NaN   NaN   NaN   NaN   NaN   NaN   NaN    NaN  NaN   \n",
       "2020-02-23           NaN   NaN   NaN   NaN   NaN   NaN   NaN    NaN  NaN   \n",
       "2020-03-01           NaN   NaN   NaN   NaN   NaN   NaN   NaN    NaN  NaN   \n",
       "2020-03-08           NaN   NaN   NaN   NaN   NaN   NaN   NaN    NaN  NaN   \n",
       "2020-03-15           NaN   NaN   NaN   NaN   NaN   NaN   NaN    NaN  NaN   \n",
       "\n",
       "_Identifier        Gamma  Other  Recombinants  \n",
       "Collection (week)                              \n",
       "2019-12-29           NaN  1.003           NaN  \n",
       "2020-02-23           NaN  1.000           NaN  \n",
       "2020-03-01           NaN  1.000           NaN  \n",
       "2020-03-08           NaN  1.002           NaN  \n",
       "2020-03-15           NaN  0.996           NaN  "
      ]
     },
     "execution_count": 28,
     "metadata": {},
     "output_type": "execute_result"
    }
   ],
   "source": [
    "pivot = raw.pivot_table(columns=[\"_Identifier\"], index=\"Collection (week)\", values=\"%CT Count of Sample #\", aggfunc=\"sum\")\n",
    "\n",
    "pivot.head()"
   ]
  },
  {
   "cell_type": "markdown",
   "metadata": {},
   "source": [
    "For most of these variants, we just want to include data for the variant as is (the _Identifier column). But for Omicron, we want more detailed data. Let's break out Omicron using a separate analysis. First, we'll get just our omicron rows from the raw dataset."
   ]
  },
  {
   "cell_type": "code",
   "execution_count": 12,
   "metadata": {},
   "outputs": [],
   "source": [
    "omicron = raw[raw[\"_Identifier\"].isin([\"BA.1\", \"BA.2\", \"BA.3\", \"BA.4\", \"BA.5\"])]"
   ]
  },
  {
   "cell_type": "markdown",
   "metadata": {},
   "source": [
    "Let's see what values Omicron is grouped into."
   ]
  },
  {
   "cell_type": "code",
   "execution_count": 13,
   "metadata": {},
   "outputs": [
    {
     "data": {
      "text/plain": [
       "array(['BA.1.1', 'BA.1.1.16', 'BA.1.15', 'Other BA.1', 'BA.2',\n",
       "       'BA.2.12.1', 'BA.2.3', 'Other BA.2', 'BA.3', 'BA.3.1', 'BA.4',\n",
       "       'BA.5', 'BA.5.1'], dtype=object)"
      ]
     },
     "execution_count": 13,
     "metadata": {},
     "output_type": "execute_result"
    }
   ],
   "source": [
    "omicron[\"Lineage Grouped\"].unique()"
   ]
  },
  {
   "cell_type": "markdown",
   "metadata": {},
   "source": [
    "There are four variants here, plus an \"Other omicron\" category."
   ]
  },
  {
   "cell_type": "code",
   "execution_count": 14,
   "metadata": {},
   "outputs": [
    {
     "name": "stderr",
     "output_type": "stream",
     "text": [
      "C:\\Users\\dexmc\\AppData\\Local\\Temp\\ipykernel_95452\\3346719341.py:1: SettingWithCopyWarning: \n",
      "A value is trying to be set on a copy of a slice from a DataFrame.\n",
      "Try using .loc[row_indexer,col_indexer] = value instead\n",
      "\n",
      "See the caveats in the documentation: https://pandas.pydata.org/pandas-docs/stable/user_guide/indexing.html#returning-a-view-versus-a-copy\n",
      "  omicron.loc[:, \"Lineage Grouped\"] = (omicron\n"
     ]
    },
    {
     "data": {
      "text/html": [
       "<div>\n",
       "<style scoped>\n",
       "    .dataframe tbody tr th:only-of-type {\n",
       "        vertical-align: middle;\n",
       "    }\n",
       "\n",
       "    .dataframe tbody tr th {\n",
       "        vertical-align: top;\n",
       "    }\n",
       "\n",
       "    .dataframe thead th {\n",
       "        text-align: right;\n",
       "    }\n",
       "</style>\n",
       "<table border=\"1\" class=\"dataframe\">\n",
       "  <thead>\n",
       "    <tr style=\"text-align: right;\">\n",
       "      <th></th>\n",
       "      <th>Variant Grouping</th>\n",
       "      <th>_Identifier</th>\n",
       "      <th>Lineage Grouped</th>\n",
       "      <th>%CT Count of Sample #</th>\n",
       "      <th>Collection (week)</th>\n",
       "    </tr>\n",
       "  </thead>\n",
       "  <tbody>\n",
       "    <tr>\n",
       "      <th>512</th>\n",
       "      <td>Omicron</td>\n",
       "      <td>BA.1</td>\n",
       "      <td>BA.1.1</td>\n",
       "      <td>0.000</td>\n",
       "      <td>2021-01-17</td>\n",
       "    </tr>\n",
       "    <tr>\n",
       "      <th>513</th>\n",
       "      <td>Omicron</td>\n",
       "      <td>BA.1</td>\n",
       "      <td>BA.1.1</td>\n",
       "      <td>0.001</td>\n",
       "      <td>2021-11-21</td>\n",
       "    </tr>\n",
       "    <tr>\n",
       "      <th>514</th>\n",
       "      <td>Omicron</td>\n",
       "      <td>BA.1</td>\n",
       "      <td>BA.1.1</td>\n",
       "      <td>0.006</td>\n",
       "      <td>2021-11-28</td>\n",
       "    </tr>\n",
       "    <tr>\n",
       "      <th>515</th>\n",
       "      <td>Omicron</td>\n",
       "      <td>BA.1</td>\n",
       "      <td>BA.1.1</td>\n",
       "      <td>0.060</td>\n",
       "      <td>2021-12-05</td>\n",
       "    </tr>\n",
       "    <tr>\n",
       "      <th>516</th>\n",
       "      <td>Omicron</td>\n",
       "      <td>BA.1</td>\n",
       "      <td>BA.1.1</td>\n",
       "      <td>0.120</td>\n",
       "      <td>2021-12-12</td>\n",
       "    </tr>\n",
       "  </tbody>\n",
       "</table>\n",
       "</div>"
      ],
      "text/plain": [
       "    Variant Grouping _Identifier Lineage Grouped  %CT Count of Sample #  \\\n",
       "512          Omicron        BA.1          BA.1.1                  0.000   \n",
       "513          Omicron        BA.1          BA.1.1                  0.001   \n",
       "514          Omicron        BA.1          BA.1.1                  0.006   \n",
       "515          Omicron        BA.1          BA.1.1                  0.060   \n",
       "516          Omicron        BA.1          BA.1.1                  0.120   \n",
       "\n",
       "    Collection (week)  \n",
       "512        2021-01-17  \n",
       "513        2021-11-21  \n",
       "514        2021-11-28  \n",
       "515        2021-12-05  \n",
       "516        2021-12-12  "
      ]
     },
     "execution_count": 14,
     "metadata": {},
     "output_type": "execute_result"
    }
   ],
   "source": [
    "omicron.loc[:, \"Lineage Grouped\"] = (omicron\n",
    "                              .loc[:, \"Lineage Grouped\"]\n",
    "                              )\n",
    "\n",
    "omicron.head()"
   ]
  },
  {
   "cell_type": "markdown",
   "metadata": {},
   "source": [
    "Now, we'll use groupby and sum to consolidate our omicron values together, just like we did for all the other variants above. We'll join onto the other table shortly."
   ]
  },
  {
   "cell_type": "code",
   "execution_count": 15,
   "metadata": {},
   "outputs": [],
   "source": [
    "omicron = (omicron\n",
    "           .groupby([\"Lineage Grouped\", \"Collection (week)\"]).sum()\n",
    "           .reset_index()\n",
    "           .pivot(index=\"Collection (week)\", columns=\"Lineage Grouped\", values=\"%CT Count of Sample #\")\n",
    "           )"
   ]
  },
  {
   "cell_type": "markdown",
   "metadata": {},
   "source": [
    "We're also going to rename these so they're a little cleaner, before we join onto the other table."
   ]
  },
  {
   "cell_type": "code",
   "execution_count": 16,
   "metadata": {},
   "outputs": [],
   "source": [
    "omicron.columns = \"Omicron - \" + omicron.columns"
   ]
  },
  {
   "cell_type": "markdown",
   "metadata": {},
   "source": [
    "Now, we'll drop some variants we don't care too much about (and also the Omicron aggregate column), join on our new omicron breakdowns, and do some renaming of columns for clarity."
   ]
  },
  {
   "cell_type": "code",
   "execution_count": 29,
   "metadata": {},
   "outputs": [],
   "source": [
    "pivot = (pivot\n",
    "         .drop(columns=[\"Eta\", \"Beta\"])\n",
    "         )"
   ]
  },
  {
   "cell_type": "markdown",
   "metadata": {},
   "source": [
    "We'll also multiple by 100 so we get real percentages and can visualize it more clearly."
   ]
  },
  {
   "cell_type": "code",
   "execution_count": 30,
   "metadata": {},
   "outputs": [
    {
     "data": {
      "text/html": [
       "<div>\n",
       "<style scoped>\n",
       "    .dataframe tbody tr th:only-of-type {\n",
       "        vertical-align: middle;\n",
       "    }\n",
       "\n",
       "    .dataframe tbody tr th {\n",
       "        vertical-align: top;\n",
       "    }\n",
       "\n",
       "    .dataframe thead th {\n",
       "        text-align: right;\n",
       "    }\n",
       "</style>\n",
       "<table border=\"1\" class=\"dataframe\">\n",
       "  <thead>\n",
       "    <tr style=\"text-align: right;\">\n",
       "      <th>_Identifier</th>\n",
       "      <th>Alpha</th>\n",
       "      <th>BA.1</th>\n",
       "      <th>BA.2</th>\n",
       "      <th>BA.3</th>\n",
       "      <th>BA.4</th>\n",
       "      <th>BA.5</th>\n",
       "      <th>Delta</th>\n",
       "      <th>Gamma</th>\n",
       "      <th>Other</th>\n",
       "      <th>Recombinants</th>\n",
       "    </tr>\n",
       "    <tr>\n",
       "      <th>Collection (week)</th>\n",
       "      <th></th>\n",
       "      <th></th>\n",
       "      <th></th>\n",
       "      <th></th>\n",
       "      <th></th>\n",
       "      <th></th>\n",
       "      <th></th>\n",
       "      <th></th>\n",
       "      <th></th>\n",
       "      <th></th>\n",
       "    </tr>\n",
       "  </thead>\n",
       "  <tbody>\n",
       "    <tr>\n",
       "      <th>2021-01-03</th>\n",
       "      <td>1.4</td>\n",
       "      <td>NaN</td>\n",
       "      <td>NaN</td>\n",
       "      <td>NaN</td>\n",
       "      <td>NaN</td>\n",
       "      <td>NaN</td>\n",
       "      <td>NaN</td>\n",
       "      <td>NaN</td>\n",
       "      <td>96.7</td>\n",
       "      <td>NaN</td>\n",
       "    </tr>\n",
       "    <tr>\n",
       "      <th>2021-01-10</th>\n",
       "      <td>2.8</td>\n",
       "      <td>NaN</td>\n",
       "      <td>NaN</td>\n",
       "      <td>NaN</td>\n",
       "      <td>NaN</td>\n",
       "      <td>NaN</td>\n",
       "      <td>NaN</td>\n",
       "      <td>0.1</td>\n",
       "      <td>95.8</td>\n",
       "      <td>NaN</td>\n",
       "    </tr>\n",
       "    <tr>\n",
       "      <th>2021-01-17</th>\n",
       "      <td>5.2</td>\n",
       "      <td>0.0</td>\n",
       "      <td>NaN</td>\n",
       "      <td>NaN</td>\n",
       "      <td>NaN</td>\n",
       "      <td>NaN</td>\n",
       "      <td>NaN</td>\n",
       "      <td>NaN</td>\n",
       "      <td>93.8</td>\n",
       "      <td>NaN</td>\n",
       "    </tr>\n",
       "    <tr>\n",
       "      <th>2021-01-24</th>\n",
       "      <td>7.8</td>\n",
       "      <td>NaN</td>\n",
       "      <td>NaN</td>\n",
       "      <td>NaN</td>\n",
       "      <td>NaN</td>\n",
       "      <td>NaN</td>\n",
       "      <td>0.0</td>\n",
       "      <td>NaN</td>\n",
       "      <td>90.5</td>\n",
       "      <td>NaN</td>\n",
       "    </tr>\n",
       "    <tr>\n",
       "      <th>2021-01-31</th>\n",
       "      <td>14.8</td>\n",
       "      <td>NaN</td>\n",
       "      <td>NaN</td>\n",
       "      <td>NaN</td>\n",
       "      <td>NaN</td>\n",
       "      <td>NaN</td>\n",
       "      <td>NaN</td>\n",
       "      <td>0.3</td>\n",
       "      <td>84.8</td>\n",
       "      <td>NaN</td>\n",
       "    </tr>\n",
       "    <tr>\n",
       "      <th>...</th>\n",
       "      <td>...</td>\n",
       "      <td>...</td>\n",
       "      <td>...</td>\n",
       "      <td>...</td>\n",
       "      <td>...</td>\n",
       "      <td>...</td>\n",
       "      <td>...</td>\n",
       "      <td>...</td>\n",
       "      <td>...</td>\n",
       "      <td>...</td>\n",
       "    </tr>\n",
       "    <tr>\n",
       "      <th>2022-05-01</th>\n",
       "      <td>NaN</td>\n",
       "      <td>2.6</td>\n",
       "      <td>97.2</td>\n",
       "      <td>0.1</td>\n",
       "      <td>0.2</td>\n",
       "      <td>0.1</td>\n",
       "      <td>NaN</td>\n",
       "      <td>NaN</td>\n",
       "      <td>0.0</td>\n",
       "      <td>NaN</td>\n",
       "    </tr>\n",
       "    <tr>\n",
       "      <th>2022-05-08</th>\n",
       "      <td>NaN</td>\n",
       "      <td>1.6</td>\n",
       "      <td>97.6</td>\n",
       "      <td>0.1</td>\n",
       "      <td>0.5</td>\n",
       "      <td>0.2</td>\n",
       "      <td>NaN</td>\n",
       "      <td>NaN</td>\n",
       "      <td>NaN</td>\n",
       "      <td>NaN</td>\n",
       "    </tr>\n",
       "    <tr>\n",
       "      <th>2022-05-15</th>\n",
       "      <td>NaN</td>\n",
       "      <td>0.9</td>\n",
       "      <td>97.0</td>\n",
       "      <td>0.1</td>\n",
       "      <td>0.8</td>\n",
       "      <td>1.1</td>\n",
       "      <td>NaN</td>\n",
       "      <td>NaN</td>\n",
       "      <td>0.0</td>\n",
       "      <td>NaN</td>\n",
       "    </tr>\n",
       "    <tr>\n",
       "      <th>2022-05-22</th>\n",
       "      <td>NaN</td>\n",
       "      <td>1.1</td>\n",
       "      <td>92.7</td>\n",
       "      <td>0.0</td>\n",
       "      <td>3.1</td>\n",
       "      <td>3.0</td>\n",
       "      <td>NaN</td>\n",
       "      <td>NaN</td>\n",
       "      <td>NaN</td>\n",
       "      <td>NaN</td>\n",
       "    </tr>\n",
       "    <tr>\n",
       "      <th>2022-05-29</th>\n",
       "      <td>NaN</td>\n",
       "      <td>0.3</td>\n",
       "      <td>89.2</td>\n",
       "      <td>0.2</td>\n",
       "      <td>3.9</td>\n",
       "      <td>6.5</td>\n",
       "      <td>NaN</td>\n",
       "      <td>NaN</td>\n",
       "      <td>0.1</td>\n",
       "      <td>NaN</td>\n",
       "    </tr>\n",
       "  </tbody>\n",
       "</table>\n",
       "<p>74 rows × 10 columns</p>\n",
       "</div>"
      ],
      "text/plain": [
       "_Identifier        Alpha  BA.1  BA.2  BA.3  BA.4  BA.5  Delta  Gamma  Other  \\\n",
       "Collection (week)                                                             \n",
       "2021-01-03           1.4   NaN   NaN   NaN   NaN   NaN    NaN    NaN   96.7   \n",
       "2021-01-10           2.8   NaN   NaN   NaN   NaN   NaN    NaN    0.1   95.8   \n",
       "2021-01-17           5.2   0.0   NaN   NaN   NaN   NaN    NaN    NaN   93.8   \n",
       "2021-01-24           7.8   NaN   NaN   NaN   NaN   NaN    0.0    NaN   90.5   \n",
       "2021-01-31          14.8   NaN   NaN   NaN   NaN   NaN    NaN    0.3   84.8   \n",
       "...                  ...   ...   ...   ...   ...   ...    ...    ...    ...   \n",
       "2022-05-01           NaN   2.6  97.2   0.1   0.2   0.1    NaN    NaN    0.0   \n",
       "2022-05-08           NaN   1.6  97.6   0.1   0.5   0.2    NaN    NaN    NaN   \n",
       "2022-05-15           NaN   0.9  97.0   0.1   0.8   1.1    NaN    NaN    0.0   \n",
       "2022-05-22           NaN   1.1  92.7   0.0   3.1   3.0    NaN    NaN    NaN   \n",
       "2022-05-29           NaN   0.3  89.2   0.2   3.9   6.5    NaN    NaN    0.1   \n",
       "\n",
       "_Identifier        Recombinants  \n",
       "Collection (week)                \n",
       "2021-01-03                  NaN  \n",
       "2021-01-10                  NaN  \n",
       "2021-01-17                  NaN  \n",
       "2021-01-24                  NaN  \n",
       "2021-01-31                  NaN  \n",
       "...                         ...  \n",
       "2022-05-01                  NaN  \n",
       "2022-05-08                  NaN  \n",
       "2022-05-15                  NaN  \n",
       "2022-05-22                  NaN  \n",
       "2022-05-29                  NaN  \n",
       "\n",
       "[74 rows x 10 columns]"
      ]
     },
     "execution_count": 30,
     "metadata": {},
     "output_type": "execute_result"
    }
   ],
   "source": [
    "pivot = pivot * 100\n",
    "pivot = pivot[pivot.index >= \"2021-01-01\"]\n",
    "\n",
    "pivot"
   ]
  },
  {
   "cell_type": "markdown",
   "metadata": {},
   "source": [
    "Let's plot it using pandas before we take it over to datawrapper for the public-facing version."
   ]
  },
  {
   "cell_type": "code",
   "execution_count": 31,
   "metadata": {},
   "outputs": [
    {
     "name": "stderr",
     "output_type": "stream",
     "text": [
      "INFO:root:SUCCESS: Data added to chart.\n",
      "INFO:root:SUCCESS: Metadata updated.\n",
      "c:\\Users\\dexmc\\anaconda3\\envs\\geo\\lib\\site-packages\\IPython\\core\\display.py:419: UserWarning: Consider using IPython.display.IFrame instead\n",
      "  warnings.warn(\"Consider using IPython.display.IFrame instead\")\n"
     ]
    },
    {
     "data": {
      "text/html": [
       "<iframe title=\"COVID-19 variants in Canada\" aria-label=\"Interactive area chart\" id=\"datawrapper-chart-mqQzc\" src=\"https://datawrapper.dwcdn.net/mqQzc/6/\" scrolling=\"no\" frameborder=\"0\" style=\"border: none;\" width=\"1000\" height=\"600\"></iframe>"
      ],
      "text/plain": [
       "<IPython.core.display.HTML object>"
      ]
     },
     "execution_count": 31,
     "metadata": {},
     "output_type": "execute_result"
    }
   ],
   "source": [
    "datawrappergraphics.Chart(\"jJRa0\").data(pivot).show()"
   ]
  },
  {
   "cell_type": "markdown",
   "metadata": {},
   "source": [
    "\\-30\\-"
   ]
  }
 ],
 "metadata": {
  "kernelspec": {
   "display_name": "Python 3.10.2 ('geo')",
   "language": "python",
   "name": "python3"
  },
  "language_info": {
   "codemirror_mode": {
    "name": "ipython",
    "version": 3
   },
   "file_extension": ".py",
   "mimetype": "text/x-python",
   "name": "python",
   "nbconvert_exporter": "python",
   "pygments_lexer": "ipython3",
   "version": "3.10.2"
  },
  "orig_nbformat": 4,
  "vscode": {
   "interpreter": {
    "hash": "73de8b438f32372771bda1aa2e3d2689a59747422210df3e3470a45f58c477e6"
   }
  }
 },
 "nbformat": 4,
 "nbformat_minor": 2
}
