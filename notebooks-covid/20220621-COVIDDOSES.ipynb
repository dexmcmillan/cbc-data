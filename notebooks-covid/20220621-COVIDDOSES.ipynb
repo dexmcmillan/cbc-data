{
 "cells": [
  {
   "cell_type": "markdown",
   "metadata": {},
   "source": [
    "# COVID-19 vaccination date - dose number by week\n",
    "*June 21, 2022*"
   ]
  },
  {
   "cell_type": "markdown",
   "metadata": {},
   "source": [
    "It's been a while since we've looked at COVID data. I had a request to reproduce a PHAC graphic showing doses administered every week in Canada, and what dose number it was. Let's import pandas, and a module I wrote to interact with datawrapper in python."
   ]
  },
  {
   "cell_type": "code",
   "execution_count": 21,
   "metadata": {},
   "outputs": [],
   "source": [
    "import pandas as pd\n",
    "import datawrappergraphics"
   ]
  },
  {
   "cell_type": "markdown",
   "metadata": {},
   "source": [
    "Now let's load in the PHAC dataset."
   ]
  },
  {
   "cell_type": "code",
   "execution_count": 22,
   "metadata": {},
   "outputs": [
    {
     "data": {
      "text/html": [
       "<div>\n",
       "<style scoped>\n",
       "    .dataframe tbody tr th:only-of-type {\n",
       "        vertical-align: middle;\n",
       "    }\n",
       "\n",
       "    .dataframe tbody tr th {\n",
       "        vertical-align: top;\n",
       "    }\n",
       "\n",
       "    .dataframe thead th {\n",
       "        text-align: right;\n",
       "    }\n",
       "</style>\n",
       "<table border=\"1\" class=\"dataframe\">\n",
       "  <thead>\n",
       "    <tr style=\"text-align: right;\">\n",
       "      <th></th>\n",
       "      <th>week_end</th>\n",
       "      <th>pruid</th>\n",
       "      <th>prename</th>\n",
       "      <th>prfname</th>\n",
       "      <th>product_name</th>\n",
       "      <th>numtotal_totaldoses_admin</th>\n",
       "      <th>numtotal_dose1_admin</th>\n",
       "      <th>numtotal_dose2_admin</th>\n",
       "      <th>numtotal_dose3_admin</th>\n",
       "      <th>numtotal_dose4_admin</th>\n",
       "      <th>...</th>\n",
       "      <th>numdelta_dose3</th>\n",
       "      <th>numdelta_dose4</th>\n",
       "      <th>numdelta_dose5+</th>\n",
       "      <th>numdelta_NotReported</th>\n",
       "      <th>num2weekdelta_dose1</th>\n",
       "      <th>num2weekdelta_dose2</th>\n",
       "      <th>num2weekdelta_dose3</th>\n",
       "      <th>num2weekdelta_dose4</th>\n",
       "      <th>num2weekdelta_dose5+</th>\n",
       "      <th>num2weekdelta_NotReported</th>\n",
       "    </tr>\n",
       "  </thead>\n",
       "  <tbody>\n",
       "    <tr>\n",
       "      <th>0</th>\n",
       "      <td>2020-12-19</td>\n",
       "      <td>1</td>\n",
       "      <td>Canada</td>\n",
       "      <td>Canada</td>\n",
       "      <td>Not reported</td>\n",
       "      <td>NaN</td>\n",
       "      <td>0.0</td>\n",
       "      <td>0.0</td>\n",
       "      <td>NaN</td>\n",
       "      <td>NaN</td>\n",
       "      <td>...</td>\n",
       "      <td>NaN</td>\n",
       "      <td>NaN</td>\n",
       "      <td>NaN</td>\n",
       "      <td>NaN</td>\n",
       "      <td>NaN</td>\n",
       "      <td>NaN</td>\n",
       "      <td>NaN</td>\n",
       "      <td>NaN</td>\n",
       "      <td>NaN</td>\n",
       "      <td>NaN</td>\n",
       "    </tr>\n",
       "    <tr>\n",
       "      <th>1</th>\n",
       "      <td>2020-12-19</td>\n",
       "      <td>1</td>\n",
       "      <td>Canada</td>\n",
       "      <td>Canada</td>\n",
       "      <td>Pfizer-BioNTech Comirnaty</td>\n",
       "      <td>NaN</td>\n",
       "      <td>7632.0</td>\n",
       "      <td>0.0</td>\n",
       "      <td>NaN</td>\n",
       "      <td>NaN</td>\n",
       "      <td>...</td>\n",
       "      <td>NaN</td>\n",
       "      <td>NaN</td>\n",
       "      <td>NaN</td>\n",
       "      <td>NaN</td>\n",
       "      <td>NaN</td>\n",
       "      <td>NaN</td>\n",
       "      <td>NaN</td>\n",
       "      <td>NaN</td>\n",
       "      <td>NaN</td>\n",
       "      <td>NaN</td>\n",
       "    </tr>\n",
       "    <tr>\n",
       "      <th>2</th>\n",
       "      <td>2020-12-19</td>\n",
       "      <td>1</td>\n",
       "      <td>Canada</td>\n",
       "      <td>Canada</td>\n",
       "      <td>Total</td>\n",
       "      <td>NaN</td>\n",
       "      <td>7634.0</td>\n",
       "      <td>0.0</td>\n",
       "      <td>NaN</td>\n",
       "      <td>NaN</td>\n",
       "      <td>...</td>\n",
       "      <td>NaN</td>\n",
       "      <td>NaN</td>\n",
       "      <td>NaN</td>\n",
       "      <td>NaN</td>\n",
       "      <td>NaN</td>\n",
       "      <td>NaN</td>\n",
       "      <td>NaN</td>\n",
       "      <td>NaN</td>\n",
       "      <td>NaN</td>\n",
       "      <td>NaN</td>\n",
       "    </tr>\n",
       "  </tbody>\n",
       "</table>\n",
       "<p>3 rows × 24 columns</p>\n",
       "</div>"
      ],
      "text/plain": [
       "     week_end  pruid prename prfname               product_name  \\\n",
       "0  2020-12-19      1  Canada  Canada               Not reported   \n",
       "1  2020-12-19      1  Canada  Canada  Pfizer-BioNTech Comirnaty   \n",
       "2  2020-12-19      1  Canada  Canada                      Total   \n",
       "\n",
       "   numtotal_totaldoses_admin  numtotal_dose1_admin  numtotal_dose2_admin  \\\n",
       "0                        NaN                   0.0                   0.0   \n",
       "1                        NaN                7632.0                   0.0   \n",
       "2                        NaN                7634.0                   0.0   \n",
       "\n",
       "   numtotal_dose3_admin  numtotal_dose4_admin  ...  numdelta_dose3  \\\n",
       "0                   NaN                   NaN  ...             NaN   \n",
       "1                   NaN                   NaN  ...             NaN   \n",
       "2                   NaN                   NaN  ...             NaN   \n",
       "\n",
       "   numdelta_dose4  numdelta_dose5+  numdelta_NotReported  num2weekdelta_dose1  \\\n",
       "0             NaN              NaN                   NaN                  NaN   \n",
       "1             NaN              NaN                   NaN                  NaN   \n",
       "2             NaN              NaN                   NaN                  NaN   \n",
       "\n",
       "   num2weekdelta_dose2  num2weekdelta_dose3  num2weekdelta_dose4  \\\n",
       "0                  NaN                  NaN                  NaN   \n",
       "1                  NaN                  NaN                  NaN   \n",
       "2                  NaN                  NaN                  NaN   \n",
       "\n",
       "  num2weekdelta_dose5+ num2weekdelta_NotReported  \n",
       "0                  NaN                       NaN  \n",
       "1                  NaN                       NaN  \n",
       "2                  NaN                       NaN  \n",
       "\n",
       "[3 rows x 24 columns]"
      ]
     },
     "execution_count": 22,
     "metadata": {},
     "output_type": "execute_result"
    }
   ],
   "source": [
    "raw = pd.read_csv(\"https://health-infobase.canada.ca/src/data/covidLive/vaccination-administration-bydosenumber2.csv\")\n",
    "\n",
    "raw.head(3)"
   ]
  },
  {
   "cell_type": "markdown",
   "metadata": {},
   "source": [
    "Now let's filter to show Canada and total doses (ie. not separated by brand). We'll drop the index level, as well."
   ]
  },
  {
   "cell_type": "code",
   "execution_count": 23,
   "metadata": {},
   "outputs": [
    {
     "name": "stderr",
     "output_type": "stream",
     "text": [
      "INFO:root:SUCCESS: Data added to chart.\n",
      "INFO:root:SUCCESS: Metadata updated.\n",
      "c:\\Users\\dexmc\\anaconda3\\envs\\geo\\lib\\site-packages\\IPython\\core\\display.py:419: UserWarning: Consider using IPython.display.IFrame instead\n",
      "  warnings.warn(\"Consider using IPython.display.IFrame instead\")\n"
     ]
    },
    {
     "data": {
      "text/html": [
       "<iframe title=\"Number of COVID-19 vaccine doses administered in Canada\" aria-label=\"Stacked Column Chart\" id=\"datawrapper-chart-RTdj3\" src=\"https://datawrapper.dwcdn.net/RTdj3/2/\" scrolling=\"no\" frameborder=\"0\" style=\"border: none;\" width=\"720\" height=\"550\"></iframe>"
      ],
      "text/plain": [
       "<IPython.core.display.HTML object>"
      ]
     },
     "execution_count": 23,
     "metadata": {},
     "output_type": "execute_result"
    }
   ],
   "source": [
    "pivot = (raw\n",
    "         .loc[(raw[\"prename\"] == \"Canada\") & (raw[\"product_name\"] == \"Total\")]\n",
    "         .pivot(index=\"week_end\", columns=\"prename\", values=[\"numdelta_dose1\", \"numdelta_dose2\", \"numdelta_dose3\", \"numdelta_dose4\", \"numdelta_dose5+\"])\n",
    "         .droplevel(level=1, axis=1)\n",
    "         )\n",
    "\n",
    "pivot"
   ]
  },
  {
   "cell_type": "markdown",
   "metadata": {},
   "source": [
    "Now let's send it to the datawrapper and see the results!"
   ]
  },
  {
   "cell_type": "code",
   "execution_count": null,
   "metadata": {},
   "outputs": [],
   "source": [
    "datawrappergraphics.Chart(\"RTdj3\").data(pivot).show()"
   ]
  },
  {
   "cell_type": "markdown",
   "metadata": {},
   "source": [
    "\\-30\\-"
   ]
  }
 ],
 "metadata": {
  "kernelspec": {
   "display_name": "Python 3.10.2 ('geo')",
   "language": "python",
   "name": "python3"
  },
  "language_info": {
   "codemirror_mode": {
    "name": "ipython",
    "version": 3
   },
   "file_extension": ".py",
   "mimetype": "text/x-python",
   "name": "python",
   "nbconvert_exporter": "python",
   "pygments_lexer": "ipython3",
   "version": "3.10.2"
  },
  "orig_nbformat": 4,
  "vscode": {
   "interpreter": {
    "hash": "73de8b438f32372771bda1aa2e3d2689a59747422210df3e3470a45f58c477e6"
   }
  }
 },
 "nbformat": 4,
 "nbformat_minor": 2
}
