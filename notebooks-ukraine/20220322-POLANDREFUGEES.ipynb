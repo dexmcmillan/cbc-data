{
 "cells": [
  {
   "cell_type": "markdown",
   "metadata": {},
   "source": [
    "# Ukrainian refugees entering Poland\n",
    "\n",
    "*March 22, 2022*"
   ]
  },
  {
   "cell_type": "markdown",
   "metadata": {},
   "source": [
    "Yesterday, I did some analysis on UNHCR refugee data and how many refugees are entering countries neighbouring Ukraine. Today, I want to focus in on Poland for a few graphics. First, import pandas and requests, then read in raw data from previous years from UNHCR."
   ]
  },
  {
   "cell_type": "code",
   "execution_count": 14,
   "metadata": {},
   "outputs": [
    {
     "data": {
      "text/html": [
       "<div>\n",
       "<style scoped>\n",
       "    .dataframe tbody tr th:only-of-type {\n",
       "        vertical-align: middle;\n",
       "    }\n",
       "\n",
       "    .dataframe tbody tr th {\n",
       "        vertical-align: top;\n",
       "    }\n",
       "\n",
       "    .dataframe thead th {\n",
       "        text-align: right;\n",
       "    }\n",
       "</style>\n",
       "<table border=\"1\" class=\"dataframe\">\n",
       "  <thead>\n",
       "    <tr style=\"text-align: right;\">\n",
       "      <th></th>\n",
       "      <th>Year</th>\n",
       "      <th>Country of origin</th>\n",
       "      <th>Country of origin (ISO)</th>\n",
       "      <th>Country of asylum</th>\n",
       "      <th>Country of asylum (ISO)</th>\n",
       "      <th>Refugees under UNHCR's mandate</th>\n",
       "      <th>Asylum-seekers</th>\n",
       "      <th>IDPs of concern to UNHCR</th>\n",
       "      <th>Venezuelans displaced abroad</th>\n",
       "      <th>Stateless persons</th>\n",
       "      <th>Others of concern</th>\n",
       "    </tr>\n",
       "  </thead>\n",
       "  <tbody>\n",
       "    <tr>\n",
       "      <th>0</th>\n",
       "      <td>2016</td>\n",
       "      <td>Afghanistan</td>\n",
       "      <td>AFG</td>\n",
       "      <td>Afghanistan</td>\n",
       "      <td>AFG</td>\n",
       "      <td>0</td>\n",
       "      <td>0</td>\n",
       "      <td>1797551</td>\n",
       "      <td>NaN</td>\n",
       "      <td>0</td>\n",
       "      <td>114221</td>\n",
       "    </tr>\n",
       "    <tr>\n",
       "      <th>1</th>\n",
       "      <td>2016</td>\n",
       "      <td>Afghanistan</td>\n",
       "      <td>AFG</td>\n",
       "      <td>Egypt</td>\n",
       "      <td>EGY</td>\n",
       "      <td>14</td>\n",
       "      <td>21</td>\n",
       "      <td>0</td>\n",
       "      <td>NaN</td>\n",
       "      <td>0</td>\n",
       "      <td>0</td>\n",
       "    </tr>\n",
       "    <tr>\n",
       "      <th>2</th>\n",
       "      <td>2016</td>\n",
       "      <td>Afghanistan</td>\n",
       "      <td>AFG</td>\n",
       "      <td>Argentina</td>\n",
       "      <td>ARG</td>\n",
       "      <td>5</td>\n",
       "      <td>0</td>\n",
       "      <td>0</td>\n",
       "      <td>NaN</td>\n",
       "      <td>0</td>\n",
       "      <td>0</td>\n",
       "    </tr>\n",
       "    <tr>\n",
       "      <th>3</th>\n",
       "      <td>2016</td>\n",
       "      <td>Afghanistan</td>\n",
       "      <td>AFG</td>\n",
       "      <td>Australia</td>\n",
       "      <td>AUS</td>\n",
       "      <td>9217</td>\n",
       "      <td>2077</td>\n",
       "      <td>0</td>\n",
       "      <td>NaN</td>\n",
       "      <td>0</td>\n",
       "      <td>0</td>\n",
       "    </tr>\n",
       "    <tr>\n",
       "      <th>4</th>\n",
       "      <td>2016</td>\n",
       "      <td>Afghanistan</td>\n",
       "      <td>AFG</td>\n",
       "      <td>Austria</td>\n",
       "      <td>AUT</td>\n",
       "      <td>20220</td>\n",
       "      <td>29783</td>\n",
       "      <td>0</td>\n",
       "      <td>NaN</td>\n",
       "      <td>0</td>\n",
       "      <td>0</td>\n",
       "    </tr>\n",
       "  </tbody>\n",
       "</table>\n",
       "</div>"
      ],
      "text/plain": [
       "   Year Country of origin Country of origin (ISO) Country of asylum  \\\n",
       "0  2016       Afghanistan                     AFG       Afghanistan   \n",
       "1  2016       Afghanistan                     AFG             Egypt   \n",
       "2  2016       Afghanistan                     AFG         Argentina   \n",
       "3  2016       Afghanistan                     AFG         Australia   \n",
       "4  2016       Afghanistan                     AFG           Austria   \n",
       "\n",
       "  Country of asylum (ISO)  Refugees under UNHCR's mandate  Asylum-seekers  \\\n",
       "0                     AFG                               0               0   \n",
       "1                     EGY                              14              21   \n",
       "2                     ARG                               5               0   \n",
       "3                     AUS                            9217            2077   \n",
       "4                     AUT                           20220           29783   \n",
       "\n",
       "   IDPs of concern to UNHCR  Venezuelans displaced abroad  Stateless persons  \\\n",
       "0                   1797551                           NaN                  0   \n",
       "1                         0                           NaN                  0   \n",
       "2                         0                           NaN                  0   \n",
       "3                         0                           NaN                  0   \n",
       "4                         0                           NaN                  0   \n",
       "\n",
       "   Others of concern  \n",
       "0             114221  \n",
       "1                  0  \n",
       "2                  0  \n",
       "3                  0  \n",
       "4                  0  "
      ]
     },
     "metadata": {},
     "output_type": "display_data"
    }
   ],
   "source": [
    "import pandas as pd\n",
    "import requests\n",
    "\n",
    "raw = pd.read_csv('../raw/RAW 2022 UNHCR REFUGEES.csv', skiprows=14)\n",
    "\n",
    "display(raw.head())"
   ]
  },
  {
   "cell_type": "markdown",
   "metadata": {},
   "source": [
    "### Poland's crisis refugees vs. crisis refugees in other neighbouring countries"
   ]
  },
  {
   "cell_type": "markdown",
   "metadata": {},
   "source": [
    "Next, we'll grab the Ukrainian crisis refugee data via this API."
   ]
  },
  {
   "cell_type": "code",
   "execution_count": 23,
   "metadata": {},
   "outputs": [
    {
     "data": {
      "text/html": [
       "<div>\n",
       "<style scoped>\n",
       "    .dataframe tbody tr th:only-of-type {\n",
       "        vertical-align: middle;\n",
       "    }\n",
       "\n",
       "    .dataframe tbody tr th {\n",
       "        vertical-align: top;\n",
       "    }\n",
       "\n",
       "    .dataframe thead th {\n",
       "        text-align: right;\n",
       "    }\n",
       "</style>\n",
       "<table border=\"1\" class=\"dataframe\">\n",
       "  <thead>\n",
       "    <tr style=\"text-align: right;\">\n",
       "      <th></th>\n",
       "      <th>individuals</th>\n",
       "    </tr>\n",
       "    <tr>\n",
       "      <th>geomaster_name</th>\n",
       "      <th></th>\n",
       "    </tr>\n",
       "  </thead>\n",
       "  <tbody>\n",
       "    <tr>\n",
       "      <th>Poland</th>\n",
       "      <td>2113554</td>\n",
       "    </tr>\n",
       "    <tr>\n",
       "      <th>Romania</th>\n",
       "      <td>543308</td>\n",
       "    </tr>\n",
       "    <tr>\n",
       "      <th>Republic of Moldova</th>\n",
       "      <td>367913</td>\n",
       "    </tr>\n",
       "    <tr>\n",
       "      <th>Hungary</th>\n",
       "      <td>317863</td>\n",
       "    </tr>\n",
       "    <tr>\n",
       "      <th>Slovakia</th>\n",
       "      <td>253592</td>\n",
       "    </tr>\n",
       "    <tr>\n",
       "      <th>Russian Federation</th>\n",
       "      <td>252376</td>\n",
       "    </tr>\n",
       "    <tr>\n",
       "      <th>Belarus</th>\n",
       "      <td>4308</td>\n",
       "    </tr>\n",
       "  </tbody>\n",
       "</table>\n",
       "</div>"
      ],
      "text/plain": [
       "                    individuals\n",
       "geomaster_name                 \n",
       "Poland                  2113554\n",
       "Romania                  543308\n",
       "Republic of Moldova      367913\n",
       "Hungary                  317863\n",
       "Slovakia                 253592\n",
       "Russian Federation       252376\n",
       "Belarus                    4308"
      ]
     },
     "metadata": {},
     "output_type": "display_data"
    }
   ],
   "source": [
    "r = (requests\n",
    "     .get('https://data2.unhcr.org/population/get/sublocation?widget_id=286723&sv_id=54&population_group=5461&forcesublocation=0&fromDate=1900-01-01')\n",
    "     .json()\n",
    "     [\"data\"]\n",
    "     )\n",
    "\n",
    "crisis_refugees = (pd\n",
    "        .DataFrame(r)\n",
    "        .loc[:, [\"geomaster_name\", \"individuals\"]]\n",
    "        .set_index(\"geomaster_name\")\n",
    "        )\n",
    "\n",
    "display(crisis_refugees)"
   ]
  },
  {
   "cell_type": "markdown",
   "metadata": {},
   "source": [
    "I used this data to create [this visualization](https://www.datawrapper.de/_/PwuYO/)."
   ]
  },
  {
   "cell_type": "markdown",
   "metadata": {},
   "source": [
    "### Poland's crisis refugees vs. previous years"
   ]
  },
  {
   "cell_type": "markdown",
   "metadata": {},
   "source": [
    "Now let's pick out Poland from the raw data so we can compare these years to the crisis data."
   ]
  },
  {
   "cell_type": "code",
   "execution_count": 16,
   "metadata": {},
   "outputs": [
    {
     "data": {
      "text/html": [
       "<div>\n",
       "<style scoped>\n",
       "    .dataframe tbody tr th:only-of-type {\n",
       "        vertical-align: middle;\n",
       "    }\n",
       "\n",
       "    .dataframe tbody tr th {\n",
       "        vertical-align: top;\n",
       "    }\n",
       "\n",
       "    .dataframe thead th {\n",
       "        text-align: right;\n",
       "    }\n",
       "</style>\n",
       "<table border=\"1\" class=\"dataframe\">\n",
       "  <thead>\n",
       "    <tr style=\"text-align: right;\">\n",
       "      <th>Year</th>\n",
       "      <th>2016</th>\n",
       "      <th>2017</th>\n",
       "      <th>2018</th>\n",
       "      <th>2019</th>\n",
       "      <th>2020</th>\n",
       "      <th>2021</th>\n",
       "    </tr>\n",
       "    <tr>\n",
       "      <th>Country of asylum</th>\n",
       "      <th></th>\n",
       "      <th></th>\n",
       "      <th></th>\n",
       "      <th></th>\n",
       "      <th></th>\n",
       "      <th></th>\n",
       "    </tr>\n",
       "  </thead>\n",
       "  <tbody>\n",
       "    <tr>\n",
       "      <th>Poland</th>\n",
       "      <td>11738</td>\n",
       "      <td>12225</td>\n",
       "      <td>12495</td>\n",
       "      <td>12658</td>\n",
       "      <td>2771</td>\n",
       "      <td>3166</td>\n",
       "    </tr>\n",
       "  </tbody>\n",
       "</table>\n",
       "</div>"
      ],
      "text/plain": [
       "Year                2016   2017   2018   2019  2020  2021\n",
       "Country of asylum                                        \n",
       "Poland             11738  12225  12495  12658  2771  3166"
      ]
     },
     "metadata": {},
     "output_type": "display_data"
    }
   ],
   "source": [
    "poland = (raw\n",
    "            .loc[raw[\"Country of asylum\"] == \"Poland\", [\"Country of asylum\", \"Year\", \"Refugees under UNHCR's mandate\"]]\n",
    "            .pivot_table(columns=\"Year\", index=\"Country of asylum\", aggfunc='sum')\n",
    "            .droplevel(0, axis=1)\n",
    "            .sort_values(2021, ascending=False)\n",
    "            )\n",
    "\n",
    "display(poland)"
   ]
  },
  {
   "cell_type": "markdown",
   "metadata": {},
   "source": [
    "Now, we sum 2016-2021, then tack on our crisis data for Poland to create a table with all the information we need for our next graphic."
   ]
  },
  {
   "cell_type": "code",
   "execution_count": 21,
   "metadata": {},
   "outputs": [
    {
     "data": {
      "text/html": [
       "<div>\n",
       "<style scoped>\n",
       "    .dataframe tbody tr th:only-of-type {\n",
       "        vertical-align: middle;\n",
       "    }\n",
       "\n",
       "    .dataframe tbody tr th {\n",
       "        vertical-align: top;\n",
       "    }\n",
       "\n",
       "    .dataframe thead th {\n",
       "        text-align: right;\n",
       "    }\n",
       "</style>\n",
       "<table border=\"1\" class=\"dataframe\">\n",
       "  <thead>\n",
       "    <tr style=\"text-align: right;\">\n",
       "      <th>Country of asylum</th>\n",
       "      <th>Refugees</th>\n",
       "    </tr>\n",
       "  </thead>\n",
       "  <tbody>\n",
       "    <tr>\n",
       "      <th>2016</th>\n",
       "      <td>11738</td>\n",
       "    </tr>\n",
       "    <tr>\n",
       "      <th>2017</th>\n",
       "      <td>12225</td>\n",
       "    </tr>\n",
       "    <tr>\n",
       "      <th>2018</th>\n",
       "      <td>12495</td>\n",
       "    </tr>\n",
       "    <tr>\n",
       "      <th>2019</th>\n",
       "      <td>12658</td>\n",
       "    </tr>\n",
       "    <tr>\n",
       "      <th>2020</th>\n",
       "      <td>2771</td>\n",
       "    </tr>\n",
       "    <tr>\n",
       "      <th>2021</th>\n",
       "      <td>3166</td>\n",
       "    </tr>\n",
       "    <tr>\n",
       "      <th>sum</th>\n",
       "      <td>55053</td>\n",
       "    </tr>\n",
       "    <tr>\n",
       "      <th>crisis</th>\n",
       "      <td>2113554</td>\n",
       "    </tr>\n",
       "  </tbody>\n",
       "</table>\n",
       "</div>"
      ],
      "text/plain": [
       "Country of asylum  Refugees\n",
       "2016                  11738\n",
       "2017                  12225\n",
       "2018                  12495\n",
       "2019                  12658\n",
       "2020                   2771\n",
       "2021                   3166\n",
       "sum                   55053\n",
       "crisis              2113554"
      ]
     },
     "metadata": {},
     "output_type": "display_data"
    }
   ],
   "source": [
    "poland[\"sum\"] = poland.loc[:,2016:2021].sum(axis=1)\n",
    "\n",
    "table = (poland.join(crisis_refugees)\n",
    "         .rename(columns={\"individuals\": \"crisis\"})\n",
    "         .astype(int)\n",
    "         .transpose()\n",
    "         .rename(columns={\"Poland\": \"Refugees\"})\n",
    "         )\n",
    "\n",
    "display(table)"
   ]
  },
  {
   "cell_type": "markdown",
   "metadata": {},
   "source": [
    "This table will be used to create [this graphic](https://www.datawrapper.de/_/XHWMo/), showing just how massive the influx of refugees to Poland is.\n",
    "\n",
    "\\-30\\-"
   ]
  }
 ],
 "metadata": {
  "interpreter": {
   "hash": "f4d1a38d5d0290456d21c8fc16b003197c4108b66277a3181758af8be3ad3a7c"
  },
  "kernelspec": {
   "display_name": "Python 3.9.7 ('base')",
   "language": "python",
   "name": "python3"
  },
  "language_info": {
   "codemirror_mode": {
    "name": "ipython",
    "version": 3
   },
   "file_extension": ".py",
   "mimetype": "text/x-python",
   "name": "python",
   "nbconvert_exporter": "python",
   "pygments_lexer": "ipython3",
   "version": "3.9.7"
  },
  "orig_nbformat": 4
 },
 "nbformat": 4,
 "nbformat_minor": 2
}
