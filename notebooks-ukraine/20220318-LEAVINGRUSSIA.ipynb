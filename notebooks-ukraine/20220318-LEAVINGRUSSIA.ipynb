{
 "cells": [
  {
   "cell_type": "markdown",
   "metadata": {},
   "source": [
    "# What Western companies are leaving Russia?\n",
    "\n",
    "*March 18, 2022*"
   ]
  },
  {
   "cell_type": "markdown",
   "metadata": {},
   "source": [
    "Came across [some interesting data](https://som.yale.edu/story/2022/over-400-companies-have-withdrawn-russia-some-remain) today showing which companies are leaving Russia, and in what way they're leaving (are they fully withdrawing? Permanently? Will they be back?). It's light on actual numbers, but I thought I'd take a look at how you can visualize very text-heavy data in Datawrapper. [Here](https://www.datawrapper.de/_/lrj4C/)'s the final product so you can see what it is I'm working towards!\n",
    "\n",
    "Start with Pandas and by reading in the data."
   ]
  },
  {
   "cell_type": "code",
   "execution_count": 17,
   "metadata": {},
   "outputs": [
    {
     "data": {
      "text/html": [
       "<div>\n",
       "<style scoped>\n",
       "    .dataframe tbody tr th:only-of-type {\n",
       "        vertical-align: middle;\n",
       "    }\n",
       "\n",
       "    .dataframe tbody tr th {\n",
       "        vertical-align: top;\n",
       "    }\n",
       "\n",
       "    .dataframe thead th {\n",
       "        text-align: right;\n",
       "    }\n",
       "</style>\n",
       "<table border=\"1\" class=\"dataframe\">\n",
       "  <thead>\n",
       "    <tr style=\"text-align: right;\">\n",
       "      <th></th>\n",
       "      <th>Name</th>\n",
       "      <th>Type</th>\n",
       "      <th>Action</th>\n",
       "    </tr>\n",
       "  </thead>\n",
       "  <tbody>\n",
       "    <tr>\n",
       "      <th>0</th>\n",
       "      <td>Accenture</td>\n",
       "      <td>Withdrawal</td>\n",
       "      <td>exiting Russia completely</td>\n",
       "    </tr>\n",
       "    <tr>\n",
       "      <th>1</th>\n",
       "      <td>Acronis</td>\n",
       "      <td>Withdrawal</td>\n",
       "      <td>suspend operations in Russia</td>\n",
       "    </tr>\n",
       "    <tr>\n",
       "      <th>2</th>\n",
       "      <td>Activision Blizzard</td>\n",
       "      <td>Withdrawal</td>\n",
       "      <td>suspend all sales in Russia</td>\n",
       "    </tr>\n",
       "  </tbody>\n",
       "</table>\n",
       "</div>"
      ],
      "text/plain": [
       "                  Name        Type                        Action\n",
       "0            Accenture  Withdrawal     exiting Russia completely\n",
       "1              Acronis  Withdrawal  suspend operations in Russia\n",
       "2  Activision Blizzard  Withdrawal   suspend all sales in Russia"
      ]
     },
     "metadata": {},
     "output_type": "display_data"
    }
   ],
   "source": [
    "import pandas as pd\n",
    "\n",
    "raw = pd.read_csv(\"../raw/RAW 2022 YALE COMPANIESLEAVINGRUSSIA.csv\")\n",
    "\n",
    "display(raw.head(3))"
   ]
  },
  {
   "cell_type": "markdown",
   "metadata": {},
   "source": [
    "We'll iterate through all the different types of action on Russia (everything in the \"Type\" column). First, we make a new empty dataframe where the new text strings will go."
   ]
  },
  {
   "cell_type": "code",
   "execution_count": null,
   "metadata": {},
   "outputs": [],
   "source": [
    "data = pd.DataFrame({\"Companies\": []})"
   ]
  },
  {
   "cell_type": "markdown",
   "metadata": {},
   "source": [
    " We can get all unique values in a column very easily as a list."
   ]
  },
  {
   "cell_type": "code",
   "execution_count": null,
   "metadata": {},
   "outputs": [],
   "source": [
    "types = raw[\"Type\"].unique()"
   ]
  },
  {
   "cell_type": "markdown",
   "metadata": {},
   "source": [
    "Finally, we iterate through the types, finding all companies that match a type and joining them together into a long string, in this case each one separated by a comma and a space."
   ]
  },
  {
   "cell_type": "code",
   "execution_count": 21,
   "metadata": {},
   "outputs": [
    {
     "data": {
      "text/html": [
       "<div>\n",
       "<style scoped>\n",
       "    .dataframe tbody tr th:only-of-type {\n",
       "        vertical-align: middle;\n",
       "    }\n",
       "\n",
       "    .dataframe tbody tr th {\n",
       "        vertical-align: top;\n",
       "    }\n",
       "\n",
       "    .dataframe thead th {\n",
       "        text-align: right;\n",
       "    }\n",
       "</style>\n",
       "<table border=\"1\" class=\"dataframe\">\n",
       "  <thead>\n",
       "    <tr style=\"text-align: right;\">\n",
       "      <th></th>\n",
       "      <th>Companies</th>\n",
       "    </tr>\n",
       "  </thead>\n",
       "  <tbody>\n",
       "    <tr>\n",
       "      <th>Withdrawal</th>\n",
       "      <td>Accenture, Acronis, Activision Blizzard, Adenz...</td>\n",
       "    </tr>\n",
       "    <tr>\n",
       "      <th>Suspension</th>\n",
       "      <td>3M, Abrdn, Adidas, Adobe, ADP, Airbus, Akamai,...</td>\n",
       "    </tr>\n",
       "    <tr>\n",
       "      <th>Scaling back</th>\n",
       "      <td>Abbott Labs, Abbvie, ADM, Air Liquide, Allen &amp;...</td>\n",
       "    </tr>\n",
       "    <tr>\n",
       "      <th>Digging In</th>\n",
       "      <td>Accor, Air Products, Asus, Auchan, Authentic B...</td>\n",
       "    </tr>\n",
       "  </tbody>\n",
       "</table>\n",
       "</div>"
      ],
      "text/plain": [
       "                                                      Companies\n",
       "Withdrawal    Accenture, Acronis, Activision Blizzard, Adenz...\n",
       "Suspension    3M, Abrdn, Adidas, Adobe, ADP, Airbus, Akamai,...\n",
       "Scaling back  Abbott Labs, Abbvie, ADM, Air Liquide, Allen &...\n",
       "Digging In    Accor, Air Products, Asus, Auchan, Authentic B..."
      ]
     },
     "metadata": {},
     "output_type": "display_data"
    }
   ],
   "source": [
    "for type in types:\n",
    "    data.loc[type, \"Companies\"] = \", \".join(raw.loc[raw[\"Type\"] == type, \"Name\"].str.strip())\n",
    "    \n",
    "display(data)"
   ]
  },
  {
   "cell_type": "markdown",
   "metadata": {},
   "source": [
    "That's it! You can see above how the companies have been joined together. Now you can [go over to the visualization](https://www.datawrapper.de/_/lrj4C/) to see how I used this output to visualize these companies.\n",
    "\n",
    "\\-30\\-"
   ]
  }
 ],
 "metadata": {
  "interpreter": {
   "hash": "f4d1a38d5d0290456d21c8fc16b003197c4108b66277a3181758af8be3ad3a7c"
  },
  "kernelspec": {
   "display_name": "Python 3.9.7 ('base')",
   "language": "python",
   "name": "python3"
  },
  "language_info": {
   "codemirror_mode": {
    "name": "ipython",
    "version": 3
   },
   "file_extension": ".py",
   "mimetype": "text/x-python",
   "name": "python",
   "nbconvert_exporter": "python",
   "pygments_lexer": "ipython3",
   "version": "3.9.7"
  },
  "orig_nbformat": 4
 },
 "nbformat": 4,
 "nbformat_minor": 2
}
