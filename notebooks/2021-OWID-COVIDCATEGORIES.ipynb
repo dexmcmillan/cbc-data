{
 "cells": [
  {
   "cell_type": "markdown",
   "metadata": {},
   "source": [
    "# Creating a text-heavy COVID-19 graphic using data"
   ]
  },
  {
   "cell_type": "markdown",
   "metadata": {},
   "source": [
    "A few weeks ago, I was inspired by [a graphic by Reuters](https://graphics.reuters.com/world-coronavirus-tracker-and-maps/) showing a simple list of countries, and whether or not their COVID-19 metrics had increased or decreased. I wanted to try doing something similar, but breaking them into categories: those whose cases have gone up, those whose cases have gone down, and those whose cases have not changed vs. a week ago.\n",
    "\n",
    "As always, let's start by importing pandas, and reading in OWID data directly from the source."
   ]
  },
  {
   "cell_type": "code",
   "execution_count": 229,
   "metadata": {},
   "outputs": [],
   "source": [
    "import pandas as pd\n",
    "pd.options.mode.chained_assignment = None   # This disables a rather annoying but inconsequential error below that I can't seem to fix.\n",
    "\n",
    "raw = pd.read_csv('https://raw.githubusercontent.com/owid/covid-19-data/master/public/data/owid-covid-data.csv')"
   ]
  },
  {
   "cell_type": "markdown",
   "metadata": {},
   "source": [
    "Next, we need to determine which countries have increased, decreased, or stayed the same compared with two dates. Let's filter and reshape the data, first. We'll also add a new column calculated by subtracting cases on the two dates."
   ]
  },
  {
   "cell_type": "code",
   "execution_count": 230,
   "metadata": {},
   "outputs": [],
   "source": [
    "date1 = \"2021-01-28\"\n",
    "date2 = \"2021-01-14\"\n",
    "\n",
    "data = (raw.loc[raw[\"date\"].isin([date2, date1])]\n",
    "            .loc[raw[\"population\"] > 1000000]\n",
    "            .dropna(subset=[\"continent\"])\n",
    "            .pivot_table(index=[\"location\"], columns=\"date\", values=\"new_cases_per_million\")\n",
    "            .reset_index()\n",
    "            .set_index(\"location\")\n",
    "            .rename_axis(columns=\"\")\n",
    "          )\n",
    "\n",
    "data.loc[:,\"diff\"] = (data[date1] - data[date2]).astype(int)\n",
    "data = data[[\"diff\"]]"
   ]
  },
  {
   "cell_type": "markdown",
   "metadata": {},
   "source": [
    "Next, we need to concatenate together a list of all the countries with positive case counts (that is, they're rising)."
   ]
  },
  {
   "cell_type": "code",
   "execution_count": 231,
   "metadata": {},
   "outputs": [],
   "source": [
    "positives = data.loc[data['diff'].gt(0),:]\n",
    "positives.loc[:,\"text\"] = positives.index + \" (+\" + positives[\"diff\"].astype(str) + \")\""
   ]
  },
  {
   "cell_type": "markdown",
   "metadata": {},
   "source": [
    "Next, we create an empty dataframe which we'll put our long string of country names and values into."
   ]
  },
  {
   "cell_type": "code",
   "execution_count": 232,
   "metadata": {},
   "outputs": [
    {
     "data": {
      "text/html": [
       "<div>\n",
       "<style scoped>\n",
       "    .dataframe tbody tr th:only-of-type {\n",
       "        vertical-align: middle;\n",
       "    }\n",
       "\n",
       "    .dataframe tbody tr th {\n",
       "        vertical-align: top;\n",
       "    }\n",
       "\n",
       "    .dataframe thead th {\n",
       "        text-align: right;\n",
       "    }\n",
       "</style>\n",
       "<table border=\"1\" class=\"dataframe\">\n",
       "  <thead>\n",
       "    <tr style=\"text-align: right;\">\n",
       "      <th></th>\n",
       "      <th>countries</th>\n",
       "    </tr>\n",
       "  </thead>\n",
       "  <tbody>\n",
       "    <tr>\n",
       "      <th>Positives</th>\n",
       "      <td>Albania (+79), Bahrain (+25), Belgium (+11), B...</td>\n",
       "    </tr>\n",
       "    <tr>\n",
       "      <th>Negatives</th>\n",
       "      <td></td>\n",
       "    </tr>\n",
       "    <tr>\n",
       "      <th>No change</th>\n",
       "      <td></td>\n",
       "    </tr>\n",
       "  </tbody>\n",
       "</table>\n",
       "</div>"
      ],
      "text/plain": [
       "                                                   countries\n",
       "Positives  Albania (+79), Bahrain (+25), Belgium (+11), B...\n",
       "Negatives                                                   \n",
       "No change                                                   "
      ]
     },
     "metadata": {},
     "output_type": "display_data"
    }
   ],
   "source": [
    "export = pd.DataFrame({\"countries\": [\"\", \"\", \"\"]}, index=[\"Positives\", \"Negatives\", \"No change\"])\n",
    "export.loc[\"Positives\", \"countries\"] = ', '.join(positives[\"text\"].astype(str))\n",
    "\n",
    "display(export)"
   ]
  },
  {
   "cell_type": "markdown",
   "metadata": {},
   "source": [
    "Now, we repeat in a similar way for negative values, and for those that haven't changed, and add them to our final dataframe."
   ]
  },
  {
   "cell_type": "code",
   "execution_count": 233,
   "metadata": {},
   "outputs": [
    {
     "data": {
      "text/html": [
       "<div>\n",
       "<style scoped>\n",
       "    .dataframe tbody tr th:only-of-type {\n",
       "        vertical-align: middle;\n",
       "    }\n",
       "\n",
       "    .dataframe tbody tr th {\n",
       "        vertical-align: top;\n",
       "    }\n",
       "\n",
       "    .dataframe thead th {\n",
       "        text-align: right;\n",
       "    }\n",
       "</style>\n",
       "<table border=\"1\" class=\"dataframe\">\n",
       "  <thead>\n",
       "    <tr style=\"text-align: right;\">\n",
       "      <th></th>\n",
       "      <th>countries</th>\n",
       "    </tr>\n",
       "  </thead>\n",
       "  <tbody>\n",
       "    <tr>\n",
       "      <th>Positives</th>\n",
       "      <td>Albania (+79), Bahrain (+25), Belgium (+11), B...</td>\n",
       "    </tr>\n",
       "    <tr>\n",
       "      <th>Negatives</th>\n",
       "      <td>Afghanistan (-1), Angola (-2), Argentina (-83)...</td>\n",
       "    </tr>\n",
       "    <tr>\n",
       "      <th>No change</th>\n",
       "      <td>Algeria, Australia, Benin, Burundi, Cambodia, ...</td>\n",
       "    </tr>\n",
       "  </tbody>\n",
       "</table>\n",
       "</div>"
      ],
      "text/plain": [
       "                                                   countries\n",
       "Positives  Albania (+79), Bahrain (+25), Belgium (+11), B...\n",
       "Negatives  Afghanistan (-1), Angola (-2), Argentina (-83)...\n",
       "No change  Algeria, Australia, Benin, Burundi, Cambodia, ..."
      ]
     },
     "metadata": {},
     "output_type": "display_data"
    }
   ],
   "source": [
    "negatives = data.loc[data['diff'].lt(0),:]\n",
    "negatives.loc[:,\"text\"] = negatives.index + \" (\" + negatives[\"diff\"].astype(str) + \")\"\n",
    "export.loc[\"Negatives\", \"countries\"] = ', '.join(negatives[\"text\"].astype(str))\n",
    "\n",
    "no_change = data.loc[data['diff'] == 0, :]\n",
    "export.loc[\"No change\", \"countries\"] = ', '.join(no_change.index)\n",
    "\n",
    "display(export)"
   ]
  },
  {
   "cell_type": "markdown",
   "metadata": {},
   "source": [
    "Now we take it to Datawrapper! [Here's the final result](https://www.datawrapper.de/_/nDOb1/), using individual row stylings to colour based on positives or negatives."
   ]
  }
 ],
 "metadata": {
  "interpreter": {
   "hash": "f4d1a38d5d0290456d21c8fc16b003197c4108b66277a3181758af8be3ad3a7c"
  },
  "kernelspec": {
   "display_name": "Python 3.9.7 ('base')",
   "language": "python",
   "name": "python3"
  },
  "language_info": {
   "name": "python",
   "version": "3.9.7"
  },
  "orig_nbformat": 4
 },
 "nbformat": 4,
 "nbformat_minor": 2
}
