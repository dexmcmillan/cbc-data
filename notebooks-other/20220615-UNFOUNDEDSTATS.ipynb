{
 "cells": [
  {
   "cell_type": "markdown",
   "metadata": {},
   "source": [
    "# Unfounded sexual assault claims\n",
    "*June 15, 2022*"
   ]
  },
  {
   "cell_type": "markdown",
   "metadata": {},
   "source": [
    "Statistics Canada has data on unfounded criminal code violations?? This is news to me. Let's check it out by looking at lower-level sexual assault stuff.\n",
    "\n",
    "First, import pandas for data analysis on some modules for dealing with zipfiles."
   ]
  },
  {
   "cell_type": "code",
   "execution_count": 1,
   "metadata": {},
   "outputs": [],
   "source": [
    "import pandas as pd\n",
    "from zipfile import ZipFile\n",
    "import requests\n",
    "from io import BytesIO"
   ]
  },
  {
   "cell_type": "markdown",
   "metadata": {},
   "source": [
    "Read in our zipped data and pull the actual data out of it."
   ]
  },
  {
   "cell_type": "code",
   "execution_count": 2,
   "metadata": {},
   "outputs": [
    {
     "name": "stderr",
     "output_type": "stream",
     "text": [
      "C:\\Users\\dexmc\\AppData\\Local\\Temp\\ipykernel_25972\\3844390140.py:4: DtypeWarning: Columns (14) have mixed types. Specify dtype option on import or set low_memory=False.\n",
      "  raw = pd.read_csv(file, encoding=\"utf-8\")\n"
     ]
    }
   ],
   "source": [
    "r = requests.get(\"https://www150.statcan.gc.ca/n1/en/tbl/csv/35100177-eng.zip?st=oN_UFW50\")\n",
    "files = ZipFile(BytesIO(r.content))\n",
    "file = files.open(files.namelist()[0])\n",
    "raw = pd.read_csv(file, encoding=\"utf-8\")\n",
    "\n",
    "raw.head(5)"
   ]
  },
  {
   "cell_type": "markdown",
   "metadata": {},
   "source": [
    "We'll start by looking at unfounded rates for level 1 sexual assault in every region across Canada, and showing which region currently has the highest rate."
   ]
  },
  {
   "cell_type": "code",
   "execution_count": 44,
   "metadata": {},
   "outputs": [
    {
     "data": {
      "text/html": [
       "<div>\n",
       "<style scoped>\n",
       "    .dataframe tbody tr th:only-of-type {\n",
       "        vertical-align: middle;\n",
       "    }\n",
       "\n",
       "    .dataframe tbody tr th {\n",
       "        vertical-align: top;\n",
       "    }\n",
       "\n",
       "    .dataframe thead th {\n",
       "        text-align: right;\n",
       "    }\n",
       "</style>\n",
       "<table border=\"1\" class=\"dataframe\">\n",
       "  <thead>\n",
       "    <tr style=\"text-align: right;\">\n",
       "      <th>REF_DATE</th>\n",
       "      <th>2017</th>\n",
       "      <th>2018</th>\n",
       "      <th>2019</th>\n",
       "      <th>2020</th>\n",
       "    </tr>\n",
       "    <tr>\n",
       "      <th>GEO</th>\n",
       "      <th></th>\n",
       "      <th></th>\n",
       "      <th></th>\n",
       "      <th></th>\n",
       "    </tr>\n",
       "  </thead>\n",
       "  <tbody>\n",
       "    <tr>\n",
       "      <th>Moncton, New Brunswick [13305]</th>\n",
       "      <td>30.71</td>\n",
       "      <td>21.01</td>\n",
       "      <td>23.75</td>\n",
       "      <td>19.15</td>\n",
       "    </tr>\n",
       "    <tr>\n",
       "      <th>Prince Edward Island [11]</th>\n",
       "      <td>25.81</td>\n",
       "      <td>12.50</td>\n",
       "      <td>25.00</td>\n",
       "      <td>18.71</td>\n",
       "    </tr>\n",
       "    <tr>\n",
       "      <th>Northwest Territories [61]</th>\n",
       "      <td>14.55</td>\n",
       "      <td>18.59</td>\n",
       "      <td>16.72</td>\n",
       "      <td>18.12</td>\n",
       "    </tr>\n",
       "    <tr>\n",
       "      <th>Thunder Bay, Ontario [35595]</th>\n",
       "      <td>17.27</td>\n",
       "      <td>12.26</td>\n",
       "      <td>14.19</td>\n",
       "      <td>15.56</td>\n",
       "    </tr>\n",
       "    <tr>\n",
       "      <th>Abbotsford-Mission, British Columbia [59932]</th>\n",
       "      <td>19.44</td>\n",
       "      <td>16.78</td>\n",
       "      <td>13.07</td>\n",
       "      <td>14.52</td>\n",
       "    </tr>\n",
       "  </tbody>\n",
       "</table>\n",
       "</div>"
      ],
      "text/plain": [
       "REF_DATE                                       2017   2018   2019   2020\n",
       "GEO                                                                     \n",
       "Moncton, New Brunswick [13305]                30.71  21.01  23.75  19.15\n",
       "Prince Edward Island [11]                     25.81  12.50  25.00  18.71\n",
       "Northwest Territories [61]                    14.55  18.59  16.72  18.12\n",
       "Thunder Bay, Ontario [35595]                  17.27  12.26  14.19  15.56\n",
       "Abbotsford-Mission, British Columbia [59932]  19.44  16.78  13.07  14.52"
      ]
     },
     "execution_count": 44,
     "metadata": {},
     "output_type": "execute_result"
    }
   ],
   "source": [
    "data = (raw\n",
    "        .loc[(raw[\"Statistics\"].isin([\"Percent unfounded\"])) &\n",
    "             (raw[\"Violations\"] == \"Sexual assault, level 1 [1330]\"), :]\n",
    "        .pivot(index=\"GEO\", columns=\"REF_DATE\", values=\"VALUE\")\n",
    "        .dropna(how=\"all\", axis=1)\n",
    "        )\n",
    "\n",
    "data.sort_values(2020, ascending=False).head(5)"
   ]
  },
  {
   "cell_type": "markdown",
   "metadata": {},
   "source": [
    "Now let's take a look at which areas have improved the least since 2017 by adding a new column."
   ]
  },
  {
   "cell_type": "code",
   "execution_count": 38,
   "metadata": {},
   "outputs": [
    {
     "data": {
      "text/html": [
       "<div>\n",
       "<style scoped>\n",
       "    .dataframe tbody tr th:only-of-type {\n",
       "        vertical-align: middle;\n",
       "    }\n",
       "\n",
       "    .dataframe tbody tr th {\n",
       "        vertical-align: top;\n",
       "    }\n",
       "\n",
       "    .dataframe thead th {\n",
       "        text-align: right;\n",
       "    }\n",
       "</style>\n",
       "<table border=\"1\" class=\"dataframe\">\n",
       "  <thead>\n",
       "    <tr style=\"text-align: right;\">\n",
       "      <th>REF_DATE</th>\n",
       "      <th>2017</th>\n",
       "      <th>2018</th>\n",
       "      <th>2019</th>\n",
       "      <th>2020</th>\n",
       "      <th>diff</th>\n",
       "    </tr>\n",
       "    <tr>\n",
       "      <th>GEO</th>\n",
       "      <th></th>\n",
       "      <th></th>\n",
       "      <th></th>\n",
       "      <th></th>\n",
       "      <th></th>\n",
       "    </tr>\n",
       "  </thead>\n",
       "  <tbody>\n",
       "    <tr>\n",
       "      <th>Northwest Territories [61]</th>\n",
       "      <td>14.55</td>\n",
       "      <td>18.59</td>\n",
       "      <td>16.72</td>\n",
       "      <td>18.12</td>\n",
       "      <td>3.57</td>\n",
       "    </tr>\n",
       "    <tr>\n",
       "      <th>Calgary, Alberta [48825]</th>\n",
       "      <td>5.13</td>\n",
       "      <td>5.41</td>\n",
       "      <td>5.54</td>\n",
       "      <td>6.35</td>\n",
       "      <td>1.22</td>\n",
       "    </tr>\n",
       "    <tr>\n",
       "      <th>Saskatoon, Saskatchewan [47725]</th>\n",
       "      <td>3.50</td>\n",
       "      <td>2.65</td>\n",
       "      <td>4.15</td>\n",
       "      <td>4.68</td>\n",
       "      <td>1.18</td>\n",
       "    </tr>\n",
       "    <tr>\n",
       "      <th>Brantford, Ontario [35543]</th>\n",
       "      <td>13.48</td>\n",
       "      <td>9.32</td>\n",
       "      <td>10.48</td>\n",
       "      <td>13.91</td>\n",
       "      <td>0.43</td>\n",
       "    </tr>\n",
       "    <tr>\n",
       "      <th>Peterborough, Ontario [35529]</th>\n",
       "      <td>10.87</td>\n",
       "      <td>7.38</td>\n",
       "      <td>5.04</td>\n",
       "      <td>9.90</td>\n",
       "      <td>-0.97</td>\n",
       "    </tr>\n",
       "    <tr>\n",
       "      <th>Saguenay, Quebec [24408]</th>\n",
       "      <td>15.25</td>\n",
       "      <td>13.87</td>\n",
       "      <td>17.26</td>\n",
       "      <td>14.00</td>\n",
       "      <td>-1.25</td>\n",
       "    </tr>\n",
       "    <tr>\n",
       "      <th>Thunder Bay, Ontario [35595]</th>\n",
       "      <td>17.27</td>\n",
       "      <td>12.26</td>\n",
       "      <td>14.19</td>\n",
       "      <td>15.56</td>\n",
       "      <td>-1.71</td>\n",
       "    </tr>\n",
       "    <tr>\n",
       "      <th>Sherbrooke, Quebec [24433]</th>\n",
       "      <td>6.34</td>\n",
       "      <td>9.70</td>\n",
       "      <td>4.46</td>\n",
       "      <td>4.49</td>\n",
       "      <td>-1.85</td>\n",
       "    </tr>\n",
       "    <tr>\n",
       "      <th>Halifax, Nova Scotia [12205]</th>\n",
       "      <td>4.46</td>\n",
       "      <td>2.42</td>\n",
       "      <td>6.26</td>\n",
       "      <td>2.59</td>\n",
       "      <td>-1.87</td>\n",
       "    </tr>\n",
       "    <tr>\n",
       "      <th>Newfoundland and Labrador [10]</th>\n",
       "      <td>12.63</td>\n",
       "      <td>19.20</td>\n",
       "      <td>14.44</td>\n",
       "      <td>10.40</td>\n",
       "      <td>-2.23</td>\n",
       "    </tr>\n",
       "  </tbody>\n",
       "</table>\n",
       "</div>"
      ],
      "text/plain": [
       "REF_DATE                          2017   2018   2019   2020  diff\n",
       "GEO                                                              \n",
       "Northwest Territories [61]       14.55  18.59  16.72  18.12  3.57\n",
       "Calgary, Alberta [48825]          5.13   5.41   5.54   6.35  1.22\n",
       "Saskatoon, Saskatchewan [47725]   3.50   2.65   4.15   4.68  1.18\n",
       "Brantford, Ontario [35543]       13.48   9.32  10.48  13.91  0.43\n",
       "Peterborough, Ontario [35529]    10.87   7.38   5.04   9.90 -0.97\n",
       "Saguenay, Quebec [24408]         15.25  13.87  17.26  14.00 -1.25\n",
       "Thunder Bay, Ontario [35595]     17.27  12.26  14.19  15.56 -1.71\n",
       "Sherbrooke, Quebec [24433]        6.34   9.70   4.46   4.49 -1.85\n",
       "Halifax, Nova Scotia [12205]      4.46   2.42   6.26   2.59 -1.87\n",
       "Newfoundland and Labrador [10]   12.63  19.20  14.44  10.40 -2.23"
      ]
     },
     "execution_count": 38,
     "metadata": {},
     "output_type": "execute_result"
    }
   ],
   "source": [
    "data[\"diff\"] = data[2020] - data[2017]\n",
    "data = data.sort_values(\"diff\", ascending=False)\n",
    "\n",
    "data.head(10)"
   ]
  },
  {
   "cell_type": "markdown",
   "metadata": {},
   "source": [
    "Let's also take a moment to put this into context - what's the average unfounded rate for all violations across Canada? Are these numbers very high, or about what we might expect for unfounded rates?"
   ]
  },
  {
   "cell_type": "code",
   "execution_count": 51,
   "metadata": {},
   "outputs": [
    {
     "ename": "ValueError",
     "evalue": "setting an array element with a sequence.",
     "output_type": "error",
     "traceback": [
      "\u001b[1;31m---------------------------------------------------------------------------\u001b[0m",
      "\u001b[1;31mValueError\u001b[0m                                Traceback (most recent call last)",
      "File \u001b[1;32mc:\\Users\\dexmc\\anaconda3\\envs\\geo\\lib\\site-packages\\pandas\\core\\generic.py:1535\u001b[0m, in \u001b[0;36mNDFrame.__nonzero__\u001b[1;34m(self)\u001b[0m\n\u001b[0;32m   1533\u001b[0m \u001b[39m@final\u001b[39m\n\u001b[0;32m   1534\u001b[0m \u001b[39mdef\u001b[39;00m \u001b[39m__nonzero__\u001b[39m(\u001b[39mself\u001b[39m):\n\u001b[1;32m-> 1535\u001b[0m     \u001b[39mraise\u001b[39;00m \u001b[39mValueError\u001b[39;00m(\n\u001b[0;32m   1536\u001b[0m         \u001b[39mf\u001b[39m\u001b[39m\"\u001b[39m\u001b[39mThe truth value of a \u001b[39m\u001b[39m{\u001b[39;00m\u001b[39mtype\u001b[39m(\u001b[39mself\u001b[39m)\u001b[39m.\u001b[39m\u001b[39m__name__\u001b[39m\u001b[39m}\u001b[39;00m\u001b[39m is ambiguous. \u001b[39m\u001b[39m\"\u001b[39m\n\u001b[0;32m   1537\u001b[0m         \u001b[39m\"\u001b[39m\u001b[39mUse a.empty, a.bool(), a.item(), a.any() or a.all().\u001b[39m\u001b[39m\"\u001b[39m\n\u001b[0;32m   1538\u001b[0m     )\n",
      "\u001b[1;31mValueError\u001b[0m: The truth value of a Series is ambiguous. Use a.empty, a.bool(), a.item(), a.any() or a.all().",
      "\nThe above exception was the direct cause of the following exception:\n",
      "\u001b[1;31mValueError\u001b[0m                                Traceback (most recent call last)",
      "\u001b[1;32mc:\\Users\\dexmc\\Documents\\Code\\cbc-data\\notebooks-other\\20220615-UNFOUNDEDSTATS.ipynb Cell 11'\u001b[0m in \u001b[0;36m<cell line: 1>\u001b[1;34m()\u001b[0m\n\u001b[0;32m      <a href='vscode-notebook-cell:/c%3A/Users/dexmc/Documents/Code/cbc-data/notebooks-other/20220615-UNFOUNDEDSTATS.ipynb#ch0000016?line=0'>1</a>\u001b[0m data \u001b[39m=\u001b[39m (raw\n\u001b[1;32m----> <a href='vscode-notebook-cell:/c%3A/Users/dexmc/Documents/Code/cbc-data/notebooks-other/20220615-UNFOUNDEDSTATS.ipynb#ch0000016?line=1'>2</a>\u001b[0m         \u001b[39m.\u001b[39mloc[(raw[\u001b[39m\"\u001b[39;49m\u001b[39mStatistics\u001b[39;49m\u001b[39m\"\u001b[39;49m]\u001b[39m.\u001b[39;49misin([\u001b[39m\"\u001b[39;49m\u001b[39mPercent unfounded\u001b[39;49m\u001b[39m\"\u001b[39;49m])) \u001b[39m&\u001b[39;49m\n\u001b[0;32m      <a href='vscode-notebook-cell:/c%3A/Users/dexmc/Documents/Code/cbc-data/notebooks-other/20220615-UNFOUNDEDSTATS.ipynb#ch0000016?line=2'>3</a>\u001b[0m               (raw[\u001b[39m\"\u001b[39;49m\u001b[39mViolations\u001b[39;49m\u001b[39m\"\u001b[39;49m]\u001b[39m.\u001b[39;49misin([\u001b[39m\"\u001b[39;49m\u001b[39mTotal, all violations [0]\u001b[39;49m\u001b[39m\"\u001b[39;49m]) \u001b[39m&\u001b[39;49m\n\u001b[0;32m      <a href='vscode-notebook-cell:/c%3A/Users/dexmc/Documents/Code/cbc-data/notebooks-other/20220615-UNFOUNDEDSTATS.ipynb#ch0000016?line=3'>4</a>\u001b[0m               (raw[\u001b[39m\"\u001b[39;49m\u001b[39mGEO\u001b[39;49m\u001b[39m\"\u001b[39;49m] \u001b[39m==\u001b[39;49m \u001b[39m\"\u001b[39;49m\u001b[39mCanada\u001b[39;49m\u001b[39m\"\u001b[39;49m) \u001b[39m&\u001b[39;49m\n\u001b[0;32m      <a href='vscode-notebook-cell:/c%3A/Users/dexmc/Documents/Code/cbc-data/notebooks-other/20220615-UNFOUNDEDSTATS.ipynb#ch0000016?line=4'>5</a>\u001b[0m               (raw[\u001b[39m\"\u001b[39;49m\u001b[39mREF_DATE\u001b[39;49m\u001b[39m\"\u001b[39;49m] \u001b[39m>\u001b[39;49m\u001b[39m=\u001b[39;49m \u001b[39m2017\u001b[39;49m), [\u001b[39m\"\u001b[39;49m\u001b[39mREF_DATE\u001b[39;49m\u001b[39m\"\u001b[39;49m, \u001b[39m\"\u001b[39;49m\u001b[39mGEO\u001b[39;49m\u001b[39m\"\u001b[39;49m, \u001b[39m\"\u001b[39;49m\u001b[39mVALUE\u001b[39;49m\u001b[39m\"\u001b[39;49m])]\n\u001b[0;32m      <a href='vscode-notebook-cell:/c%3A/Users/dexmc/Documents/Code/cbc-data/notebooks-other/20220615-UNFOUNDEDSTATS.ipynb#ch0000016?line=5'>6</a>\u001b[0m         )\n\u001b[0;32m      <a href='vscode-notebook-cell:/c%3A/Users/dexmc/Documents/Code/cbc-data/notebooks-other/20220615-UNFOUNDEDSTATS.ipynb#ch0000016?line=7'>8</a>\u001b[0m data\u001b[39m.\u001b[39mhead(\u001b[39m5\u001b[39m)\n",
      "File \u001b[1;32mc:\\Users\\dexmc\\anaconda3\\envs\\geo\\lib\\site-packages\\pandas\\core\\ops\\common.py:70\u001b[0m, in \u001b[0;36m_unpack_zerodim_and_defer.<locals>.new_method\u001b[1;34m(self, other)\u001b[0m\n\u001b[0;32m     66\u001b[0m             \u001b[39mreturn\u001b[39;00m \u001b[39mNotImplemented\u001b[39m\n\u001b[0;32m     68\u001b[0m other \u001b[39m=\u001b[39m item_from_zerodim(other)\n\u001b[1;32m---> 70\u001b[0m \u001b[39mreturn\u001b[39;00m method(\u001b[39mself\u001b[39;49m, other)\n",
      "File \u001b[1;32mc:\\Users\\dexmc\\anaconda3\\envs\\geo\\lib\\site-packages\\pandas\\core\\arraylike.py:70\u001b[0m, in \u001b[0;36mOpsMixin.__and__\u001b[1;34m(self, other)\u001b[0m\n\u001b[0;32m     68\u001b[0m \u001b[39m@unpack_zerodim_and_defer\u001b[39m(\u001b[39m\"\u001b[39m\u001b[39m__and__\u001b[39m\u001b[39m\"\u001b[39m)\n\u001b[0;32m     69\u001b[0m \u001b[39mdef\u001b[39;00m \u001b[39m__and__\u001b[39m(\u001b[39mself\u001b[39m, other):\n\u001b[1;32m---> 70\u001b[0m     \u001b[39mreturn\u001b[39;00m \u001b[39mself\u001b[39;49m\u001b[39m.\u001b[39;49m_logical_method(other, operator\u001b[39m.\u001b[39;49mand_)\n",
      "File \u001b[1;32mc:\\Users\\dexmc\\anaconda3\\envs\\geo\\lib\\site-packages\\pandas\\core\\series.py:5634\u001b[0m, in \u001b[0;36mSeries._logical_method\u001b[1;34m(self, other, op)\u001b[0m\n\u001b[0;32m   5631\u001b[0m lvalues \u001b[39m=\u001b[39m \u001b[39mself\u001b[39m\u001b[39m.\u001b[39m_values\n\u001b[0;32m   5632\u001b[0m rvalues \u001b[39m=\u001b[39m extract_array(other, extract_numpy\u001b[39m=\u001b[39m\u001b[39mTrue\u001b[39;00m, extract_range\u001b[39m=\u001b[39m\u001b[39mTrue\u001b[39;00m)\n\u001b[1;32m-> 5634\u001b[0m res_values \u001b[39m=\u001b[39m ops\u001b[39m.\u001b[39;49mlogical_op(lvalues, rvalues, op)\n\u001b[0;32m   5635\u001b[0m \u001b[39mreturn\u001b[39;00m \u001b[39mself\u001b[39m\u001b[39m.\u001b[39m_construct_result(res_values, name\u001b[39m=\u001b[39mres_name)\n",
      "File \u001b[1;32mc:\\Users\\dexmc\\anaconda3\\envs\\geo\\lib\\site-packages\\pandas\\core\\ops\\array_ops.py:381\u001b[0m, in \u001b[0;36mlogical_op\u001b[1;34m(left, right, op)\u001b[0m\n\u001b[0;32m    379\u001b[0m \u001b[39mif\u001b[39;00m \u001b[39misinstance\u001b[39m(rvalues, np\u001b[39m.\u001b[39mndarray):\n\u001b[0;32m    380\u001b[0m     is_other_int_dtype \u001b[39m=\u001b[39m is_integer_dtype(rvalues\u001b[39m.\u001b[39mdtype)\n\u001b[1;32m--> 381\u001b[0m     rvalues \u001b[39m=\u001b[39m rvalues \u001b[39mif\u001b[39;00m is_other_int_dtype \u001b[39melse\u001b[39;00m fill_bool(rvalues, lvalues)\n\u001b[0;32m    383\u001b[0m \u001b[39melse\u001b[39;00m:\n\u001b[0;32m    384\u001b[0m     \u001b[39m# i.e. scalar\u001b[39;00m\n\u001b[0;32m    385\u001b[0m     is_other_int_dtype \u001b[39m=\u001b[39m lib\u001b[39m.\u001b[39mis_integer(rvalues)\n",
      "File \u001b[1;32mc:\\Users\\dexmc\\anaconda3\\envs\\geo\\lib\\site-packages\\pandas\\core\\ops\\array_ops.py:360\u001b[0m, in \u001b[0;36mlogical_op.<locals>.fill_bool\u001b[1;34m(x, left)\u001b[0m\n\u001b[0;32m    357\u001b[0m         x[mask] \u001b[39m=\u001b[39m \u001b[39mFalse\u001b[39;00m\n\u001b[0;32m    359\u001b[0m \u001b[39mif\u001b[39;00m left \u001b[39mis\u001b[39;00m \u001b[39mNone\u001b[39;00m \u001b[39mor\u001b[39;00m is_bool_dtype(left\u001b[39m.\u001b[39mdtype):\n\u001b[1;32m--> 360\u001b[0m     x \u001b[39m=\u001b[39m x\u001b[39m.\u001b[39;49mastype(\u001b[39mbool\u001b[39;49m)\n\u001b[0;32m    361\u001b[0m \u001b[39mreturn\u001b[39;00m x\n",
      "\u001b[1;31mValueError\u001b[0m: setting an array element with a sequence."
     ]
    }
   ],
   "source": [
    "data = (raw\n",
    "        .loc[(raw[\"Statistics\"] == \"Percent unfounded\") &\n",
    "              (raw[\"Violations\"] == \"Total, all violations [0]\") &\n",
    "              (raw[\"GEO\"] == \"Canada\") &\n",
    "              (raw[\"REF_DATE\"] >= 2017), [\"REF_DATE\", \"GEO\", \"VALUE\"])]\n",
    "        )\n",
    "\n",
    "data.head(5)"
   ]
  },
  {
   "cell_type": "markdown",
   "metadata": {},
   "source": [
    "### Northwest Territories"
   ]
  },
  {
   "cell_type": "markdown",
   "metadata": {},
   "source": [
    "Let's take a closer look at the Northwest Territories, where things seem to be getting worse in terms of concluding lower-severity sexual assault cases as unfounded. Maybe they just don't have a lot of cases, and this is a sample size issue."
   ]
  },
  {
   "cell_type": "code",
   "execution_count": 43,
   "metadata": {},
   "outputs": [
    {
     "data": {
      "text/html": [
       "<div>\n",
       "<style scoped>\n",
       "    .dataframe tbody tr th:only-of-type {\n",
       "        vertical-align: middle;\n",
       "    }\n",
       "\n",
       "    .dataframe tbody tr th {\n",
       "        vertical-align: top;\n",
       "    }\n",
       "\n",
       "    .dataframe thead th {\n",
       "        text-align: right;\n",
       "    }\n",
       "</style>\n",
       "<table border=\"1\" class=\"dataframe\">\n",
       "  <thead>\n",
       "    <tr style=\"text-align: right;\">\n",
       "      <th></th>\n",
       "      <th>VALUE</th>\n",
       "    </tr>\n",
       "    <tr>\n",
       "      <th>REF_DATE</th>\n",
       "      <th></th>\n",
       "    </tr>\n",
       "  </thead>\n",
       "  <tbody>\n",
       "    <tr>\n",
       "      <th>1998</th>\n",
       "      <td>450.0</td>\n",
       "    </tr>\n",
       "    <tr>\n",
       "      <th>1999</th>\n",
       "      <td>200.0</td>\n",
       "    </tr>\n",
       "    <tr>\n",
       "      <th>2000</th>\n",
       "      <td>177.0</td>\n",
       "    </tr>\n",
       "    <tr>\n",
       "      <th>2001</th>\n",
       "      <td>143.0</td>\n",
       "    </tr>\n",
       "    <tr>\n",
       "      <th>2002</th>\n",
       "      <td>175.0</td>\n",
       "    </tr>\n",
       "  </tbody>\n",
       "</table>\n",
       "</div>"
      ],
      "text/plain": [
       "          VALUE\n",
       "REF_DATE       \n",
       "1998      450.0\n",
       "1999      200.0\n",
       "2000      177.0\n",
       "2001      143.0\n",
       "2002      175.0"
      ]
     },
     "execution_count": 43,
     "metadata": {},
     "output_type": "execute_result"
    }
   ],
   "source": [
    "nwt = (raw\n",
    "        .loc[(raw[\"Statistics\"].isin([\"Actual incidents\"])) &\n",
    "             (raw[\"Violations\"] == \"Sexual assault, level 1 [1330]\") &\n",
    "             (raw[\"GEO\"] == \"Northwest Territories [61]\"), [\"REF_DATE\", \"VALUE\"]]\n",
    "        .set_index(\"REF_DATE\")\n",
    "        )\n",
    "\n",
    "nwt.head(5)"
   ]
  },
  {
   "cell_type": "markdown",
   "metadata": {},
   "source": [
    "It looks like they have a reasonable number of cases. Certainly enough that it makes their unfounded rate interesting."
   ]
  }
 ],
 "metadata": {
  "kernelspec": {
   "display_name": "Python 3.10.2 ('geo')",
   "language": "python",
   "name": "python3"
  },
  "language_info": {
   "codemirror_mode": {
    "name": "ipython",
    "version": 3
   },
   "file_extension": ".py",
   "mimetype": "text/x-python",
   "name": "python",
   "nbconvert_exporter": "python",
   "pygments_lexer": "ipython3",
   "version": "3.10.2"
  },
  "orig_nbformat": 4,
  "vscode": {
   "interpreter": {
    "hash": "73de8b438f32372771bda1aa2e3d2689a59747422210df3e3470a45f58c477e6"
   }
  }
 },
 "nbformat": 4,
 "nbformat_minor": 2
}
