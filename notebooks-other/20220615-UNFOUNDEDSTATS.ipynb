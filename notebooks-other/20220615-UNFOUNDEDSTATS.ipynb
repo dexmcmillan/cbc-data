{
 "cells": [
  {
   "cell_type": "markdown",
   "metadata": {},
   "source": [
    "# Unfounded sexual assault claims\n",
    "*June 15, 2022*"
   ]
  },
  {
   "cell_type": "markdown",
   "metadata": {},
   "source": [
    "Statistics Canada has data on unfounded criminal code violations?? This is news to me. Let's check it out by looking at lower-level sexual assault stuff.\n",
    "\n",
    "First, import pandas for data analysis on some modules for dealing with zipfiles."
   ]
  },
  {
   "cell_type": "code",
   "execution_count": 1,
   "metadata": {},
   "outputs": [],
   "source": [
    "import pandas as pd\n",
    "from zipfile import ZipFile\n",
    "import requests\n",
    "from io import BytesIO"
   ]
  },
  {
   "cell_type": "markdown",
   "metadata": {},
   "source": [
    "Read in our zipped data and pull the actual data out of it."
   ]
  },
  {
   "cell_type": "code",
   "execution_count": 2,
   "metadata": {},
   "outputs": [
    {
     "name": "stderr",
     "output_type": "stream",
     "text": [
      "C:\\Users\\dexmc\\AppData\\Local\\Temp\\ipykernel_25972\\3844390140.py:4: DtypeWarning: Columns (14) have mixed types. Specify dtype option on import or set low_memory=False.\n",
      "  raw = pd.read_csv(file, encoding=\"utf-8\")\n"
     ]
    }
   ],
   "source": [
    "r = requests.get(\"https://www150.statcan.gc.ca/n1/en/tbl/csv/35100177-eng.zip?st=oN_UFW50\")\n",
    "files = ZipFile(BytesIO(r.content))\n",
    "file = files.open(files.namelist()[0])\n",
    "raw = pd.read_csv(file, encoding=\"utf-8\")\n",
    "\n",
    "raw.head(5)"
   ]
  },
  {
   "cell_type": "markdown",
   "metadata": {},
   "source": [
    "We'll start by looking at unfounded rates for level 1 sexual assault in every region across Canada, and showing which region currently has the highest rate."
   ]
  },
  {
   "cell_type": "code",
   "execution_count": 44,
   "metadata": {},
   "outputs": [
    {
     "data": {
      "text/html": [
       "<div>\n",
       "<style scoped>\n",
       "    .dataframe tbody tr th:only-of-type {\n",
       "        vertical-align: middle;\n",
       "    }\n",
       "\n",
       "    .dataframe tbody tr th {\n",
       "        vertical-align: top;\n",
       "    }\n",
       "\n",
       "    .dataframe thead th {\n",
       "        text-align: right;\n",
       "    }\n",
       "</style>\n",
       "<table border=\"1\" class=\"dataframe\">\n",
       "  <thead>\n",
       "    <tr style=\"text-align: right;\">\n",
       "      <th>REF_DATE</th>\n",
       "      <th>2017</th>\n",
       "      <th>2018</th>\n",
       "      <th>2019</th>\n",
       "      <th>2020</th>\n",
       "    </tr>\n",
       "    <tr>\n",
       "      <th>GEO</th>\n",
       "      <th></th>\n",
       "      <th></th>\n",
       "      <th></th>\n",
       "      <th></th>\n",
       "    </tr>\n",
       "  </thead>\n",
       "  <tbody>\n",
       "    <tr>\n",
       "      <th>Moncton, New Brunswick [13305]</th>\n",
       "      <td>30.71</td>\n",
       "      <td>21.01</td>\n",
       "      <td>23.75</td>\n",
       "      <td>19.15</td>\n",
       "    </tr>\n",
       "    <tr>\n",
       "      <th>Prince Edward Island [11]</th>\n",
       "      <td>25.81</td>\n",
       "      <td>12.50</td>\n",
       "      <td>25.00</td>\n",
       "      <td>18.71</td>\n",
       "    </tr>\n",
       "    <tr>\n",
       "      <th>Northwest Territories [61]</th>\n",
       "      <td>14.55</td>\n",
       "      <td>18.59</td>\n",
       "      <td>16.72</td>\n",
       "      <td>18.12</td>\n",
       "    </tr>\n",
       "    <tr>\n",
       "      <th>Thunder Bay, Ontario [35595]</th>\n",
       "      <td>17.27</td>\n",
       "      <td>12.26</td>\n",
       "      <td>14.19</td>\n",
       "      <td>15.56</td>\n",
       "    </tr>\n",
       "    <tr>\n",
       "      <th>Abbotsford-Mission, British Columbia [59932]</th>\n",
       "      <td>19.44</td>\n",
       "      <td>16.78</td>\n",
       "      <td>13.07</td>\n",
       "      <td>14.52</td>\n",
       "    </tr>\n",
       "  </tbody>\n",
       "</table>\n",
       "</div>"
      ],
      "text/plain": [
       "REF_DATE                                       2017   2018   2019   2020\n",
       "GEO                                                                     \n",
       "Moncton, New Brunswick [13305]                30.71  21.01  23.75  19.15\n",
       "Prince Edward Island [11]                     25.81  12.50  25.00  18.71\n",
       "Northwest Territories [61]                    14.55  18.59  16.72  18.12\n",
       "Thunder Bay, Ontario [35595]                  17.27  12.26  14.19  15.56\n",
       "Abbotsford-Mission, British Columbia [59932]  19.44  16.78  13.07  14.52"
      ]
     },
     "execution_count": 44,
     "metadata": {},
     "output_type": "execute_result"
    }
   ],
   "source": [
    "data = (raw\n",
    "        .loc[(raw[\"Statistics\"].isin([\"Percent unfounded\"])) &\n",
    "             (raw[\"Violations\"] == \"Sexual assault, level 1 [1330]\"), :]\n",
    "        .pivot(index=\"GEO\", columns=\"REF_DATE\", values=\"VALUE\")\n",
    "        .dropna(how=\"all\", axis=1)\n",
    "        )\n",
    "\n",
    "data.sort_values(2020, ascending=False).head(5)"
   ]
  },
  {
   "cell_type": "markdown",
   "metadata": {},
   "source": [
    "Now let's take a look at which areas have improved the least since 2017 by adding a new column."
   ]
  },
  {
   "cell_type": "code",
   "execution_count": 38,
   "metadata": {},
   "outputs": [
    {
     "data": {
      "text/html": [
       "<div>\n",
       "<style scoped>\n",
       "    .dataframe tbody tr th:only-of-type {\n",
       "        vertical-align: middle;\n",
       "    }\n",
       "\n",
       "    .dataframe tbody tr th {\n",
       "        vertical-align: top;\n",
       "    }\n",
       "\n",
       "    .dataframe thead th {\n",
       "        text-align: right;\n",
       "    }\n",
       "</style>\n",
       "<table border=\"1\" class=\"dataframe\">\n",
       "  <thead>\n",
       "    <tr style=\"text-align: right;\">\n",
       "      <th>REF_DATE</th>\n",
       "      <th>2017</th>\n",
       "      <th>2018</th>\n",
       "      <th>2019</th>\n",
       "      <th>2020</th>\n",
       "      <th>diff</th>\n",
       "    </tr>\n",
       "    <tr>\n",
       "      <th>GEO</th>\n",
       "      <th></th>\n",
       "      <th></th>\n",
       "      <th></th>\n",
       "      <th></th>\n",
       "      <th></th>\n",
       "    </tr>\n",
       "  </thead>\n",
       "  <tbody>\n",
       "    <tr>\n",
       "      <th>Northwest Territories [61]</th>\n",
       "      <td>14.55</td>\n",
       "      <td>18.59</td>\n",
       "      <td>16.72</td>\n",
       "      <td>18.12</td>\n",
       "      <td>3.57</td>\n",
       "    </tr>\n",
       "    <tr>\n",
       "      <th>Calgary, Alberta [48825]</th>\n",
       "      <td>5.13</td>\n",
       "      <td>5.41</td>\n",
       "      <td>5.54</td>\n",
       "      <td>6.35</td>\n",
       "      <td>1.22</td>\n",
       "    </tr>\n",
       "    <tr>\n",
       "      <th>Saskatoon, Saskatchewan [47725]</th>\n",
       "      <td>3.50</td>\n",
       "      <td>2.65</td>\n",
       "      <td>4.15</td>\n",
       "      <td>4.68</td>\n",
       "      <td>1.18</td>\n",
       "    </tr>\n",
       "    <tr>\n",
       "      <th>Brantford, Ontario [35543]</th>\n",
       "      <td>13.48</td>\n",
       "      <td>9.32</td>\n",
       "      <td>10.48</td>\n",
       "      <td>13.91</td>\n",
       "      <td>0.43</td>\n",
       "    </tr>\n",
       "    <tr>\n",
       "      <th>Peterborough, Ontario [35529]</th>\n",
       "      <td>10.87</td>\n",
       "      <td>7.38</td>\n",
       "      <td>5.04</td>\n",
       "      <td>9.90</td>\n",
       "      <td>-0.97</td>\n",
       "    </tr>\n",
       "    <tr>\n",
       "      <th>Saguenay, Quebec [24408]</th>\n",
       "      <td>15.25</td>\n",
       "      <td>13.87</td>\n",
       "      <td>17.26</td>\n",
       "      <td>14.00</td>\n",
       "      <td>-1.25</td>\n",
       "    </tr>\n",
       "    <tr>\n",
       "      <th>Thunder Bay, Ontario [35595]</th>\n",
       "      <td>17.27</td>\n",
       "      <td>12.26</td>\n",
       "      <td>14.19</td>\n",
       "      <td>15.56</td>\n",
       "      <td>-1.71</td>\n",
       "    </tr>\n",
       "    <tr>\n",
       "      <th>Sherbrooke, Quebec [24433]</th>\n",
       "      <td>6.34</td>\n",
       "      <td>9.70</td>\n",
       "      <td>4.46</td>\n",
       "      <td>4.49</td>\n",
       "      <td>-1.85</td>\n",
       "    </tr>\n",
       "    <tr>\n",
       "      <th>Halifax, Nova Scotia [12205]</th>\n",
       "      <td>4.46</td>\n",
       "      <td>2.42</td>\n",
       "      <td>6.26</td>\n",
       "      <td>2.59</td>\n",
       "      <td>-1.87</td>\n",
       "    </tr>\n",
       "    <tr>\n",
       "      <th>Newfoundland and Labrador [10]</th>\n",
       "      <td>12.63</td>\n",
       "      <td>19.20</td>\n",
       "      <td>14.44</td>\n",
       "      <td>10.40</td>\n",
       "      <td>-2.23</td>\n",
       "    </tr>\n",
       "  </tbody>\n",
       "</table>\n",
       "</div>"
      ],
      "text/plain": [
       "REF_DATE                          2017   2018   2019   2020  diff\n",
       "GEO                                                              \n",
       "Northwest Territories [61]       14.55  18.59  16.72  18.12  3.57\n",
       "Calgary, Alberta [48825]          5.13   5.41   5.54   6.35  1.22\n",
       "Saskatoon, Saskatchewan [47725]   3.50   2.65   4.15   4.68  1.18\n",
       "Brantford, Ontario [35543]       13.48   9.32  10.48  13.91  0.43\n",
       "Peterborough, Ontario [35529]    10.87   7.38   5.04   9.90 -0.97\n",
       "Saguenay, Quebec [24408]         15.25  13.87  17.26  14.00 -1.25\n",
       "Thunder Bay, Ontario [35595]     17.27  12.26  14.19  15.56 -1.71\n",
       "Sherbrooke, Quebec [24433]        6.34   9.70   4.46   4.49 -1.85\n",
       "Halifax, Nova Scotia [12205]      4.46   2.42   6.26   2.59 -1.87\n",
       "Newfoundland and Labrador [10]   12.63  19.20  14.44  10.40 -2.23"
      ]
     },
     "execution_count": 38,
     "metadata": {},
     "output_type": "execute_result"
    }
   ],
   "source": [
    "data[\"diff\"] = data[2020] - data[2017]\n",
    "data = data.sort_values(\"diff\", ascending=False)\n",
    "\n",
    "data.head(10)"
   ]
  },
  {
   "cell_type": "markdown",
   "metadata": {},
   "source": [
    "Let's also take a moment to put this into context - what's the average unfounded rate for all violations across Canada? Are these numbers very high, or about what we might expect for unfounded rates?"
   ]
  },
  {
   "cell_type": "code",
   "execution_count": 53,
   "metadata": {},
   "outputs": [
    {
     "data": {
      "text/html": [
       "<div>\n",
       "<style scoped>\n",
       "    .dataframe tbody tr th:only-of-type {\n",
       "        vertical-align: middle;\n",
       "    }\n",
       "\n",
       "    .dataframe tbody tr th {\n",
       "        vertical-align: top;\n",
       "    }\n",
       "\n",
       "    .dataframe thead th {\n",
       "        text-align: right;\n",
       "    }\n",
       "</style>\n",
       "<table border=\"1\" class=\"dataframe\">\n",
       "  <thead>\n",
       "    <tr style=\"text-align: right;\">\n",
       "      <th></th>\n",
       "      <th>REF_DATE</th>\n",
       "      <th>GEO</th>\n",
       "      <th>VALUE</th>\n",
       "    </tr>\n",
       "  </thead>\n",
       "  <tbody>\n",
       "    <tr>\n",
       "      <th>3058344</th>\n",
       "      <td>2017</td>\n",
       "      <td>Canada</td>\n",
       "      <td>6.83</td>\n",
       "    </tr>\n",
       "    <tr>\n",
       "      <th>3307144</th>\n",
       "      <td>2018</td>\n",
       "      <td>Canada</td>\n",
       "      <td>6.21</td>\n",
       "    </tr>\n",
       "    <tr>\n",
       "      <th>3555944</th>\n",
       "      <td>2019</td>\n",
       "      <td>Canada</td>\n",
       "      <td>5.83</td>\n",
       "    </tr>\n",
       "    <tr>\n",
       "      <th>3804744</th>\n",
       "      <td>2020</td>\n",
       "      <td>Canada</td>\n",
       "      <td>5.69</td>\n",
       "    </tr>\n",
       "  </tbody>\n",
       "</table>\n",
       "</div>"
      ],
      "text/plain": [
       "         REF_DATE     GEO  VALUE\n",
       "3058344      2017  Canada   6.83\n",
       "3307144      2018  Canada   6.21\n",
       "3555944      2019  Canada   5.83\n",
       "3804744      2020  Canada   5.69"
      ]
     },
     "execution_count": 53,
     "metadata": {},
     "output_type": "execute_result"
    }
   ],
   "source": [
    "data = (raw\n",
    "        .loc[(raw[\"Statistics\"] == \"Percent unfounded\") &\n",
    "              (raw[\"Violations\"] == \"Total, all violations [0]\") &\n",
    "              (raw[\"GEO\"] == \"Canada\") &\n",
    "              (raw[\"REF_DATE\"] >= 2017), [\"REF_DATE\", \"GEO\", \"VALUE\"]]\n",
    "        )\n",
    "\n",
    "data.head(5)"
   ]
  },
  {
   "cell_type": "markdown",
   "metadata": {},
   "source": [
    "The answer to the question: yes, the unfounded rates for level 1 sexual assault are, in many places, far above the average unfounded rates for all crimes across Canada."
   ]
  },
  {
   "cell_type": "markdown",
   "metadata": {},
   "source": [
    "### Northwest Territories"
   ]
  },
  {
   "cell_type": "markdown",
   "metadata": {},
   "source": [
    "Let's take a closer look at the Northwest Territories, where things seem to be getting worse in terms of concluding lower-severity sexual assault cases as unfounded. Maybe they just don't have a lot of cases, and this is a sample size issue."
   ]
  },
  {
   "cell_type": "code",
   "execution_count": 43,
   "metadata": {},
   "outputs": [
    {
     "data": {
      "text/html": [
       "<div>\n",
       "<style scoped>\n",
       "    .dataframe tbody tr th:only-of-type {\n",
       "        vertical-align: middle;\n",
       "    }\n",
       "\n",
       "    .dataframe tbody tr th {\n",
       "        vertical-align: top;\n",
       "    }\n",
       "\n",
       "    .dataframe thead th {\n",
       "        text-align: right;\n",
       "    }\n",
       "</style>\n",
       "<table border=\"1\" class=\"dataframe\">\n",
       "  <thead>\n",
       "    <tr style=\"text-align: right;\">\n",
       "      <th></th>\n",
       "      <th>VALUE</th>\n",
       "    </tr>\n",
       "    <tr>\n",
       "      <th>REF_DATE</th>\n",
       "      <th></th>\n",
       "    </tr>\n",
       "  </thead>\n",
       "  <tbody>\n",
       "    <tr>\n",
       "      <th>1998</th>\n",
       "      <td>450.0</td>\n",
       "    </tr>\n",
       "    <tr>\n",
       "      <th>1999</th>\n",
       "      <td>200.0</td>\n",
       "    </tr>\n",
       "    <tr>\n",
       "      <th>2000</th>\n",
       "      <td>177.0</td>\n",
       "    </tr>\n",
       "    <tr>\n",
       "      <th>2001</th>\n",
       "      <td>143.0</td>\n",
       "    </tr>\n",
       "    <tr>\n",
       "      <th>2002</th>\n",
       "      <td>175.0</td>\n",
       "    </tr>\n",
       "  </tbody>\n",
       "</table>\n",
       "</div>"
      ],
      "text/plain": [
       "          VALUE\n",
       "REF_DATE       \n",
       "1998      450.0\n",
       "1999      200.0\n",
       "2000      177.0\n",
       "2001      143.0\n",
       "2002      175.0"
      ]
     },
     "execution_count": 43,
     "metadata": {},
     "output_type": "execute_result"
    }
   ],
   "source": [
    "nwt = (raw\n",
    "        .loc[(raw[\"Statistics\"].isin([\"Actual incidents\"])) &\n",
    "             (raw[\"Violations\"] == \"Sexual assault, level 1 [1330]\") &\n",
    "             (raw[\"GEO\"] == \"Northwest Territories [61]\"), [\"REF_DATE\", \"VALUE\"]]\n",
    "        .set_index(\"REF_DATE\")\n",
    "        )\n",
    "\n",
    "nwt.head(5)"
   ]
  },
  {
   "cell_type": "markdown",
   "metadata": {},
   "source": [
    "It looks like they have a reasonable number of cases. Certainly enough that it makes their unfounded rate interesting."
   ]
  }
 ],
 "metadata": {
  "kernelspec": {
   "display_name": "Python 3.10.2 ('geo')",
   "language": "python",
   "name": "python3"
  },
  "language_info": {
   "codemirror_mode": {
    "name": "ipython",
    "version": 3
   },
   "file_extension": ".py",
   "mimetype": "text/x-python",
   "name": "python",
   "nbconvert_exporter": "python",
   "pygments_lexer": "ipython3",
   "version": "3.10.2"
  },
  "orig_nbformat": 4,
  "vscode": {
   "interpreter": {
    "hash": "73de8b438f32372771bda1aa2e3d2689a59747422210df3e3470a45f58c477e6"
   }
  }
 },
 "nbformat": 4,
 "nbformat_minor": 2
}
