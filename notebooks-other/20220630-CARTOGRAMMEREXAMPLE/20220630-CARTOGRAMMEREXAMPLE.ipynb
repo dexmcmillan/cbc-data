{
 "cells": [
  {
   "cell_type": "markdown",
   "metadata": {},
   "source": [
    "# Example use of cartogrammer\n",
    "**June 30, 2022**"
   ]
  },
  {
   "cell_type": "markdown",
   "metadata": {},
   "source": [
    "Here's a quick example of how to use the python package cartogrammer, which takes shapefiles as input, and spits them out as grids of equally sized squares. These can then be rearranged using QGIS to make grid cartograms.\n",
    "\n",
    "First, we'll import the package, plus a package that will allow us to show the Datawrapper results in this notebook."
   ]
  },
  {
   "cell_type": "code",
   "execution_count": 1,
   "metadata": {},
   "outputs": [],
   "source": [
    "import cartogrammer\n",
    "import datawrappergraphics"
   ]
  },
  {
   "cell_type": "markdown",
   "metadata": {},
   "source": [
    "This is the basic implementation. The first argument links to a shapefile in .zip format (you can download the shape file used here from [Statistics Canada](https://www12.statcan.gc.ca/census-recensement/2021/geo/sip-pis/boundary-limites/index2021-eng.cfm?year=21)). The export filepath is the name of the file that will be exported, plus any path info you'd like.\n",
    "\n",
    "Once the class has been instantiated, you can access the data by calling the .data attribute for further manipulations."
   ]
  },
  {
   "cell_type": "code",
   "execution_count": 2,
   "metadata": {},
   "outputs": [
    {
     "name": "stderr",
     "output_type": "stream",
     "text": [
      "c:\\Users\\dexmc\\anaconda3\\envs\\geo\\lib\\site-packages\\geopandas\\io\\file.py:362: FutureWarning: pandas.Int64Index is deprecated and will be removed from pandas in a future version. Use pandas.Index with the appropriate dtype instead.\n",
      "  pd.Int64Index,\n"
     ]
    },
    {
     "data": {
      "text/html": [
       "<div>\n",
       "<style scoped>\n",
       "    .dataframe tbody tr th:only-of-type {\n",
       "        vertical-align: middle;\n",
       "    }\n",
       "\n",
       "    .dataframe tbody tr th {\n",
       "        vertical-align: top;\n",
       "    }\n",
       "\n",
       "    .dataframe thead th {\n",
       "        text-align: right;\n",
       "    }\n",
       "</style>\n",
       "<table border=\"1\" class=\"dataframe\">\n",
       "  <thead>\n",
       "    <tr style=\"text-align: right;\">\n",
       "      <th></th>\n",
       "      <th>FEDUID</th>\n",
       "      <th>DGUID</th>\n",
       "      <th>FEDNAME</th>\n",
       "      <th>FEDENAME</th>\n",
       "      <th>FEDFNAME</th>\n",
       "      <th>LANDAREA</th>\n",
       "      <th>PRUID</th>\n",
       "      <th>geometry</th>\n",
       "      <th>offsety</th>\n",
       "      <th>offsetx</th>\n",
       "    </tr>\n",
       "  </thead>\n",
       "  <tbody>\n",
       "    <tr>\n",
       "      <th>337</th>\n",
       "      <td>62001</td>\n",
       "      <td>2013A000462001</td>\n",
       "      <td>Nunavut</td>\n",
       "      <td>Nunavut</td>\n",
       "      <td>Nunavut</td>\n",
       "      <td>1.836994e+06</td>\n",
       "      <td>62</td>\n",
       "      <td>POLYGON ((1.35355 0.35355, 1.35355 -0.35355, 0...</td>\n",
       "      <td>0</td>\n",
       "      <td>1</td>\n",
       "    </tr>\n",
       "    <tr>\n",
       "      <th>336</th>\n",
       "      <td>61001</td>\n",
       "      <td>2013A000461001</td>\n",
       "      <td>Northwest Territories / Territoires du Nord-Ouest</td>\n",
       "      <td>Northwest Territories</td>\n",
       "      <td>Territoires du Nord-Ouest</td>\n",
       "      <td>1.127712e+06</td>\n",
       "      <td>61</td>\n",
       "      <td>POLYGON ((1.35355 1.35355, 1.35355 0.64645, 0....</td>\n",
       "      <td>1</td>\n",
       "      <td>1</td>\n",
       "    </tr>\n",
       "    <tr>\n",
       "      <th>335</th>\n",
       "      <td>60001</td>\n",
       "      <td>2013A000460001</td>\n",
       "      <td>Yukon</td>\n",
       "      <td>Yukon</td>\n",
       "      <td>Yukon</td>\n",
       "      <td>4.723454e+05</td>\n",
       "      <td>60</td>\n",
       "      <td>POLYGON ((1.35355 2.35355, 1.35355 1.64645, 0....</td>\n",
       "      <td>2</td>\n",
       "      <td>1</td>\n",
       "    </tr>\n",
       "    <tr>\n",
       "      <th>334</th>\n",
       "      <td>59042</td>\n",
       "      <td>2013A000459042</td>\n",
       "      <td>West Vancouver--Sunshine Coast--Sea to Sky Cou...</td>\n",
       "      <td>West Vancouver--Sunshine Coast--Sea to Sky Cou...</td>\n",
       "      <td>West Vancouver--Sunshine Coast--Sea to Sky Cou...</td>\n",
       "      <td>1.299095e+04</td>\n",
       "      <td>59</td>\n",
       "      <td>POLYGON ((1.35355 3.35355, 1.35355 2.64645, 0....</td>\n",
       "      <td>3</td>\n",
       "      <td>1</td>\n",
       "    </tr>\n",
       "    <tr>\n",
       "      <th>333</th>\n",
       "      <td>59041</td>\n",
       "      <td>2013A000459041</td>\n",
       "      <td>Victoria</td>\n",
       "      <td>Victoria</td>\n",
       "      <td>Victoria</td>\n",
       "      <td>4.025560e+01</td>\n",
       "      <td>59</td>\n",
       "      <td>POLYGON ((1.35355 4.35355, 1.35355 3.64645, 0....</td>\n",
       "      <td>4</td>\n",
       "      <td>1</td>\n",
       "    </tr>\n",
       "  </tbody>\n",
       "</table>\n",
       "</div>"
      ],
      "text/plain": [
       "    FEDUID           DGUID                                            FEDNAME  \\\n",
       "337  62001  2013A000462001                                            Nunavut   \n",
       "336  61001  2013A000461001  Northwest Territories / Territoires du Nord-Ouest   \n",
       "335  60001  2013A000460001                                              Yukon   \n",
       "334  59042  2013A000459042  West Vancouver--Sunshine Coast--Sea to Sky Cou...   \n",
       "333  59041  2013A000459041                                           Victoria   \n",
       "\n",
       "                                              FEDENAME  \\\n",
       "337                                            Nunavut   \n",
       "336                              Northwest Territories   \n",
       "335                                              Yukon   \n",
       "334  West Vancouver--Sunshine Coast--Sea to Sky Cou...   \n",
       "333                                           Victoria   \n",
       "\n",
       "                                              FEDFNAME      LANDAREA PRUID  \\\n",
       "337                                            Nunavut  1.836994e+06    62   \n",
       "336                          Territoires du Nord-Ouest  1.127712e+06    61   \n",
       "335                                              Yukon  4.723454e+05    60   \n",
       "334  West Vancouver--Sunshine Coast--Sea to Sky Cou...  1.299095e+04    59   \n",
       "333                                           Victoria  4.025560e+01    59   \n",
       "\n",
       "                                              geometry  offsety  offsetx  \n",
       "337  POLYGON ((1.35355 0.35355, 1.35355 -0.35355, 0...        0        1  \n",
       "336  POLYGON ((1.35355 1.35355, 1.35355 0.64645, 0....        1        1  \n",
       "335  POLYGON ((1.35355 2.35355, 1.35355 1.64645, 0....        2        1  \n",
       "334  POLYGON ((1.35355 3.35355, 1.35355 2.64645, 0....        3        1  \n",
       "333  POLYGON ((1.35355 4.35355, 1.35355 3.64645, 0....        4        1  "
      ]
     },
     "execution_count": 2,
     "metadata": {},
     "output_type": "execute_result"
    }
   ],
   "source": [
    "shapes = cartogrammer.Cartogram(file=\"./federal-canada.zip\", export=\"canada.geojson\").data\n",
    "\n",
    "shapes.head(5)"
   ]
  },
  {
   "cell_type": "markdown",
   "metadata": {},
   "source": [
    "Under the hood, cartogrammer changes the geometry of each shape, converting them into squares of equal size. Note that the coordinates themselves are now arbitrary - if you were to open in QGIS, the grid will show up somewhere random on the map. But that info isn't really relevant for grid cartograms.\n",
    "\n",
    "You'll notice as well there there are two new columns (offsety and offset x). These control placement of each shape, and can also be used to plot onto a scatter plot grid if that works better for your visualization. Here's how the final product looks in Datawrapper (plus some election data that I grabbed from Elections Canada)."
   ]
  },
  {
   "cell_type": "code",
   "execution_count": 3,
   "metadata": {},
   "outputs": [
    {
     "name": "stderr",
     "output_type": "stream",
     "text": [
      "c:\\Users\\dexmc\\anaconda3\\envs\\geo\\lib\\site-packages\\IPython\\core\\display.py:419: UserWarning: Consider using IPython.display.IFrame instead\n",
      "  warnings.warn(\"Consider using IPython.display.IFrame instead\")\n"
     ]
    },
    {
     "data": {
      "text/html": [
       "<iframe title=\"2021 Election Results\" aria-label=\"Map\" id=\"datawrapper-chart-VCVB7\" src=\"https://datawrapper.dwcdn.net/VCVB7/1/\" scrolling=\"no\" frameborder=\"0\" style=\"border: none;\" width=\"720\" height=\"311\"></iframe>"
      ],
      "text/plain": [
       "<IPython.core.display.HTML object>"
      ]
     },
     "execution_count": 3,
     "metadata": {},
     "output_type": "execute_result"
    }
   ],
   "source": [
    "datawrappergraphics.Chart(\"VCVB7\").show()"
   ]
  },
  {
   "cell_type": "markdown",
   "metadata": {},
   "source": [
    "That's a basic usage example for this package!\n",
    "\n",
    "\\-30\\-"
   ]
  }
 ],
 "metadata": {
  "kernelspec": {
   "display_name": "Python 3.10.2 ('geo')",
   "language": "python",
   "name": "python3"
  },
  "language_info": {
   "codemirror_mode": {
    "name": "ipython",
    "version": 3
   },
   "file_extension": ".py",
   "mimetype": "text/x-python",
   "name": "python",
   "nbconvert_exporter": "python",
   "pygments_lexer": "ipython3",
   "version": "3.10.2"
  },
  "orig_nbformat": 4,
  "vscode": {
   "interpreter": {
    "hash": "73de8b438f32372771bda1aa2e3d2689a59747422210df3e3470a45f58c477e6"
   }
  }
 },
 "nbformat": 4,
 "nbformat_minor": 2
}
