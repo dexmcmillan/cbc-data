{
 "cells": [
  {
   "cell_type": "code",
   "execution_count": 31,
   "metadata": {},
   "outputs": [],
   "source": [
    "import geopandas\n",
    "import datawrappergraphics"
   ]
  },
  {
   "cell_type": "code",
   "execution_count": 32,
   "metadata": {},
   "outputs": [
    {
     "name": "stderr",
     "output_type": "stream",
     "text": [
      "INFO:fiona.ogrext:Failed to auto identify EPSG: 7\n"
     ]
    },
    {
     "data": {
      "text/html": [
       "<div>\n",
       "<style scoped>\n",
       "    .dataframe tbody tr th:only-of-type {\n",
       "        vertical-align: middle;\n",
       "    }\n",
       "\n",
       "    .dataframe tbody tr th {\n",
       "        vertical-align: top;\n",
       "    }\n",
       "\n",
       "    .dataframe thead th {\n",
       "        text-align: right;\n",
       "    }\n",
       "</style>\n",
       "<table border=\"1\" class=\"dataframe\">\n",
       "  <thead>\n",
       "    <tr style=\"text-align: right;\">\n",
       "      <th></th>\n",
       "      <th>descriptio</th>\n",
       "      <th>flood_cd</th>\n",
       "      <th>perimeter</th>\n",
       "      <th>geometry</th>\n",
       "    </tr>\n",
       "  </thead>\n",
       "  <tbody>\n",
       "    <tr>\n",
       "      <th>0</th>\n",
       "      <td>Floodway</td>\n",
       "      <td>200.0</td>\n",
       "      <td>527.48716</td>\n",
       "      <td>POLYGON ((-114.24759 51.10072, -114.24759 51.1...</td>\n",
       "    </tr>\n",
       "    <tr>\n",
       "      <th>1</th>\n",
       "      <td>Normal River Channel</td>\n",
       "      <td>500.0</td>\n",
       "      <td>613.85729</td>\n",
       "      <td>POLYGON ((-114.24606 51.02078, -114.24606 51.0...</td>\n",
       "    </tr>\n",
       "    <tr>\n",
       "      <th>2</th>\n",
       "      <td>Flood Fringe</td>\n",
       "      <td>100.0</td>\n",
       "      <td>null</td>\n",
       "      <td>POLYGON ((-114.23247 51.23841, -114.23248 51.2...</td>\n",
       "    </tr>\n",
       "    <tr>\n",
       "      <th>3</th>\n",
       "      <td>Flood Fringe</td>\n",
       "      <td>100.0</td>\n",
       "      <td>null</td>\n",
       "      <td>POLYGON ((-114.05016 51.08915, -114.05008 51.0...</td>\n",
       "    </tr>\n",
       "    <tr>\n",
       "      <th>4</th>\n",
       "      <td>Floodway</td>\n",
       "      <td>200.0</td>\n",
       "      <td>68.86382</td>\n",
       "      <td>POLYGON ((-114.02651 51.04302, -114.02654 51.0...</td>\n",
       "    </tr>\n",
       "    <tr>\n",
       "      <th>...</th>\n",
       "      <td>...</td>\n",
       "      <td>...</td>\n",
       "      <td>...</td>\n",
       "      <td>...</td>\n",
       "    </tr>\n",
       "    <tr>\n",
       "      <th>1139</th>\n",
       "      <td>Floodway</td>\n",
       "      <td>200.0</td>\n",
       "      <td>800.57362</td>\n",
       "      <td>POLYGON ((-114.18266 51.00556, -114.18267 51.0...</td>\n",
       "    </tr>\n",
       "    <tr>\n",
       "      <th>1140</th>\n",
       "      <td>Floodway</td>\n",
       "      <td>200.0</td>\n",
       "      <td>48.86256</td>\n",
       "      <td>POLYGON ((-114.20714 51.00477, -114.20715 51.0...</td>\n",
       "    </tr>\n",
       "    <tr>\n",
       "      <th>1141</th>\n",
       "      <td>Normal River Channel</td>\n",
       "      <td>500.0</td>\n",
       "      <td>42.35428</td>\n",
       "      <td>POLYGON ((-114.18798 51.00473, -114.18799 51.0...</td>\n",
       "    </tr>\n",
       "    <tr>\n",
       "      <th>1142</th>\n",
       "      <td>Normal River Channel</td>\n",
       "      <td>500.0</td>\n",
       "      <td>246.96619</td>\n",
       "      <td>POLYGON ((-113.95833 50.84968, -113.95831 50.8...</td>\n",
       "    </tr>\n",
       "    <tr>\n",
       "      <th>1143</th>\n",
       "      <td>Normal River Channel</td>\n",
       "      <td>500.0</td>\n",
       "      <td>2488.52884</td>\n",
       "      <td>POLYGON ((-113.96576 50.91339, -113.96574 50.9...</td>\n",
       "    </tr>\n",
       "  </tbody>\n",
       "</table>\n",
       "<p>1144 rows × 4 columns</p>\n",
       "</div>"
      ],
      "text/plain": [
       "                descriptio  flood_cd   perimeter  \\\n",
       "0                 Floodway     200.0   527.48716   \n",
       "1     Normal River Channel     500.0   613.85729   \n",
       "2             Flood Fringe     100.0        null   \n",
       "3             Flood Fringe     100.0        null   \n",
       "4                 Floodway     200.0    68.86382   \n",
       "...                    ...       ...         ...   \n",
       "1139              Floodway     200.0   800.57362   \n",
       "1140              Floodway     200.0    48.86256   \n",
       "1141  Normal River Channel     500.0    42.35428   \n",
       "1142  Normal River Channel     500.0   246.96619   \n",
       "1143  Normal River Channel     500.0  2488.52884   \n",
       "\n",
       "                                               geometry  \n",
       "0     POLYGON ((-114.24759 51.10072, -114.24759 51.1...  \n",
       "1     POLYGON ((-114.24606 51.02078, -114.24606 51.0...  \n",
       "2     POLYGON ((-114.23247 51.23841, -114.23248 51.2...  \n",
       "3     POLYGON ((-114.05016 51.08915, -114.05008 51.0...  \n",
       "4     POLYGON ((-114.02651 51.04302, -114.02654 51.0...  \n",
       "...                                                 ...  \n",
       "1139  POLYGON ((-114.18266 51.00556, -114.18267 51.0...  \n",
       "1140  POLYGON ((-114.20714 51.00477, -114.20715 51.0...  \n",
       "1141  POLYGON ((-114.18798 51.00473, -114.18799 51.0...  \n",
       "1142  POLYGON ((-113.95833 50.84968, -113.95831 50.8...  \n",
       "1143  POLYGON ((-113.96576 50.91339, -113.96574 50.9...  \n",
       "\n",
       "[1144 rows x 4 columns]"
      ]
     },
     "execution_count": 32,
     "metadata": {},
     "output_type": "execute_result"
    }
   ],
   "source": [
    "raw = geopandas.read_file(\"https://data.calgary.ca/api/geospatial/tp6q-x2v7?method=export&format=Shapefile\")\n",
    "\n",
    "raw"
   ]
  },
  {
   "cell_type": "code",
   "execution_count": 33,
   "metadata": {},
   "outputs": [
    {
     "data": {
      "text/html": [
       "<div>\n",
       "<style scoped>\n",
       "    .dataframe tbody tr th:only-of-type {\n",
       "        vertical-align: middle;\n",
       "    }\n",
       "\n",
       "    .dataframe tbody tr th {\n",
       "        vertical-align: top;\n",
       "    }\n",
       "\n",
       "    .dataframe thead th {\n",
       "        text-align: right;\n",
       "    }\n",
       "</style>\n",
       "<table border=\"1\" class=\"dataframe\">\n",
       "  <thead>\n",
       "    <tr style=\"text-align: right;\">\n",
       "      <th></th>\n",
       "      <th>geometry</th>\n",
       "      <th>flood_cd</th>\n",
       "      <th>perimeter</th>\n",
       "      <th>type</th>\n",
       "    </tr>\n",
       "    <tr>\n",
       "      <th>descriptio</th>\n",
       "      <th></th>\n",
       "      <th></th>\n",
       "      <th></th>\n",
       "      <th></th>\n",
       "    </tr>\n",
       "  </thead>\n",
       "  <tbody>\n",
       "    <tr>\n",
       "      <th>Flood Fringe</th>\n",
       "      <td>MULTIPOLYGON (((-114.21897 51.00449, -114.2189...</td>\n",
       "      <td>100.0</td>\n",
       "      <td>null</td>\n",
       "      <td>area</td>\n",
       "    </tr>\n",
       "    <tr>\n",
       "      <th>Floodplain</th>\n",
       "      <td>MULTIPOLYGON (((-114.04400 51.04319, -114.0439...</td>\n",
       "      <td>400.0</td>\n",
       "      <td>6623.75936</td>\n",
       "      <td>area</td>\n",
       "    </tr>\n",
       "    <tr>\n",
       "      <th>Floodway</th>\n",
       "      <td>MULTIPOLYGON (((-114.22932 51.00569, -114.2293...</td>\n",
       "      <td>200.0</td>\n",
       "      <td>527.48716</td>\n",
       "      <td>area</td>\n",
       "    </tr>\n",
       "    <tr>\n",
       "      <th>Overland Flow</th>\n",
       "      <td>MULTIPOLYGON (((-114.07827 51.02972, -114.0782...</td>\n",
       "      <td>300.0</td>\n",
       "      <td>7275.57189</td>\n",
       "      <td>area</td>\n",
       "    </tr>\n",
       "  </tbody>\n",
       "</table>\n",
       "</div>"
      ],
      "text/plain": [
       "                                                        geometry  flood_cd  \\\n",
       "descriptio                                                                   \n",
       "Flood Fringe   MULTIPOLYGON (((-114.21897 51.00449, -114.2189...     100.0   \n",
       "Floodplain     MULTIPOLYGON (((-114.04400 51.04319, -114.0439...     400.0   \n",
       "Floodway       MULTIPOLYGON (((-114.22932 51.00569, -114.2293...     200.0   \n",
       "Overland Flow  MULTIPOLYGON (((-114.07827 51.02972, -114.0782...     300.0   \n",
       "\n",
       "                perimeter  type  \n",
       "descriptio                       \n",
       "Flood Fringe         null  area  \n",
       "Floodplain     6623.75936  area  \n",
       "Floodway        527.48716  area  \n",
       "Overland Flow  7275.57189  area  "
      ]
     },
     "execution_count": 33,
     "metadata": {},
     "output_type": "execute_result"
    }
   ],
   "source": [
    "data = raw.loc[raw[\"descriptio\"] != \"Normal River Channel\",:].dissolve(\"descriptio\")\n",
    "data[\"type\"] = \"area\"\n",
    "data = data.rename({\"descriptio\": \"title\"})\n",
    "data[\"stroke\"] = False\n",
    "\n",
    "data"
   ]
  },
  {
   "cell_type": "code",
   "execution_count": 34,
   "metadata": {},
   "outputs": [],
   "source": [
    "data[\"geometry\"] = data[\"geometry\"].simplify(0.001)"
   ]
  },
  {
   "cell_type": "code",
   "execution_count": 35,
   "metadata": {},
   "outputs": [
    {
     "data": {
      "text/plain": [
       "array(['Floodway', 'Normal River Channel', 'Flood Fringe',\n",
       "       'Overland Flow', 'Floodplain'], dtype=object)"
      ]
     },
     "execution_count": 35,
     "metadata": {},
     "output_type": "execute_result"
    }
   ],
   "source": [
    "raw[\"descriptio\"].unique()"
   ]
  },
  {
   "cell_type": "code",
   "execution_count": 36,
   "metadata": {},
   "outputs": [
    {
     "name": "stderr",
     "output_type": "stream",
     "text": [
      "INFO:root:SUCCESS: Data added to chart.\n"
     ]
    },
    {
     "data": {
      "text/plain": [
       "<datawrappergraphics.graphics.Map at 0x16df83bb310>"
      ]
     },
     "execution_count": 36,
     "metadata": {},
     "output_type": "execute_result"
    }
   ],
   "source": [
    "datawrappergraphics.Map(\"LZs66\").data(data)"
   ]
  }
 ],
 "metadata": {
  "kernelspec": {
   "display_name": "Python 3.10.2 ('geo')",
   "language": "python",
   "name": "python3"
  },
  "language_info": {
   "codemirror_mode": {
    "name": "ipython",
    "version": 3
   },
   "file_extension": ".py",
   "mimetype": "text/x-python",
   "name": "python",
   "nbconvert_exporter": "python",
   "pygments_lexer": "ipython3",
   "version": "3.10.2"
  },
  "orig_nbformat": 4,
  "vscode": {
   "interpreter": {
    "hash": "73de8b438f32372771bda1aa2e3d2689a59747422210df3e3470a45f58c477e6"
   }
  }
 },
 "nbformat": 4,
 "nbformat_minor": 2
}
