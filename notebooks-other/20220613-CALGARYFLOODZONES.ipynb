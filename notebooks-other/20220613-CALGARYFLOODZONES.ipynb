{
 "cells": [
  {
   "cell_type": "markdown",
   "metadata": {},
   "source": [
    "# Calgary flood zone shapefiles\n",
    "*June 13, 2022*"
   ]
  },
  {
   "cell_type": "markdown",
   "metadata": {},
   "source": [
    "A quick dissolve on a dataset from the City of Calgary's [regulatory floodmap](https://data.calgary.ca/Environment/Regulatory-Flood-Map-Bylaw-Flood-Hazard-/tp6q-x2v7).\n",
    "\n",
    "Start with geopandas."
   ]
  },
  {
   "cell_type": "code",
   "execution_count": 48,
   "metadata": {},
   "outputs": [],
   "source": [
    "import geopandas"
   ]
  },
  {
   "cell_type": "markdown",
   "metadata": {},
   "source": [
    "Import the raw data from their API."
   ]
  },
  {
   "cell_type": "code",
   "execution_count": 56,
   "metadata": {},
   "outputs": [
    {
     "name": "stderr",
     "output_type": "stream",
     "text": [
      "INFO:fiona.ogrext:Failed to auto identify EPSG: 7\n"
     ]
    },
    {
     "data": {
      "text/html": [
       "<div>\n",
       "<style scoped>\n",
       "    .dataframe tbody tr th:only-of-type {\n",
       "        vertical-align: middle;\n",
       "    }\n",
       "\n",
       "    .dataframe tbody tr th {\n",
       "        vertical-align: top;\n",
       "    }\n",
       "\n",
       "    .dataframe thead th {\n",
       "        text-align: right;\n",
       "    }\n",
       "</style>\n",
       "<table border=\"1\" class=\"dataframe\">\n",
       "  <thead>\n",
       "    <tr style=\"text-align: right;\">\n",
       "      <th></th>\n",
       "      <th>descriptio</th>\n",
       "      <th>flood_cd</th>\n",
       "      <th>perimeter</th>\n",
       "      <th>geometry</th>\n",
       "    </tr>\n",
       "  </thead>\n",
       "  <tbody>\n",
       "    <tr>\n",
       "      <th>0</th>\n",
       "      <td>Floodway</td>\n",
       "      <td>200.0</td>\n",
       "      <td>527.48716</td>\n",
       "      <td>POLYGON ((-114.24759 51.10072, -114.24759 51.1...</td>\n",
       "    </tr>\n",
       "    <tr>\n",
       "      <th>1</th>\n",
       "      <td>Normal River Channel</td>\n",
       "      <td>500.0</td>\n",
       "      <td>613.85729</td>\n",
       "      <td>POLYGON ((-114.24606 51.02078, -114.24606 51.0...</td>\n",
       "    </tr>\n",
       "    <tr>\n",
       "      <th>2</th>\n",
       "      <td>Flood Fringe</td>\n",
       "      <td>100.0</td>\n",
       "      <td>null</td>\n",
       "      <td>POLYGON ((-114.23247 51.23841, -114.23248 51.2...</td>\n",
       "    </tr>\n",
       "    <tr>\n",
       "      <th>3</th>\n",
       "      <td>Flood Fringe</td>\n",
       "      <td>100.0</td>\n",
       "      <td>null</td>\n",
       "      <td>POLYGON ((-114.05016 51.08915, -114.05008 51.0...</td>\n",
       "    </tr>\n",
       "    <tr>\n",
       "      <th>4</th>\n",
       "      <td>Floodway</td>\n",
       "      <td>200.0</td>\n",
       "      <td>68.86382</td>\n",
       "      <td>POLYGON ((-114.02651 51.04302, -114.02654 51.0...</td>\n",
       "    </tr>\n",
       "  </tbody>\n",
       "</table>\n",
       "</div>"
      ],
      "text/plain": [
       "             descriptio  flood_cd  perimeter  \\\n",
       "0              Floodway     200.0  527.48716   \n",
       "1  Normal River Channel     500.0  613.85729   \n",
       "2          Flood Fringe     100.0       null   \n",
       "3          Flood Fringe     100.0       null   \n",
       "4              Floodway     200.0   68.86382   \n",
       "\n",
       "                                            geometry  \n",
       "0  POLYGON ((-114.24759 51.10072, -114.24759 51.1...  \n",
       "1  POLYGON ((-114.24606 51.02078, -114.24606 51.0...  \n",
       "2  POLYGON ((-114.23247 51.23841, -114.23248 51.2...  \n",
       "3  POLYGON ((-114.05016 51.08915, -114.05008 51.0...  \n",
       "4  POLYGON ((-114.02651 51.04302, -114.02654 51.0...  "
      ]
     },
     "execution_count": 56,
     "metadata": {},
     "output_type": "execute_result"
    }
   ],
   "source": [
    "raw = geopandas.read_file(\"https://data.calgary.ca/api/geospatial/tp6q-x2v7?method=export&format=Shapefile\")\n",
    "\n",
    "raw.head(5)"
   ]
  },
  {
   "cell_type": "markdown",
   "metadata": {},
   "source": [
    "Next, apply a dissolve to group by the descriptio category (where did the n go??? I do not know)."
   ]
  },
  {
   "cell_type": "code",
   "execution_count": 57,
   "metadata": {},
   "outputs": [
    {
     "data": {
      "text/html": [
       "<div>\n",
       "<style scoped>\n",
       "    .dataframe tbody tr th:only-of-type {\n",
       "        vertical-align: middle;\n",
       "    }\n",
       "\n",
       "    .dataframe tbody tr th {\n",
       "        vertical-align: top;\n",
       "    }\n",
       "\n",
       "    .dataframe thead th {\n",
       "        text-align: right;\n",
       "    }\n",
       "</style>\n",
       "<table border=\"1\" class=\"dataframe\">\n",
       "  <thead>\n",
       "    <tr style=\"text-align: right;\">\n",
       "      <th></th>\n",
       "      <th>descriptio</th>\n",
       "      <th>geometry</th>\n",
       "      <th>flood_cd</th>\n",
       "      <th>perimeter</th>\n",
       "    </tr>\n",
       "  </thead>\n",
       "  <tbody>\n",
       "    <tr>\n",
       "      <th>0</th>\n",
       "      <td>Flood Fringe</td>\n",
       "      <td>MULTIPOLYGON (((-114.21897 51.00449, -114.2189...</td>\n",
       "      <td>100.0</td>\n",
       "      <td>null</td>\n",
       "    </tr>\n",
       "    <tr>\n",
       "      <th>1</th>\n",
       "      <td>Floodplain</td>\n",
       "      <td>MULTIPOLYGON (((-114.04400 51.04319, -114.0439...</td>\n",
       "      <td>400.0</td>\n",
       "      <td>6623.75936</td>\n",
       "    </tr>\n",
       "    <tr>\n",
       "      <th>2</th>\n",
       "      <td>Floodway</td>\n",
       "      <td>MULTIPOLYGON (((-114.22932 51.00569, -114.2293...</td>\n",
       "      <td>200.0</td>\n",
       "      <td>527.48716</td>\n",
       "    </tr>\n",
       "    <tr>\n",
       "      <th>3</th>\n",
       "      <td>Overland Flow</td>\n",
       "      <td>MULTIPOLYGON (((-114.07827 51.02972, -114.0782...</td>\n",
       "      <td>300.0</td>\n",
       "      <td>7275.57189</td>\n",
       "    </tr>\n",
       "  </tbody>\n",
       "</table>\n",
       "</div>"
      ],
      "text/plain": [
       "      descriptio                                           geometry  flood_cd  \\\n",
       "0   Flood Fringe  MULTIPOLYGON (((-114.21897 51.00449, -114.2189...     100.0   \n",
       "1     Floodplain  MULTIPOLYGON (((-114.04400 51.04319, -114.0439...     400.0   \n",
       "2       Floodway  MULTIPOLYGON (((-114.22932 51.00569, -114.2293...     200.0   \n",
       "3  Overland Flow  MULTIPOLYGON (((-114.07827 51.02972, -114.0782...     300.0   \n",
       "\n",
       "    perimeter  \n",
       "0        null  \n",
       "1  6623.75936  \n",
       "2   527.48716  \n",
       "3  7275.57189  "
      ]
     },
     "execution_count": 57,
     "metadata": {},
     "output_type": "execute_result"
    }
   ],
   "source": [
    "data = raw.loc[raw[\"descriptio\"] != \"Normal River Channel\",:].dissolve(\"descriptio\").reset_index()\n",
    "\n",
    "data"
   ]
  },
  {
   "cell_type": "markdown",
   "metadata": {},
   "source": [
    "Finally, export to geojson."
   ]
  },
  {
   "cell_type": "code",
   "execution_count": 55,
   "metadata": {},
   "outputs": [
    {
     "name": "stderr",
     "output_type": "stream",
     "text": [
      "c:\\Users\\dexmc\\anaconda3\\envs\\geo\\lib\\site-packages\\geopandas\\io\\file.py:362: FutureWarning: pandas.Int64Index is deprecated and will be removed from pandas in a future version. Use pandas.Index with the appropriate dtype instead.\n",
      "  pd.Int64Index,\n"
     ]
    }
   ],
   "source": [
    "data.to_file(\"export.geojson\")"
   ]
  },
  {
   "cell_type": "markdown",
   "metadata": {},
   "source": [
    "\\-30\\-"
   ]
  }
 ],
 "metadata": {
  "kernelspec": {
   "display_name": "Python 3.10.2 ('geo')",
   "language": "python",
   "name": "python3"
  },
  "language_info": {
   "codemirror_mode": {
    "name": "ipython",
    "version": 3
   },
   "file_extension": ".py",
   "mimetype": "text/x-python",
   "name": "python",
   "nbconvert_exporter": "python",
   "pygments_lexer": "ipython3",
   "version": "3.10.2"
  },
  "orig_nbformat": 4,
  "vscode": {
   "interpreter": {
    "hash": "73de8b438f32372771bda1aa2e3d2689a59747422210df3e3470a45f58c477e6"
   }
  }
 },
 "nbformat": 4,
 "nbformat_minor": 2
}
