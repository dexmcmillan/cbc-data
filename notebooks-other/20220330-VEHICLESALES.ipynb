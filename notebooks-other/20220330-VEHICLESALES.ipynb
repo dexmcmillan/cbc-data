{
 "cells": [
  {
   "cell_type": "markdown",
   "metadata": {},
   "source": [
    "# Car sales data in Canada\n",
    "\n",
    "*March 30, 2022*"
   ]
  },
  {
   "cell_type": "markdown",
   "metadata": {},
   "source": [
    "Let's explore some data for a story coming up on the decline of the gasoline car. We'll use this data [here](https://www150.statcan.gc.ca/t1/tbl1/en/tv.action?pid=2010000803) and [here](https://www150.statcan.gc.ca/t1/tbl1/en/tv.action?pid=2010002401), on the number of units and value of units sold. We use pandas for the analysis."
   ]
  },
  {
   "cell_type": "code",
   "execution_count": 2,
   "metadata": {},
   "outputs": [],
   "source": [
    "import pandas as pd"
   ]
  },
  {
   "cell_type": "markdown",
   "metadata": {},
   "source": [
    "## Vehicle manufacturing"
   ]
  },
  {
   "cell_type": "markdown",
   "metadata": {},
   "source": [
    "Read in the data and show a little sample of it."
   ]
  },
  {
   "cell_type": "code",
   "execution_count": 3,
   "metadata": {},
   "outputs": [
    {
     "data": {
      "text/html": [
       "<div>\n",
       "<style scoped>\n",
       "    .dataframe tbody tr th:only-of-type {\n",
       "        vertical-align: middle;\n",
       "    }\n",
       "\n",
       "    .dataframe tbody tr th {\n",
       "        vertical-align: top;\n",
       "    }\n",
       "\n",
       "    .dataframe thead th {\n",
       "        text-align: right;\n",
       "    }\n",
       "</style>\n",
       "<table border=\"1\" class=\"dataframe\">\n",
       "  <thead>\n",
       "    <tr style=\"text-align: right;\">\n",
       "      <th></th>\n",
       "      <th>REF_DATE</th>\n",
       "      <th>GEO</th>\n",
       "      <th>DGUID</th>\n",
       "      <th>Vehicle type</th>\n",
       "      <th>Origin of manufacture</th>\n",
       "      <th>Sales</th>\n",
       "      <th>Seasonal adjustment</th>\n",
       "      <th>UOM</th>\n",
       "      <th>UOM_ID</th>\n",
       "      <th>SCALAR_FACTOR</th>\n",
       "      <th>SCALAR_ID</th>\n",
       "      <th>VECTOR</th>\n",
       "      <th>COORDINATE</th>\n",
       "      <th>VALUE</th>\n",
       "      <th>STATUS</th>\n",
       "      <th>SYMBOL</th>\n",
       "      <th>TERMINATED</th>\n",
       "      <th>DECIMALS</th>\n",
       "    </tr>\n",
       "  </thead>\n",
       "  <tbody>\n",
       "    <tr>\n",
       "      <th>234</th>\n",
       "      <td>2017-06</td>\n",
       "      <td>Canada</td>\n",
       "      <td>2016A000011124</td>\n",
       "      <td>Total, new motor vehicles</td>\n",
       "      <td>Total, country of manufacture</td>\n",
       "      <td>Dollars</td>\n",
       "      <td>Unadjusted</td>\n",
       "      <td>Dollars</td>\n",
       "      <td>81</td>\n",
       "      <td>thousands</td>\n",
       "      <td>3</td>\n",
       "      <td>v42169913</td>\n",
       "      <td>1.1.1.2.1</td>\n",
       "      <td>8299645</td>\n",
       "      <td>NaN</td>\n",
       "      <td>NaN</td>\n",
       "      <td>NaN</td>\n",
       "      <td>0</td>\n",
       "    </tr>\n",
       "  </tbody>\n",
       "</table>\n",
       "</div>"
      ],
      "text/plain": [
       "    REF_DATE     GEO           DGUID               Vehicle type  \\\n",
       "234  2017-06  Canada  2016A000011124  Total, new motor vehicles   \n",
       "\n",
       "             Origin of manufacture    Sales Seasonal adjustment      UOM  \\\n",
       "234  Total, country of manufacture  Dollars          Unadjusted  Dollars   \n",
       "\n",
       "     UOM_ID SCALAR_FACTOR  SCALAR_ID     VECTOR COORDINATE    VALUE  STATUS  \\\n",
       "234      81     thousands          3  v42169913  1.1.1.2.1  8299645     NaN   \n",
       "\n",
       "     SYMBOL  TERMINATED  DECIMALS  \n",
       "234     NaN         NaN         0  "
      ]
     },
     "execution_count": 3,
     "metadata": {},
     "output_type": "execute_result"
    }
   ],
   "source": [
    "raw = pd.read_csv('../raw/RAW 2022 CAR SALES.csv', encoding=\"utf-8\")\n",
    "\n",
    "raw.sample()"
   ]
  },
  {
   "cell_type": "markdown",
   "metadata": {},
   "source": [
    "Now we pivot to show two columns of values: units sold and dollar value of sales."
   ]
  },
  {
   "cell_type": "code",
   "execution_count": 4,
   "metadata": {},
   "outputs": [],
   "source": [
    "data = raw.pivot(index=\"REF_DATE\", columns=\"UOM\", values='VALUE')"
   ]
  },
  {
   "cell_type": "markdown",
   "metadata": {},
   "source": [
    "Because the data is not seasonally adjusted, if we were to just chart this, it looks a bit wonky. The trend we want to show is obscured.\n",
    "\n",
    "(StatsCan has discontinued seasonally adjusted unit sales, apparently!)"
   ]
  },
  {
   "cell_type": "code",
   "execution_count": 5,
   "metadata": {},
   "outputs": [
    {
     "data": {
      "text/plain": [
       "<AxesSubplot:xlabel='REF_DATE'>"
      ]
     },
     "execution_count": 5,
     "metadata": {},
     "output_type": "execute_result"
    },
    {
     "data": {
      "image/png": "[encoded data removed]",
      "text/plain": [
       "<Figure size 432x288 with 1 Axes>"
      ]
     },
     "metadata": {
      "needs_background": "light"
     },
     "output_type": "display_data"
    }
   ],
   "source": [
    "data.loc[:, \"Units\"].plot()"
   ]
  },
  {
   "cell_type": "markdown",
   "metadata": {},
   "source": [
    "Instead, we can proceed in two ways: show from January to January, or group and sum by year. Let's try the latter. First, our index should be converted to datetime."
   ]
  },
  {
   "cell_type": "code",
   "execution_count": 6,
   "metadata": {},
   "outputs": [],
   "source": [
    "data.index = pd.to_datetime(data.index)"
   ]
  },
  {
   "cell_type": "markdown",
   "metadata": {},
   "source": [
    "Now we group by year and sum, then plot."
   ]
  },
  {
   "cell_type": "code",
   "execution_count": 7,
   "metadata": {},
   "outputs": [
    {
     "data": {
      "text/plain": [
       "<AxesSubplot:xlabel='REF_DATE'>"
      ]
     },
     "execution_count": 7,
     "metadata": {},
     "output_type": "execute_result"
    },
    {
     "data": {
      "image/png": "[encoded data removed]",
      "text/plain": [
       "<Figure size 432x288 with 1 Axes>"
      ]
     },
     "metadata": {
      "needs_background": "light"
     },
     "output_type": "display_data"
    }
   ],
   "source": [
    "(data\n",
    " .groupby(data.index.year).sum()\n",
    " .loc[:, \"Units\"]\n",
    " .plot()\n",
    " )"
   ]
  },
  {
   "cell_type": "markdown",
   "metadata": {},
   "source": [
    "For fun, let's also look at January to January."
   ]
  },
  {
   "cell_type": "code",
   "execution_count": 8,
   "metadata": {},
   "outputs": [
    {
     "data": {
      "text/plain": [
       "<AxesSubplot:xlabel='REF_DATE'>"
      ]
     },
     "execution_count": 8,
     "metadata": {},
     "output_type": "execute_result"
    },
    {
     "data": {
      "image/png": "[encoded data removed]",
      "text/plain": [
       "<Figure size 432x288 with 1 Axes>"
      ]
     },
     "metadata": {
      "needs_background": "light"
     },
     "output_type": "display_data"
    }
   ],
   "source": [
    "(data\n",
    " .loc[data.index.month == 1, \"Units\"]\n",
    " .plot(kind=\"bar\")\n",
    " )"
   ]
  },
  {
   "cell_type": "markdown",
   "metadata": {},
   "source": [
    "Which do you like better? I'm inclined to go with the line chart year over year to illustrate the trend (that drop off is steep!), but either approach could work. From here, I put the data in Datawrapper for a public-facing chart."
   ]
  },
  {
   "cell_type": "markdown",
   "metadata": {},
   "source": [
    "## Vehicle registrations by fuel type"
   ]
  },
  {
   "cell_type": "markdown",
   "metadata": {},
   "source": [
    "Let's also take a peek at another data set, this one on vehicle registrations (and broken down by fuel type!). This might be a better way to see what I'm really interested in: the decline of gas powered vehicles."
   ]
  },
  {
   "cell_type": "code",
   "execution_count": 33,
   "metadata": {},
   "outputs": [
    {
     "data": {
      "text/html": [
       "<div>\n",
       "<style scoped>\n",
       "    .dataframe tbody tr th:only-of-type {\n",
       "        vertical-align: middle;\n",
       "    }\n",
       "\n",
       "    .dataframe tbody tr th {\n",
       "        vertical-align: top;\n",
       "    }\n",
       "\n",
       "    .dataframe thead th {\n",
       "        text-align: right;\n",
       "    }\n",
       "</style>\n",
       "<table border=\"1\" class=\"dataframe\">\n",
       "  <thead>\n",
       "    <tr style=\"text-align: right;\">\n",
       "      <th></th>\n",
       "      <th>REF_DATE</th>\n",
       "      <th>GEO</th>\n",
       "      <th>DGUID</th>\n",
       "      <th>Fuel type</th>\n",
       "      <th>Vehicle type</th>\n",
       "      <th>Statistics</th>\n",
       "      <th>UOM</th>\n",
       "      <th>UOM_ID</th>\n",
       "      <th>SCALAR_FACTOR</th>\n",
       "      <th>SCALAR_ID</th>\n",
       "      <th>VECTOR</th>\n",
       "      <th>COORDINATE</th>\n",
       "      <th>VALUE</th>\n",
       "      <th>STATUS</th>\n",
       "      <th>SYMBOL</th>\n",
       "      <th>TERMINATED</th>\n",
       "      <th>DECIMALS</th>\n",
       "    </tr>\n",
       "  </thead>\n",
       "  <tbody>\n",
       "    <tr>\n",
       "      <th>0</th>\n",
       "      <td>2017-01</td>\n",
       "      <td>Canada</td>\n",
       "      <td>2016A000011124</td>\n",
       "      <td>All fuel types</td>\n",
       "      <td>Total, vehicle type</td>\n",
       "      <td>Number of vehicles</td>\n",
       "      <td>Units</td>\n",
       "      <td>300</td>\n",
       "      <td>units</td>\n",
       "      <td>0</td>\n",
       "      <td>v1271719067</td>\n",
       "      <td>1.1.1.1</td>\n",
       "      <td>425043</td>\n",
       "      <td>NaN</td>\n",
       "      <td>NaN</td>\n",
       "      <td>NaN</td>\n",
       "      <td>0</td>\n",
       "    </tr>\n",
       "    <tr>\n",
       "      <th>1</th>\n",
       "      <td>2017-04</td>\n",
       "      <td>Canada</td>\n",
       "      <td>2016A000011124</td>\n",
       "      <td>All fuel types</td>\n",
       "      <td>Total, vehicle type</td>\n",
       "      <td>Number of vehicles</td>\n",
       "      <td>Units</td>\n",
       "      <td>300</td>\n",
       "      <td>units</td>\n",
       "      <td>0</td>\n",
       "      <td>v1271719067</td>\n",
       "      <td>1.1.1.1</td>\n",
       "      <td>611018</td>\n",
       "      <td>NaN</td>\n",
       "      <td>NaN</td>\n",
       "      <td>NaN</td>\n",
       "      <td>0</td>\n",
       "    </tr>\n",
       "    <tr>\n",
       "      <th>2</th>\n",
       "      <td>2017-07</td>\n",
       "      <td>Canada</td>\n",
       "      <td>2016A000011124</td>\n",
       "      <td>All fuel types</td>\n",
       "      <td>Total, vehicle type</td>\n",
       "      <td>Number of vehicles</td>\n",
       "      <td>Units</td>\n",
       "      <td>300</td>\n",
       "      <td>units</td>\n",
       "      <td>0</td>\n",
       "      <td>v1271719067</td>\n",
       "      <td>1.1.1.1</td>\n",
       "      <td>552329</td>\n",
       "      <td>NaN</td>\n",
       "      <td>NaN</td>\n",
       "      <td>NaN</td>\n",
       "      <td>0</td>\n",
       "    </tr>\n",
       "    <tr>\n",
       "      <th>3</th>\n",
       "      <td>2017-10</td>\n",
       "      <td>Canada</td>\n",
       "      <td>2016A000011124</td>\n",
       "      <td>All fuel types</td>\n",
       "      <td>Total, vehicle type</td>\n",
       "      <td>Number of vehicles</td>\n",
       "      <td>Units</td>\n",
       "      <td>300</td>\n",
       "      <td>units</td>\n",
       "      <td>0</td>\n",
       "      <td>v1271719067</td>\n",
       "      <td>1.1.1.1</td>\n",
       "      <td>450846</td>\n",
       "      <td>NaN</td>\n",
       "      <td>NaN</td>\n",
       "      <td>NaN</td>\n",
       "      <td>0</td>\n",
       "    </tr>\n",
       "    <tr>\n",
       "      <th>4</th>\n",
       "      <td>2018-01</td>\n",
       "      <td>Canada</td>\n",
       "      <td>2016A000011124</td>\n",
       "      <td>All fuel types</td>\n",
       "      <td>Total, vehicle type</td>\n",
       "      <td>Number of vehicles</td>\n",
       "      <td>Units</td>\n",
       "      <td>300</td>\n",
       "      <td>units</td>\n",
       "      <td>0</td>\n",
       "      <td>v1271719067</td>\n",
       "      <td>1.1.1.1</td>\n",
       "      <td>406120</td>\n",
       "      <td>NaN</td>\n",
       "      <td>NaN</td>\n",
       "      <td>NaN</td>\n",
       "      <td>0</td>\n",
       "    </tr>\n",
       "  </tbody>\n",
       "</table>\n",
       "</div>"
      ],
      "text/plain": [
       "  REF_DATE     GEO           DGUID       Fuel type         Vehicle type  \\\n",
       "0  2017-01  Canada  2016A000011124  All fuel types  Total, vehicle type   \n",
       "1  2017-04  Canada  2016A000011124  All fuel types  Total, vehicle type   \n",
       "2  2017-07  Canada  2016A000011124  All fuel types  Total, vehicle type   \n",
       "3  2017-10  Canada  2016A000011124  All fuel types  Total, vehicle type   \n",
       "4  2018-01  Canada  2016A000011124  All fuel types  Total, vehicle type   \n",
       "\n",
       "           Statistics    UOM  UOM_ID SCALAR_FACTOR  SCALAR_ID       VECTOR  \\\n",
       "0  Number of vehicles  Units     300         units          0  v1271719067   \n",
       "1  Number of vehicles  Units     300         units          0  v1271719067   \n",
       "2  Number of vehicles  Units     300         units          0  v1271719067   \n",
       "3  Number of vehicles  Units     300         units          0  v1271719067   \n",
       "4  Number of vehicles  Units     300         units          0  v1271719067   \n",
       "\n",
       "  COORDINATE   VALUE  STATUS  SYMBOL  TERMINATED  DECIMALS  \n",
       "0    1.1.1.1  425043     NaN     NaN         NaN         0  \n",
       "1    1.1.1.1  611018     NaN     NaN         NaN         0  \n",
       "2    1.1.1.1  552329     NaN     NaN         NaN         0  \n",
       "3    1.1.1.1  450846     NaN     NaN         NaN         0  \n",
       "4    1.1.1.1  406120     NaN     NaN         NaN         0  "
      ]
     },
     "execution_count": 33,
     "metadata": {},
     "output_type": "execute_result"
    }
   ],
   "source": [
    "registrations = pd.read_csv('../raw/RAW 2022 EVEHICLES.csv')\n",
    "\n",
    "registrations.head()"
   ]
  },
  {
   "cell_type": "markdown",
   "metadata": {},
   "source": [
    "We'll pivot the data so it's in a more useful shape for us."
   ]
  },
  {
   "cell_type": "code",
   "execution_count": 16,
   "metadata": {},
   "outputs": [
    {
     "data": {
      "text/html": [
       "<div>\n",
       "<style scoped>\n",
       "    .dataframe tbody tr th:only-of-type {\n",
       "        vertical-align: middle;\n",
       "    }\n",
       "\n",
       "    .dataframe tbody tr th {\n",
       "        vertical-align: top;\n",
       "    }\n",
       "\n",
       "    .dataframe thead th {\n",
       "        text-align: right;\n",
       "    }\n",
       "</style>\n",
       "<table border=\"1\" class=\"dataframe\">\n",
       "  <thead>\n",
       "    <tr style=\"text-align: right;\">\n",
       "      <th>Fuel type</th>\n",
       "      <th>All fuel types</th>\n",
       "      <th>Battery electric</th>\n",
       "      <th>Diesel</th>\n",
       "      <th>Gasoline</th>\n",
       "      <th>Hybrid electric</th>\n",
       "      <th>Other fuel types</th>\n",
       "      <th>Plug-in hybrid electric</th>\n",
       "    </tr>\n",
       "    <tr>\n",
       "      <th>REF_DATE</th>\n",
       "      <th></th>\n",
       "      <th></th>\n",
       "      <th></th>\n",
       "      <th></th>\n",
       "      <th></th>\n",
       "      <th></th>\n",
       "      <th></th>\n",
       "    </tr>\n",
       "  </thead>\n",
       "  <tbody>\n",
       "    <tr>\n",
       "      <th>2017-01</th>\n",
       "      <td>425043</td>\n",
       "      <td>1664</td>\n",
       "      <td>14283</td>\n",
       "      <td>403087</td>\n",
       "      <td>4185</td>\n",
       "      <td>0</td>\n",
       "      <td>1824</td>\n",
       "    </tr>\n",
       "    <tr>\n",
       "      <th>2017-04</th>\n",
       "      <td>611018</td>\n",
       "      <td>2195</td>\n",
       "      <td>17643</td>\n",
       "      <td>581151</td>\n",
       "      <td>7199</td>\n",
       "      <td>0</td>\n",
       "      <td>2830</td>\n",
       "    </tr>\n",
       "    <tr>\n",
       "      <th>2017-07</th>\n",
       "      <td>552329</td>\n",
       "      <td>2400</td>\n",
       "      <td>18150</td>\n",
       "      <td>521730</td>\n",
       "      <td>7264</td>\n",
       "      <td>1</td>\n",
       "      <td>2784</td>\n",
       "    </tr>\n",
       "    <tr>\n",
       "      <th>2017-10</th>\n",
       "      <td>450846</td>\n",
       "      <td>2820</td>\n",
       "      <td>15711</td>\n",
       "      <td>423659</td>\n",
       "      <td>5473</td>\n",
       "      <td>4</td>\n",
       "      <td>3179</td>\n",
       "    </tr>\n",
       "    <tr>\n",
       "      <th>2018-01</th>\n",
       "      <td>406120</td>\n",
       "      <td>2639</td>\n",
       "      <td>14642</td>\n",
       "      <td>380187</td>\n",
       "      <td>4377</td>\n",
       "      <td>70</td>\n",
       "      <td>4205</td>\n",
       "    </tr>\n",
       "  </tbody>\n",
       "</table>\n",
       "</div>"
      ],
      "text/plain": [
       "Fuel type  All fuel types  Battery electric  Diesel  Gasoline  \\\n",
       "REF_DATE                                                        \n",
       "2017-01            425043              1664   14283    403087   \n",
       "2017-04            611018              2195   17643    581151   \n",
       "2017-07            552329              2400   18150    521730   \n",
       "2017-10            450846              2820   15711    423659   \n",
       "2018-01            406120              2639   14642    380187   \n",
       "\n",
       "Fuel type  Hybrid electric  Other fuel types  Plug-in hybrid electric  \n",
       "REF_DATE                                                               \n",
       "2017-01               4185                 0                     1824  \n",
       "2017-04               7199                 0                     2830  \n",
       "2017-07               7264                 1                     2784  \n",
       "2017-10               5473                 4                     3179  \n",
       "2018-01               4377                70                     4205  "
      ]
     },
     "execution_count": 16,
     "metadata": {},
     "output_type": "execute_result"
    }
   ],
   "source": [
    "pivot = registrations.pivot(columns=\"Fuel type\", index=\"REF_DATE\", values=\"VALUE\")\n",
    "\n",
    "pivot.head()"
   ]
  },
  {
   "cell_type": "markdown",
   "metadata": {},
   "source": [
    "Then let's add a new column showing the combined number of battery powered and hybrid vehicles together."
   ]
  },
  {
   "cell_type": "code",
   "execution_count": 32,
   "metadata": {},
   "outputs": [],
   "source": [
    "pivot[\"Electric\"] = pivot.loc[:, [\"Battery electric\", \"Hybrid electric\"]].sum(axis=1)"
   ]
  },
  {
   "cell_type": "markdown",
   "metadata": {},
   "source": [
    "Then, we'll group by year because once again, this data is not seasonally adjusted."
   ]
  },
  {
   "cell_type": "code",
   "execution_count": 34,
   "metadata": {},
   "outputs": [
    {
     "data": {
      "text/html": [
       "<div>\n",
       "<style scoped>\n",
       "    .dataframe tbody tr th:only-of-type {\n",
       "        vertical-align: middle;\n",
       "    }\n",
       "\n",
       "    .dataframe tbody tr th {\n",
       "        vertical-align: top;\n",
       "    }\n",
       "\n",
       "    .dataframe thead th {\n",
       "        text-align: right;\n",
       "    }\n",
       "</style>\n",
       "<table border=\"1\" class=\"dataframe\">\n",
       "  <thead>\n",
       "    <tr style=\"text-align: right;\">\n",
       "      <th>Fuel type</th>\n",
       "      <th>Gasoline</th>\n",
       "      <th>Electric</th>\n",
       "    </tr>\n",
       "    <tr>\n",
       "      <th>REF_DATE</th>\n",
       "      <th></th>\n",
       "      <th></th>\n",
       "    </tr>\n",
       "  </thead>\n",
       "  <tbody>\n",
       "    <tr>\n",
       "      <th>2017</th>\n",
       "      <td>1929627</td>\n",
       "      <td>33200</td>\n",
       "    </tr>\n",
       "    <tr>\n",
       "      <th>2018</th>\n",
       "      <td>1834883</td>\n",
       "      <td>48407</td>\n",
       "    </tr>\n",
       "    <tr>\n",
       "      <th>2019</th>\n",
       "      <td>1776571</td>\n",
       "      <td>73913</td>\n",
       "    </tr>\n",
       "    <tr>\n",
       "      <th>2020</th>\n",
       "      <td>1384928</td>\n",
       "      <td>80489</td>\n",
       "    </tr>\n",
       "    <tr>\n",
       "      <th>2021</th>\n",
       "      <td>1126925</td>\n",
       "      <td>108980</td>\n",
       "    </tr>\n",
       "  </tbody>\n",
       "</table>\n",
       "</div>"
      ],
      "text/plain": [
       "Fuel type  Gasoline  Electric\n",
       "REF_DATE                     \n",
       "2017        1929627     33200\n",
       "2018        1834883     48407\n",
       "2019        1776571     73913\n",
       "2020        1384928     80489\n",
       "2021        1126925    108980"
      ]
     },
     "execution_count": 34,
     "metadata": {},
     "output_type": "execute_result"
    }
   ],
   "source": [
    "pivot.index = pd.to_datetime(pivot.index)\n",
    "\n",
    "pivot[[\"Gasoline\", \"Electric\"]].groupby(pivot.index.year).sum()"
   ]
  },
  {
   "cell_type": "markdown",
   "metadata": {},
   "source": [
    "I put this into a very simple (but I think, effective) [line chart](https://www.datawrapper.de/_/9ZOm6/) to show the declining gasoline registrations and increasing electric registrations.\n",
    "\n",
    "\\-30\\-"
   ]
  }
 ],
 "metadata": {
  "interpreter": {
   "hash": "f4d1a38d5d0290456d21c8fc16b003197c4108b66277a3181758af8be3ad3a7c"
  },
  "kernelspec": {
   "display_name": "Python 3.9.7 ('base')",
   "language": "python",
   "name": "python3"
  },
  "language_info": {
   "codemirror_mode": {
    "name": "ipython",
    "version": 3
   },
   "file_extension": ".py",
   "mimetype": "text/x-python",
   "name": "python",
   "nbconvert_exporter": "python",
   "pygments_lexer": "ipython3",
   "version": "3.9.7"
  },
  "orig_nbformat": 4
 },
 "nbformat": 4,
 "nbformat_minor": 2
}
