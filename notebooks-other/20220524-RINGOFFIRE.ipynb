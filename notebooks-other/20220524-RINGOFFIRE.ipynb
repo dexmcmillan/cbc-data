{
 "cells": [
  {
   "cell_type": "markdown",
   "metadata": {},
   "source": [
    "# Mapping Ontario's Ring of Fire\n",
    "*May 24, 2022*"
   ]
  },
  {
   "cell_type": "markdown",
   "metadata": {},
   "source": [
    "Let's pull in a shapefile to map the Ring of Fire in Ontario in Datawrapper! First, import pandas and geopandas."
   ]
  },
  {
   "cell_type": "code",
   "execution_count": 13,
   "metadata": {},
   "outputs": [],
   "source": [
    "import geopandas\n",
    "import datawrappergraphics"
   ]
  },
  {
   "cell_type": "markdown",
   "metadata": {},
   "source": [
    "Import the file."
   ]
  },
  {
   "cell_type": "code",
   "execution_count": 14,
   "metadata": {},
   "outputs": [],
   "source": [
    "df1 = geopandas.read_file(\"C:/Users/dexmc/Downloads/claims.geojson\")"
   ]
  },
  {
   "cell_type": "markdown",
   "metadata": {},
   "source": [
    "Filter for single cell mining claims."
   ]
  },
  {
   "cell_type": "code",
   "execution_count": 15,
   "metadata": {},
   "outputs": [
    {
     "data": {
      "text/html": [
       "<div>\n",
       "<style scoped>\n",
       "    .dataframe tbody tr th:only-of-type {\n",
       "        vertical-align: middle;\n",
       "    }\n",
       "\n",
       "    .dataframe tbody tr th {\n",
       "        vertical-align: top;\n",
       "    }\n",
       "\n",
       "    .dataframe thead th {\n",
       "        text-align: right;\n",
       "    }\n",
       "</style>\n",
       "<table border=\"1\" class=\"dataframe\">\n",
       "  <thead>\n",
       "    <tr style=\"text-align: right;\">\n",
       "      <th></th>\n",
       "      <th>TENURE_NUM</th>\n",
       "      <th>TITLE_TYPE</th>\n",
       "      <th>TITLE_TY_1</th>\n",
       "      <th>TENURE_STA</th>\n",
       "      <th>TENURE_S_1</th>\n",
       "      <th>ISSUE_DATE</th>\n",
       "      <th>ANNIVERSAR</th>\n",
       "      <th>EXTENSION_</th>\n",
       "      <th>CLAIM_DUE_</th>\n",
       "      <th>HOLDER</th>\n",
       "      <th>geometry</th>\n",
       "    </tr>\n",
       "  </thead>\n",
       "  <tbody>\n",
       "    <tr>\n",
       "      <th>0</th>\n",
       "      <td>552162</td>\n",
       "      <td>SCMC</td>\n",
       "      <td>Single Cell Mining Claim</td>\n",
       "      <td>A</td>\n",
       "      <td>Active</td>\n",
       "      <td>2019-06-19</td>\n",
       "      <td>2022-06-19</td>\n",
       "      <td>None</td>\n",
       "      <td>2022-06-19</td>\n",
       "      <td>(100) Juno Corp.</td>\n",
       "      <td>MULTIPOLYGON (((-86.57501 53.25418, -86.58126 ...</td>\n",
       "    </tr>\n",
       "    <tr>\n",
       "      <th>1</th>\n",
       "      <td>552157</td>\n",
       "      <td>SCMC</td>\n",
       "      <td>Single Cell Mining Claim</td>\n",
       "      <td>A</td>\n",
       "      <td>Active</td>\n",
       "      <td>2019-06-19</td>\n",
       "      <td>2022-06-19</td>\n",
       "      <td>None</td>\n",
       "      <td>2022-06-19</td>\n",
       "      <td>(100) Juno Corp.</td>\n",
       "      <td>MULTIPOLYGON (((-86.60001 53.25418, -86.60626 ...</td>\n",
       "    </tr>\n",
       "    <tr>\n",
       "      <th>2</th>\n",
       "      <td>552158</td>\n",
       "      <td>SCMC</td>\n",
       "      <td>Single Cell Mining Claim</td>\n",
       "      <td>A</td>\n",
       "      <td>Active</td>\n",
       "      <td>2019-06-19</td>\n",
       "      <td>2022-06-19</td>\n",
       "      <td>None</td>\n",
       "      <td>2022-06-19</td>\n",
       "      <td>(100) Juno Corp.</td>\n",
       "      <td>MULTIPOLYGON (((-86.58126 53.25418, -86.58751 ...</td>\n",
       "    </tr>\n",
       "    <tr>\n",
       "      <th>3</th>\n",
       "      <td>552159</td>\n",
       "      <td>SCMC</td>\n",
       "      <td>Single Cell Mining Claim</td>\n",
       "      <td>A</td>\n",
       "      <td>Active</td>\n",
       "      <td>2019-06-19</td>\n",
       "      <td>2022-06-19</td>\n",
       "      <td>None</td>\n",
       "      <td>2022-06-19</td>\n",
       "      <td>(100) Juno Corp.</td>\n",
       "      <td>MULTIPOLYGON (((-86.63126 53.25418, -86.63751 ...</td>\n",
       "    </tr>\n",
       "    <tr>\n",
       "      <th>4</th>\n",
       "      <td>552160</td>\n",
       "      <td>SCMC</td>\n",
       "      <td>Single Cell Mining Claim</td>\n",
       "      <td>A</td>\n",
       "      <td>Active</td>\n",
       "      <td>2019-06-19</td>\n",
       "      <td>2022-06-19</td>\n",
       "      <td>None</td>\n",
       "      <td>2022-06-19</td>\n",
       "      <td>(100) Juno Corp.</td>\n",
       "      <td>MULTIPOLYGON (((-86.60001 53.25001, -86.60626 ...</td>\n",
       "    </tr>\n",
       "  </tbody>\n",
       "</table>\n",
       "</div>"
      ],
      "text/plain": [
       "  TENURE_NUM TITLE_TYPE                TITLE_TY_1 TENURE_STA TENURE_S_1  \\\n",
       "0     552162       SCMC  Single Cell Mining Claim          A     Active   \n",
       "1     552157       SCMC  Single Cell Mining Claim          A     Active   \n",
       "2     552158       SCMC  Single Cell Mining Claim          A     Active   \n",
       "3     552159       SCMC  Single Cell Mining Claim          A     Active   \n",
       "4     552160       SCMC  Single Cell Mining Claim          A     Active   \n",
       "\n",
       "   ISSUE_DATE  ANNIVERSAR EXTENSION_  CLAIM_DUE_            HOLDER  \\\n",
       "0  2019-06-19  2022-06-19       None  2022-06-19  (100) Juno Corp.   \n",
       "1  2019-06-19  2022-06-19       None  2022-06-19  (100) Juno Corp.   \n",
       "2  2019-06-19  2022-06-19       None  2022-06-19  (100) Juno Corp.   \n",
       "3  2019-06-19  2022-06-19       None  2022-06-19  (100) Juno Corp.   \n",
       "4  2019-06-19  2022-06-19       None  2022-06-19  (100) Juno Corp.   \n",
       "\n",
       "                                            geometry  \n",
       "0  MULTIPOLYGON (((-86.57501 53.25418, -86.58126 ...  \n",
       "1  MULTIPOLYGON (((-86.60001 53.25418, -86.60626 ...  \n",
       "2  MULTIPOLYGON (((-86.58126 53.25418, -86.58751 ...  \n",
       "3  MULTIPOLYGON (((-86.63126 53.25418, -86.63751 ...  \n",
       "4  MULTIPOLYGON (((-86.60001 53.25001, -86.60626 ...  "
      ]
     },
     "execution_count": 15,
     "metadata": {},
     "output_type": "execute_result"
    }
   ],
   "source": [
    "df1 = df1[df1[\"TITLE_TY_1\"] == \"Single Cell Mining Claim\"]\n",
    "df1.head(5)"
   ]
  },
  {
   "cell_type": "markdown",
   "metadata": {},
   "source": [
    "For this particular story, we want to highlight claims owned by Noront."
   ]
  },
  {
   "cell_type": "code",
   "execution_count": 16,
   "metadata": {},
   "outputs": [],
   "source": [
    "df1.loc[df1[\"HOLDER\"].str.contains(\"noront\", case=False), \"NORONT\"] = True\n",
    "df1.loc[~df1[\"HOLDER\"].str.contains(\"noront\", case=False), \"NORONT\"] = False\n",
    "\n",
    "df1[\"color\"] = df1[\"NORONT\"].replace({True: \"#c42127\", False: \"black\"})"
   ]
  },
  {
   "cell_type": "markdown",
   "metadata": {},
   "source": [
    "We can also dissolve all features into separate colours, as Datawrapper doesn't like too many features in the software."
   ]
  },
  {
   "cell_type": "code",
   "execution_count": 17,
   "metadata": {},
   "outputs": [],
   "source": [
    "df1 = df1.dissolve(by=\"color\").reset_index()"
   ]
  },
  {
   "cell_type": "markdown",
   "metadata": {},
   "source": [
    "Now we fix the CRS so Datawrapper likes it, and show the result in Datawrapper."
   ]
  },
  {
   "cell_type": "code",
   "execution_count": 18,
   "metadata": {},
   "outputs": [
    {
     "name": "stderr",
     "output_type": "stream",
     "text": [
      "c:\\Users\\dexmc\\anaconda3\\envs\\geo\\lib\\site-packages\\IPython\\core\\display.py:724: UserWarning: Consider using IPython.display.IFrame instead\n",
      "  warnings.warn(\"Consider using IPython.display.IFrame instead\")\n"
     ]
    },
    {
     "data": {
      "text/html": [
       "<iframe title=\"Ontario's Ring of Fire\" aria-label=\"Locator maps\" id=\"datawrapper-chart-jaATM\" src=\"https://datawrapper.dwcdn.net/jaATM/3/\" scrolling=\"no\" frameborder=\"0\" style=\"border: none;\" width=\"600\" height=\"778\"></iframe>"
      ],
      "text/plain": [
       "<IPython.core.display.HTML object>"
      ]
     },
     "execution_count": 18,
     "metadata": {},
     "output_type": "execute_result"
    }
   ],
   "source": [
    "df1 = df1.to_crs(\"EPSG:4326\")\n",
    "\n",
    "datawrappergraphics.Chart(\"jaATM\").show()"
   ]
  },
  {
   "cell_type": "markdown",
   "metadata": {},
   "source": [
    "\\-30\\-"
   ]
  }
 ],
 "metadata": {
  "interpreter": {
   "hash": "73de8b438f32372771bda1aa2e3d2689a59747422210df3e3470a45f58c477e6"
  },
  "kernelspec": {
   "display_name": "Python 3.10.2 ('geo')",
   "language": "python",
   "name": "python3"
  },
  "language_info": {
   "codemirror_mode": {
    "name": "ipython",
    "version": 3
   },
   "file_extension": ".py",
   "mimetype": "text/x-python",
   "name": "python",
   "nbconvert_exporter": "python",
   "pygments_lexer": "ipython3",
   "version": "3.10.2"
  },
  "orig_nbformat": 4
 },
 "nbformat": 4,
 "nbformat_minor": 2
}
