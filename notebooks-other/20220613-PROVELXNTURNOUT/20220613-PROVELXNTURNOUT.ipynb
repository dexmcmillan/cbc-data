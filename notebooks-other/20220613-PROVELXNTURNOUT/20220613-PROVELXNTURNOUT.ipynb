{
 "cells": [
  {
   "cell_type": "markdown",
   "metadata": {},
   "source": [
    "# Voter turnout for provinces in Canada"
   ]
  },
  {
   "cell_type": "markdown",
   "metadata": {},
   "source": [
    "Let's take a look at voter turnout data for Canada. I compiled all this data into one csv file by doing an hour or two of research. Most of the data is easily available on provincial election websites. Start by importing pandas."
   ]
  },
  {
   "cell_type": "code",
   "execution_count": 2,
   "metadata": {},
   "outputs": [],
   "source": [
    "import pandas as pd"
   ]
  },
  {
   "cell_type": "markdown",
   "metadata": {},
   "source": [
    "Bring in the csv file I put together."
   ]
  },
  {
   "cell_type": "code",
   "execution_count": 3,
   "metadata": {},
   "outputs": [
    {
     "data": {
      "text/html": [
       "<div>\n",
       "<style scoped>\n",
       "    .dataframe tbody tr th:only-of-type {\n",
       "        vertical-align: middle;\n",
       "    }\n",
       "\n",
       "    .dataframe tbody tr th {\n",
       "        vertical-align: top;\n",
       "    }\n",
       "\n",
       "    .dataframe thead th {\n",
       "        text-align: right;\n",
       "    }\n",
       "</style>\n",
       "<table border=\"1\" class=\"dataframe\">\n",
       "  <thead>\n",
       "    <tr style=\"text-align: right;\">\n",
       "      <th></th>\n",
       "      <th>Province</th>\n",
       "      <th>Year</th>\n",
       "      <th>Turnout</th>\n",
       "      <th>Source</th>\n",
       "      <th>Flag</th>\n",
       "    </tr>\n",
       "  </thead>\n",
       "  <tbody>\n",
       "    <tr>\n",
       "      <th>0</th>\n",
       "      <td>Nova Scotia</td>\n",
       "      <td>2021</td>\n",
       "      <td>55.10</td>\n",
       "      <td>https://electionsnovascotia.ca/sites/default/f...</td>\n",
       "      <td>NaN</td>\n",
       "    </tr>\n",
       "    <tr>\n",
       "      <th>1</th>\n",
       "      <td>Nova Scotia</td>\n",
       "      <td>2017</td>\n",
       "      <td>53.40</td>\n",
       "      <td>https://electionsnovascotia.ca/sites/default/f...</td>\n",
       "      <td>NaN</td>\n",
       "    </tr>\n",
       "    <tr>\n",
       "      <th>2</th>\n",
       "      <td>Nova Scotia</td>\n",
       "      <td>2013</td>\n",
       "      <td>58.20</td>\n",
       "      <td>https://electionsnovascotia.ca/sites/default/f...</td>\n",
       "      <td>NaN</td>\n",
       "    </tr>\n",
       "    <tr>\n",
       "      <th>3</th>\n",
       "      <td>Nova Scotia</td>\n",
       "      <td>2009</td>\n",
       "      <td>57.90</td>\n",
       "      <td>https://electionsnovascotia.ca/sites/default/f...</td>\n",
       "      <td>NaN</td>\n",
       "    </tr>\n",
       "    <tr>\n",
       "      <th>4</th>\n",
       "      <td>Nova Scotia</td>\n",
       "      <td>2006</td>\n",
       "      <td>59.90</td>\n",
       "      <td>https://electionsnovascotia.ca/sites/default/f...</td>\n",
       "      <td>NaN</td>\n",
       "    </tr>\n",
       "    <tr>\n",
       "      <th>...</th>\n",
       "      <td>...</td>\n",
       "      <td>...</td>\n",
       "      <td>...</td>\n",
       "      <td>...</td>\n",
       "      <td>...</td>\n",
       "    </tr>\n",
       "    <tr>\n",
       "      <th>159</th>\n",
       "      <td>Prince Edward Island</td>\n",
       "      <td>2003</td>\n",
       "      <td>83.68</td>\n",
       "      <td>https://www.electionspei.ca/sites/www.election...</td>\n",
       "      <td>NaN</td>\n",
       "    </tr>\n",
       "    <tr>\n",
       "      <th>160</th>\n",
       "      <td>Prince Edward Island</td>\n",
       "      <td>2007</td>\n",
       "      <td>84.21</td>\n",
       "      <td>https://www.electionspei.ca/sites/www.election...</td>\n",
       "      <td>NaN</td>\n",
       "    </tr>\n",
       "    <tr>\n",
       "      <th>161</th>\n",
       "      <td>Prince Edward Island</td>\n",
       "      <td>2011</td>\n",
       "      <td>76.94</td>\n",
       "      <td>https://www.electionspei.ca/sites/www.election...</td>\n",
       "      <td>NaN</td>\n",
       "    </tr>\n",
       "    <tr>\n",
       "      <th>162</th>\n",
       "      <td>Prince Edward Island</td>\n",
       "      <td>2015</td>\n",
       "      <td>81.59</td>\n",
       "      <td>https://www.electionspei.ca/sites/www.election...</td>\n",
       "      <td>NaN</td>\n",
       "    </tr>\n",
       "    <tr>\n",
       "      <th>163</th>\n",
       "      <td>Prince Edward Island</td>\n",
       "      <td>2019</td>\n",
       "      <td>77.66</td>\n",
       "      <td>https://www.electionspei.ca/sites/www.election...</td>\n",
       "      <td>NaN</td>\n",
       "    </tr>\n",
       "  </tbody>\n",
       "</table>\n",
       "<p>164 rows × 5 columns</p>\n",
       "</div>"
      ],
      "text/plain": [
       "                 Province  Year  Turnout  \\\n",
       "0             Nova Scotia  2021    55.10   \n",
       "1             Nova Scotia  2017    53.40   \n",
       "2             Nova Scotia  2013    58.20   \n",
       "3             Nova Scotia  2009    57.90   \n",
       "4             Nova Scotia  2006    59.90   \n",
       "..                    ...   ...      ...   \n",
       "159  Prince Edward Island  2003    83.68   \n",
       "160  Prince Edward Island  2007    84.21   \n",
       "161  Prince Edward Island  2011    76.94   \n",
       "162  Prince Edward Island  2015    81.59   \n",
       "163  Prince Edward Island  2019    77.66   \n",
       "\n",
       "                                                Source Flag  \n",
       "0    https://electionsnovascotia.ca/sites/default/f...  NaN  \n",
       "1    https://electionsnovascotia.ca/sites/default/f...  NaN  \n",
       "2    https://electionsnovascotia.ca/sites/default/f...  NaN  \n",
       "3    https://electionsnovascotia.ca/sites/default/f...  NaN  \n",
       "4    https://electionsnovascotia.ca/sites/default/f...  NaN  \n",
       "..                                                 ...  ...  \n",
       "159  https://www.electionspei.ca/sites/www.election...  NaN  \n",
       "160  https://www.electionspei.ca/sites/www.election...  NaN  \n",
       "161  https://www.electionspei.ca/sites/www.election...  NaN  \n",
       "162  https://www.electionspei.ca/sites/www.election...  NaN  \n",
       "163  https://www.electionspei.ca/sites/www.election...  NaN  \n",
       "\n",
       "[164 rows x 5 columns]"
      ]
     },
     "execution_count": 3,
     "metadata": {},
     "output_type": "execute_result"
    }
   ],
   "source": [
    "raw = pd.read_csv(\"raw/province-data.csv\")\n",
    "\n",
    "raw"
   ]
  },
  {
   "cell_type": "markdown",
   "metadata": {},
   "source": [
    "Now we pivot so we can graph each province in a line."
   ]
  },
  {
   "cell_type": "code",
   "execution_count": 29,
   "metadata": {},
   "outputs": [
    {
     "name": "stdout",
     "output_type": "stream",
     "text": [
      "71.58627333333334 53.25\n"
     ]
    }
   ],
   "source": [
    "pivot = raw[(raw[\"Province\"] != \"Prince Edward Island\") & (raw[\"Year\"] >= 1980)].pivot(index=\"Year\", columns=\"Province\", values=\"Turnout\")\n",
    "start_avg = pivot.loc[1981, :].mean()\n",
    "end_avg = pivot.loc[2021, :].mean()\n",
    "\n",
    "pivot.loc[1981, \"Canada\"] = start_avg\n",
    "pivot.loc[2021, \"Canada\"] = end_avg\n",
    "\n",
    "print(start_avg, end_avg)\n",
    "\n",
    "pivot = pivot.interpolate()\n",
    "pivot.to_clipboard()"
   ]
  }
 ],
 "metadata": {
  "kernelspec": {
   "display_name": "Python 3.10.2 ('geo')",
   "language": "python",
   "name": "python3"
  },
  "language_info": {
   "codemirror_mode": {
    "name": "ipython",
    "version": 3
   },
   "file_extension": ".py",
   "mimetype": "text/x-python",
   "name": "python",
   "nbconvert_exporter": "python",
   "pygments_lexer": "ipython3",
   "version": "3.10.2"
  },
  "orig_nbformat": 4,
  "vscode": {
   "interpreter": {
    "hash": "73de8b438f32372771bda1aa2e3d2689a59747422210df3e3470a45f58c477e6"
   }
  }
 },
 "nbformat": 4,
 "nbformat_minor": 2
}
