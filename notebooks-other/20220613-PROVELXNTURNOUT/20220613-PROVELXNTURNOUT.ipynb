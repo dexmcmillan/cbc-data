{
 "cells": [
  {
   "cell_type": "markdown",
   "metadata": {},
   "source": [
    "# Voter turnout for provinces in Canada\n",
    "*June 13, 2022*"
   ]
  },
  {
   "cell_type": "markdown",
   "metadata": {},
   "source": [
    "Let's take a look at voter turnout data for Canada. I compiled all this data into one csv file by doing an hour or two of research. Most of the data is easily available on provincial election websites. Start by importing pandas."
   ]
  },
  {
   "cell_type": "code",
   "execution_count": 1,
   "metadata": {},
   "outputs": [],
   "source": [
    "import pandas as pd\n",
    "import datawrappergraphics"
   ]
  },
  {
   "cell_type": "markdown",
   "metadata": {},
   "source": [
    "Bring in the csv file I put together."
   ]
  },
  {
   "cell_type": "code",
   "execution_count": 2,
   "metadata": {},
   "outputs": [
    {
     "data": {
      "text/html": [
       "<div>\n",
       "<style scoped>\n",
       "    .dataframe tbody tr th:only-of-type {\n",
       "        vertical-align: middle;\n",
       "    }\n",
       "\n",
       "    .dataframe tbody tr th {\n",
       "        vertical-align: top;\n",
       "    }\n",
       "\n",
       "    .dataframe thead th {\n",
       "        text-align: right;\n",
       "    }\n",
       "</style>\n",
       "<table border=\"1\" class=\"dataframe\">\n",
       "  <thead>\n",
       "    <tr style=\"text-align: right;\">\n",
       "      <th></th>\n",
       "      <th>Province</th>\n",
       "      <th>Year</th>\n",
       "      <th>Turnout</th>\n",
       "      <th>Source</th>\n",
       "      <th>Flag</th>\n",
       "    </tr>\n",
       "  </thead>\n",
       "  <tbody>\n",
       "    <tr>\n",
       "      <th>0</th>\n",
       "      <td>Nova Scotia</td>\n",
       "      <td>2021</td>\n",
       "      <td>55.1</td>\n",
       "      <td>https://electionsnovascotia.ca/sites/default/f...</td>\n",
       "      <td>NaN</td>\n",
       "    </tr>\n",
       "    <tr>\n",
       "      <th>1</th>\n",
       "      <td>Nova Scotia</td>\n",
       "      <td>2017</td>\n",
       "      <td>53.4</td>\n",
       "      <td>https://electionsnovascotia.ca/sites/default/f...</td>\n",
       "      <td>NaN</td>\n",
       "    </tr>\n",
       "    <tr>\n",
       "      <th>2</th>\n",
       "      <td>Nova Scotia</td>\n",
       "      <td>2013</td>\n",
       "      <td>58.2</td>\n",
       "      <td>https://electionsnovascotia.ca/sites/default/f...</td>\n",
       "      <td>NaN</td>\n",
       "    </tr>\n",
       "    <tr>\n",
       "      <th>3</th>\n",
       "      <td>Nova Scotia</td>\n",
       "      <td>2009</td>\n",
       "      <td>57.9</td>\n",
       "      <td>https://electionsnovascotia.ca/sites/default/f...</td>\n",
       "      <td>NaN</td>\n",
       "    </tr>\n",
       "    <tr>\n",
       "      <th>4</th>\n",
       "      <td>Nova Scotia</td>\n",
       "      <td>2006</td>\n",
       "      <td>59.9</td>\n",
       "      <td>https://electionsnovascotia.ca/sites/default/f...</td>\n",
       "      <td>NaN</td>\n",
       "    </tr>\n",
       "  </tbody>\n",
       "</table>\n",
       "</div>"
      ],
      "text/plain": [
       "      Province  Year  Turnout  \\\n",
       "0  Nova Scotia  2021     55.1   \n",
       "1  Nova Scotia  2017     53.4   \n",
       "2  Nova Scotia  2013     58.2   \n",
       "3  Nova Scotia  2009     57.9   \n",
       "4  Nova Scotia  2006     59.9   \n",
       "\n",
       "                                              Source Flag  \n",
       "0  https://electionsnovascotia.ca/sites/default/f...  NaN  \n",
       "1  https://electionsnovascotia.ca/sites/default/f...  NaN  \n",
       "2  https://electionsnovascotia.ca/sites/default/f...  NaN  \n",
       "3  https://electionsnovascotia.ca/sites/default/f...  NaN  \n",
       "4  https://electionsnovascotia.ca/sites/default/f...  NaN  "
      ]
     },
     "execution_count": 2,
     "metadata": {},
     "output_type": "execute_result"
    }
   ],
   "source": [
    "raw = pd.read_csv(\"province-data.csv\")\n",
    "\n",
    "raw.head(5)"
   ]
  },
  {
   "cell_type": "markdown",
   "metadata": {},
   "source": [
    "Now we pivot so we can graph each province in a line."
   ]
  },
  {
   "cell_type": "code",
   "execution_count": 3,
   "metadata": {},
   "outputs": [],
   "source": [
    "pivot = raw[(raw[\"Province\"] != \"Prince Edward Island\") & (raw[\"Year\"] >= 1980)].pivot(index=\"Year\", columns=\"Province\", values=\"Turnout\")"
   ]
  },
  {
   "cell_type": "markdown",
   "metadata": {},
   "source": [
    "We're also going to plot a trend line for all of Canada, to show how it's changed since 1980. We start by getting the average values in 1980 and in 2021 and adding them to our dataframe."
   ]
  },
  {
   "cell_type": "code",
   "execution_count": 4,
   "metadata": {},
   "outputs": [],
   "source": [
    "start_avg = pivot.loc[1981, :].mean()\n",
    "end_avg = pivot.loc[2021, :].mean()\n",
    "\n",
    "pivot.loc[1981, \"Canada\"] = start_avg\n",
    "pivot.loc[2021, \"Canada\"] = end_avg"
   ]
  },
  {
   "cell_type": "markdown",
   "metadata": {},
   "source": [
    "Then we interpolate values, so that we get lines and not just a series of barely-visible dots."
   ]
  },
  {
   "cell_type": "code",
   "execution_count": 5,
   "metadata": {},
   "outputs": [],
   "source": [
    "pivot = pivot.interpolate()"
   ]
  },
  {
   "cell_type": "markdown",
   "metadata": {},
   "source": [
    "Now we use the datawrappergraphics library to graph it!"
   ]
  },
  {
   "cell_type": "code",
   "execution_count": 6,
   "metadata": {},
   "outputs": [
    {
     "name": "stderr",
     "output_type": "stream",
     "text": [
      "INFO:root:SUCCESS: Data added to chart.\n",
      "c:\\Users\\dexmc\\anaconda3\\envs\\geo\\lib\\site-packages\\IPython\\core\\display.py:419: UserWarning: Consider using IPython.display.IFrame instead\n",
      "  warnings.warn(\"Consider using IPython.display.IFrame instead\")\n"
     ]
    },
    {
     "data": {
      "text/html": [
       "<iframe title=\"Provincial election voter turnout since 1980\" aria-label=\"Interactive line chart\" id=\"datawrapper-chart-ePH6X\" src=\"https://datawrapper.dwcdn.net/ePH6X/3/\" scrolling=\"no\" frameborder=\"0\" style=\"border: none;\" width=\"720\" height=\"500\"></iframe>"
      ],
      "text/plain": [
       "<IPython.core.display.HTML object>"
      ]
     },
     "execution_count": 6,
     "metadata": {},
     "output_type": "execute_result"
    }
   ],
   "source": [
    "datawrappergraphics.Chart(\"ePH6X\").data(pivot).show()"
   ]
  },
  {
   "cell_type": "markdown",
   "metadata": {},
   "source": [
    "\\-30\\-"
   ]
  }
 ],
 "metadata": {
  "kernelspec": {
   "display_name": "Python 3.10.2 ('geo')",
   "language": "python",
   "name": "python3"
  },
  "language_info": {
   "codemirror_mode": {
    "name": "ipython",
    "version": 3
   },
   "file_extension": ".py",
   "mimetype": "text/x-python",
   "name": "python",
   "nbconvert_exporter": "python",
   "pygments_lexer": "ipython3",
   "version": "3.10.2"
  },
  "orig_nbformat": 4,
  "vscode": {
   "interpreter": {
    "hash": "73de8b438f32372771bda1aa2e3d2689a59747422210df3e3470a45f58c477e6"
   }
  }
 },
 "nbformat": 4,
 "nbformat_minor": 2
}
