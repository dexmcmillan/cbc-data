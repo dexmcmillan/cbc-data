{
 "cells": [
  {
   "cell_type": "code",
   "execution_count": 1,
   "metadata": {},
   "outputs": [],
   "source": [
    "from email.contentmanager import raw_data_manager\n",
    "import requests\n",
    "import geopandas\n",
    "import pandas as pd\n",
    "import json\n",
    "import datawrappergraphics\n",
    "import logging"
   ]
  },
  {
   "cell_type": "code",
   "execution_count": 2,
   "metadata": {},
   "outputs": [
    {
     "name": "stdout",
     "output_type": "stream",
     "text": [
      "       SRC_AGENCY      FIRE_ID               FIRENAME  LATITUDE  LONGITUDE  \\\n",
      "0              BC  1953-G00041                   None  59.96300 -128.17200   \n",
      "1              BC  1950-R00028                   None  59.31800 -132.17200   \n",
      "2              BC  1950-G00026                   None  59.87600 -131.92200   \n",
      "3              BC  1951-R00097                   None  59.76000 -132.80800   \n",
      "4              BC  1952-G00116                   None  59.43400 -126.17200   \n",
      "...           ...          ...                    ...       ...        ...   \n",
      "417128         NB   VI-4-22-37        Remembrance Day  46.90015  -67.42012   \n",
      "417129         NB  WE-2-17-120          Scoudouc line  46.13146  -64.55874   \n",
      "417130         NB  WE-2-17-121        Old Railway Bed  45.96538  -64.31922   \n",
      "417131         NB  SU-3-21-220  Portobello Grass Fire  45.89920  -66.51822   \n",
      "417132         NB   GL-1-14-84       St-Sauveur Coupe  47.55478  -65.27155   \n",
      "\n",
      "        YEAR  MONTH  DAY    REP_DATE   ATTK_DATE  ... CFS_NOTE1 CFS_NOTE2  \\\n",
      "0       1953      5   26  1953-05-26        None  ...      None      None   \n",
      "1       1950      6   22  1950-06-22        None  ...      None      None   \n",
      "2       1950      6    4  1950-06-04        None  ...      None      None   \n",
      "3       1951      7   15  1951-07-15        None  ...      None      None   \n",
      "4       1952      6   12  1952-06-12        None  ...      None      None   \n",
      "...      ...    ...  ...         ...         ...  ...       ...       ...   \n",
      "417128  2020     11   10  2020-11-10  2020-11-10  ...      None      None   \n",
      "417129  2020     11   10  2020-11-10  2020-11-10  ...      None      None   \n",
      "417130  2020     11   13  2020-11-13  2020-11-13  ...      None      None   \n",
      "417131  2020     11   18  2020-11-18  2020-11-18  ...      None      None   \n",
      "417132  2020     11   21  2020-11-21  2020-11-21  ...      None      None   \n",
      "\n",
      "          ACQ_DATE SRC_AGY2 ECOZONE ECOZ_REF          ECOZ_NAME  \\\n",
      "0       2020-05-05       BC      12       12  Boreal Cordillera   \n",
      "1       2020-05-05       BC      12       12  Boreal Cordillera   \n",
      "2       2020-05-05       BC      12       12  Boreal Cordillera   \n",
      "3       2020-05-05       BC      12       12  Boreal Cordillera   \n",
      "4       2020-05-05       BC      12       12  Boreal Cordillera   \n",
      "...            ...      ...     ...      ...                ...   \n",
      "417128  2021-09-16       NB       7        7  Atlantic Maritime   \n",
      "417129  2021-09-16       NB       7        7  Atlantic Maritime   \n",
      "417130  2021-09-16       NB       7        7  Atlantic Maritime   \n",
      "417131  2021-09-16       NB       7        7  Atlantic Maritime   \n",
      "417132  2021-09-16       NB       7        7  Atlantic Maritime   \n",
      "\n",
      "                        ECOZ_NOM                                  geometry  \\\n",
      "0             CordillCre boreale  POINT Z (-1720729.937 1659437.590 0.000)   \n",
      "1             CordillCre boreale  POINT Z (-1944086.504 1715216.943 0.000)   \n",
      "2             CordillCre boreale  POINT Z (-1899364.952 1758151.328 0.000)   \n",
      "3             CordillCre boreale  POINT Z (-1946555.868 1774479.072 0.000)   \n",
      "4             CordillCre boreale  POINT Z (-1652703.809 1556259.590 0.000)   \n",
      "...                          ...                                       ...   \n",
      "417128  Maritime de l'Atlantique    POINT Z (2053936.130 217935.898 0.000)   \n",
      "417129  Maritime de l'Atlantique    POINT Z (2291118.976 238155.889 0.000)   \n",
      "417130  Maritime de l'Atlantique    POINT Z (2316402.004 230256.577 0.000)   \n",
      "417131  Maritime de l'Atlantique    POINT Z (2165330.333 146116.068 0.000)   \n",
      "417132  Maritime de l'Atlantique    POINT Z (2169560.588 355278.262 0.000)   \n",
      "\n",
      "         type  \n",
      "0       point  \n",
      "1       point  \n",
      "2       point  \n",
      "3       point  \n",
      "4       point  \n",
      "...       ...  \n",
      "417128  point  \n",
      "417129  point  \n",
      "417130  point  \n",
      "417131  point  \n",
      "417132  point  \n",
      "\n",
      "[417133 rows x 28 columns]\n"
     ]
    }
   ],
   "source": [
    "# Live chart ID: Os1m6\n",
    "CHART_ID = \"80lJz\"\n",
    "\n",
    "# Make HTTP request for the data and put into a geopandas dataframe.\n",
    "raw = geopandas.read_file(\"https://cwfis.cfs.nrcan.gc.ca/downloads/nfdb/fire_pnt/current_version/NFDB_point.zip\", driver=\"shapefile\")\n",
    "# data = geopandas.read_file(json.dumps(r.json()))\n",
    "raw[\"type\"] = \"point\"\n",
    "raw"
   ]
  },
  {
   "cell_type": "code",
   "execution_count": 3,
   "metadata": {},
   "outputs": [
    {
     "name": "stdout",
     "output_type": "stream",
     "text": [
      "Index(['SRC_AGENCY', 'FIRE_ID', 'FIRENAME', 'LATITUDE', 'LONGITUDE', 'YEAR',\n",
      "       'MONTH', 'DAY', 'REP_DATE', 'ATTK_DATE', 'OUT_DATE', 'DECADE',\n",
      "       'SIZE_HA', 'CAUSE', 'PROTZONE', 'FIRE_TYPE', 'MORE_INFO', 'CFS_REF_ID',\n",
      "       'CFS_NOTE1', 'CFS_NOTE2', 'ACQ_DATE', 'SRC_AGY2', 'ECOZONE', 'ECOZ_REF',\n",
      "       'ECOZ_NAME', 'ECOZ_NOM', 'geometry', 'type'],\n",
      "      dtype='object')\n"
     ]
    }
   ],
   "source": [
    "print(raw.columns)"
   ]
  },
  {
   "cell_type": "code",
   "execution_count": 7,
   "metadata": {},
   "outputs": [],
   "source": [
    "pivot = raw.pivot_table(index=\"YEAR\", values=\"SIZE_HA\", columns=\"CAUSE\", aggfunc='sum')\n",
    "\n",
    "pivot[\"human\"] = round(pivot[\"H\"] + pivot[\"H-PB\"], 2)\n",
    "pivot[\"lightning\"] = round(pivot[\"L\"], 2)\n",
    "pivot[\"other\"] = round(pivot[\"RE\"] + pivot[\"U\"] + pivot[\"n/a\"], 2)\n",
    "\n",
    "pivot = pivot[pivot.index >= 1990]\n",
    "\n",
    "pivot[[\"human\", \"lightning\", \"other\"]].to_clipboard()"
   ]
  }
 ],
 "metadata": {
  "interpreter": {
   "hash": "73de8b438f32372771bda1aa2e3d2689a59747422210df3e3470a45f58c477e6"
  },
  "kernelspec": {
   "display_name": "Python 3.10.2 ('geo')",
   "language": "python",
   "name": "python3"
  },
  "language_info": {
   "codemirror_mode": {
    "name": "ipython",
    "version": 3
   },
   "file_extension": ".py",
   "mimetype": "text/x-python",
   "name": "python",
   "nbconvert_exporter": "python",
   "pygments_lexer": "ipython3",
   "version": "3.10.2"
  },
  "orig_nbformat": 4
 },
 "nbformat": 4,
 "nbformat_minor": 2
}
