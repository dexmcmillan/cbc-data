{
 "cells": [
  {
   "cell_type": "markdown",
   "metadata": {},
   "source": [
    "# CPI inflation graphic\n",
    "Date: *March 16, 2022*"
   ]
  },
  {
   "cell_type": "markdown",
   "metadata": {},
   "source": [
    "A quick tutorial on how I prepared a graphic on CPI inflation for CBC News. We import Pandas, then we import the data."
   ]
  },
  {
   "cell_type": "code",
   "execution_count": 1,
   "metadata": {},
   "outputs": [],
   "source": [
    "import pandas as pd\n",
    "\n",
    "raw = pd.read_csv(\"../raw/RAW 2022 STATSCAN CPI INFLATION.csv\")"
   ]
  },
  {
   "cell_type": "markdown",
   "metadata": {},
   "source": [
    "First we have to filter the data to show only what we want to see: all basket items, and only for Canada (not provinces or territories). We also filter for data from 2000 onwards."
   ]
  },
  {
   "cell_type": "code",
   "execution_count": 91,
   "metadata": {},
   "outputs": [],
   "source": [
    "filtered = raw[(raw[\"Products and product groups\"] == \"All-items\")\n",
    "               & (raw[\"GEO\"] == \"Canada\")\n",
    "               & (raw[\"REF_DATE\"] >= \"2000-01\")\n",
    "               ]\n",
    "\n",
    "filtered = (filtered\n",
    "            .pivot(index=\"REF_DATE\", values=\"VALUE\", columns=\"Products and product groups\")\n",
    "            .reset_index()\n",
    "            )"
   ]
  },
  {
   "cell_type": "markdown",
   "metadata": {},
   "source": [
    "Now we have to work some magic on the data. We'll start by calculating the % change vs. the same month in the previous year. Then, we get rid of empty values (really, just the first 12 values because they can't compare to anything!)."
   ]
  },
  {
   "cell_type": "code",
   "execution_count": 103,
   "metadata": {},
   "outputs": [],
   "source": [
    "filtered[\"change\"] = (filtered[\"All-items\"].pct_change(12) * 100)\n",
    "filtered = filtered.dropna(subset=[\"change\"])\n",
    "filtered[\"REF_DATE\"] = pd.to_datetime(filtered[\"REF_DATE\"])"
   ]
  },
  {
   "cell_type": "markdown",
   "metadata": {},
   "source": [
    "Using this set, we'll do two version and join them: one for monthly changes over the previous year, and the other for only February changes, with interpolations in between (so we get a nice smooth line)."
   ]
  },
  {
   "cell_type": "code",
   "execution_count": 108,
   "metadata": {},
   "outputs": [],
   "source": [
    "monthly = filtered[[\"REF_DATE\", \"change\"]].set_index(\"REF_DATE\")\n",
    "\n",
    "annual = filtered[[\"REF_DATE\", \"change\"]].set_index(\"REF_DATE\")\n",
    "annual = annual[annual.index.month == 2]\n",
    "\n",
    "both = (monthly\n",
    "        .merge(annual, how=\"left\", on=\"REF_DATE\")\n",
    "        .interpolate(method=\"quadratic\")\n",
    "        .dropna()\n",
    "        )"
   ]
  },
  {
   "cell_type": "markdown",
   "metadata": {},
   "source": [
    "Now we take it over to Datawrapper, and here is the result: [https://www.datawrapper.de/_/LgM77/](https://www.datawrapper.de/_/LgM77/)."
   ]
  }
 ],
 "metadata": {
  "interpreter": {
   "hash": "f4d1a38d5d0290456d21c8fc16b003197c4108b66277a3181758af8be3ad3a7c"
  },
  "kernelspec": {
   "display_name": "Python 3.9.7 ('base')",
   "language": "python",
   "name": "python3"
  },
  "language_info": {
   "codemirror_mode": {
    "name": "ipython",
    "version": 3
   },
   "file_extension": ".py",
   "mimetype": "text/x-python",
   "name": "python",
   "nbconvert_exporter": "python",
   "pygments_lexer": "ipython3",
   "version": "3.9.7"
  },
  "orig_nbformat": 4
 },
 "nbformat": 4,
 "nbformat_minor": 2
}
