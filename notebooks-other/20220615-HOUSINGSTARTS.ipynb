{
 "cells": [
  {
   "cell_type": "markdown",
   "metadata": {},
   "source": [
    "# New housing starts and completions in Canada\n",
    "*June 15, 2022*"
   ]
  },
  {
   "cell_type": "markdown",
   "metadata": {},
   "source": [
    "Let's take a look at some housing data in Canada (always a hot topic). Specifically, I want to see new builds and completions across the country.\n",
    "\n",
    "We start by importing pandas, for working with the data, and a few modules to handle zip files (so we can access the latest data directly from StatsCan)."
   ]
  },
  {
   "cell_type": "code",
   "execution_count": 4,
   "metadata": {},
   "outputs": [],
   "source": [
    "import pandas as pd\n",
    "from zipfile import ZipFile\n",
    "from io import BytesIO\n",
    "import requests\n",
    "import datawrappergraphics"
   ]
  },
  {
   "cell_type": "markdown",
   "metadata": {},
   "source": [
    "Now we bring in data and pull it out of the zip file."
   ]
  },
  {
   "cell_type": "code",
   "execution_count": 5,
   "metadata": {},
   "outputs": [
    {
     "name": "stderr",
     "output_type": "stream",
     "text": [
      "C:\\Users\\dexmc\\AppData\\Local\\Temp\\ipykernel_29628\\865104745.py:4: DtypeWarning: Columns (12,14) have mixed types. Specify dtype option on import or set low_memory=False.\n",
      "  raw = pd.read_csv(file, encoding=\"utf-8\")\n"
     ]
    },
    {
     "data": {
      "text/html": [
       "<div>\n",
       "<style scoped>\n",
       "    .dataframe tbody tr th:only-of-type {\n",
       "        vertical-align: middle;\n",
       "    }\n",
       "\n",
       "    .dataframe tbody tr th {\n",
       "        vertical-align: top;\n",
       "    }\n",
       "\n",
       "    .dataframe thead th {\n",
       "        text-align: right;\n",
       "    }\n",
       "</style>\n",
       "<table border=\"1\" class=\"dataframe\">\n",
       "  <thead>\n",
       "    <tr style=\"text-align: right;\">\n",
       "      <th></th>\n",
       "      <th>REF_DATE</th>\n",
       "      <th>GEO</th>\n",
       "      <th>DGUID</th>\n",
       "      <th>Housing estimates</th>\n",
       "      <th>Type of unit</th>\n",
       "      <th>UOM</th>\n",
       "      <th>UOM_ID</th>\n",
       "      <th>SCALAR_FACTOR</th>\n",
       "      <th>SCALAR_ID</th>\n",
       "      <th>VECTOR</th>\n",
       "      <th>COORDINATE</th>\n",
       "      <th>VALUE</th>\n",
       "      <th>STATUS</th>\n",
       "      <th>SYMBOL</th>\n",
       "      <th>TERMINATED</th>\n",
       "      <th>DECIMALS</th>\n",
       "    </tr>\n",
       "  </thead>\n",
       "  <tbody>\n",
       "    <tr>\n",
       "      <th>0</th>\n",
       "      <td>1948-01</td>\n",
       "      <td>Canada</td>\n",
       "      <td>2016A000011124</td>\n",
       "      <td>Housing starts</td>\n",
       "      <td>Total units</td>\n",
       "      <td>Units</td>\n",
       "      <td>300</td>\n",
       "      <td>units</td>\n",
       "      <td>0</td>\n",
       "      <td>v729949</td>\n",
       "      <td>1.1.1</td>\n",
       "      <td>1456.0</td>\n",
       "      <td>NaN</td>\n",
       "      <td>NaN</td>\n",
       "      <td>NaN</td>\n",
       "      <td>0</td>\n",
       "    </tr>\n",
       "    <tr>\n",
       "      <th>1</th>\n",
       "      <td>1948-01</td>\n",
       "      <td>Canada</td>\n",
       "      <td>2016A000011124</td>\n",
       "      <td>Housing under construction</td>\n",
       "      <td>Total units</td>\n",
       "      <td>Units</td>\n",
       "      <td>300</td>\n",
       "      <td>units</td>\n",
       "      <td>0</td>\n",
       "      <td>v730976</td>\n",
       "      <td>1.2.1</td>\n",
       "      <td>29510.0</td>\n",
       "      <td>NaN</td>\n",
       "      <td>NaN</td>\n",
       "      <td>NaN</td>\n",
       "      <td>0</td>\n",
       "    </tr>\n",
       "    <tr>\n",
       "      <th>2</th>\n",
       "      <td>1948-01</td>\n",
       "      <td>Canada</td>\n",
       "      <td>2016A000011124</td>\n",
       "      <td>Housing completions</td>\n",
       "      <td>Total units</td>\n",
       "      <td>Units</td>\n",
       "      <td>300</td>\n",
       "      <td>units</td>\n",
       "      <td>0</td>\n",
       "      <td>v731911</td>\n",
       "      <td>1.3.1</td>\n",
       "      <td>3196.0</td>\n",
       "      <td>NaN</td>\n",
       "      <td>NaN</td>\n",
       "      <td>NaN</td>\n",
       "      <td>0</td>\n",
       "    </tr>\n",
       "    <tr>\n",
       "      <th>3</th>\n",
       "      <td>1948-01</td>\n",
       "      <td>Atlantic provinces</td>\n",
       "      <td>2016A00011</td>\n",
       "      <td>Housing starts</td>\n",
       "      <td>Total units</td>\n",
       "      <td>Units</td>\n",
       "      <td>300</td>\n",
       "      <td>units</td>\n",
       "      <td>0</td>\n",
       "      <td>v729950</td>\n",
       "      <td>2.1.1</td>\n",
       "      <td>53.0</td>\n",
       "      <td>NaN</td>\n",
       "      <td>NaN</td>\n",
       "      <td>NaN</td>\n",
       "      <td>0</td>\n",
       "    </tr>\n",
       "    <tr>\n",
       "      <th>4</th>\n",
       "      <td>1948-01</td>\n",
       "      <td>Atlantic provinces</td>\n",
       "      <td>2016A00011</td>\n",
       "      <td>Housing under construction</td>\n",
       "      <td>Total units</td>\n",
       "      <td>Units</td>\n",
       "      <td>300</td>\n",
       "      <td>units</td>\n",
       "      <td>0</td>\n",
       "      <td>v730977</td>\n",
       "      <td>2.2.1</td>\n",
       "      <td>NaN</td>\n",
       "      <td>x</td>\n",
       "      <td>NaN</td>\n",
       "      <td>NaN</td>\n",
       "      <td>0</td>\n",
       "    </tr>\n",
       "  </tbody>\n",
       "</table>\n",
       "</div>"
      ],
      "text/plain": [
       "  REF_DATE                 GEO           DGUID           Housing estimates  \\\n",
       "0  1948-01              Canada  2016A000011124              Housing starts   \n",
       "1  1948-01              Canada  2016A000011124  Housing under construction   \n",
       "2  1948-01              Canada  2016A000011124         Housing completions   \n",
       "3  1948-01  Atlantic provinces      2016A00011              Housing starts   \n",
       "4  1948-01  Atlantic provinces      2016A00011  Housing under construction   \n",
       "\n",
       "  Type of unit    UOM  UOM_ID SCALAR_FACTOR  SCALAR_ID   VECTOR COORDINATE  \\\n",
       "0  Total units  Units     300         units          0  v729949      1.1.1   \n",
       "1  Total units  Units     300         units          0  v730976      1.2.1   \n",
       "2  Total units  Units     300         units          0  v731911      1.3.1   \n",
       "3  Total units  Units     300         units          0  v729950      2.1.1   \n",
       "4  Total units  Units     300         units          0  v730977      2.2.1   \n",
       "\n",
       "     VALUE STATUS  SYMBOL TERMINATED  DECIMALS  \n",
       "0   1456.0    NaN     NaN        NaN         0  \n",
       "1  29510.0    NaN     NaN        NaN         0  \n",
       "2   3196.0    NaN     NaN        NaN         0  \n",
       "3     53.0    NaN     NaN        NaN         0  \n",
       "4      NaN      x     NaN        NaN         0  "
      ]
     },
     "execution_count": 5,
     "metadata": {},
     "output_type": "execute_result"
    }
   ],
   "source": [
    "r = requests.get(\"https://www150.statcan.gc.ca/n1/en/tbl/csv/34100143-eng.zip?st=XKh0NRc8\")\n",
    "files = ZipFile(BytesIO(r.content))\n",
    "file = files.open(files.namelist()[0])\n",
    "raw = pd.read_csv(file, encoding=\"utf-8\")\n",
    "\n",
    "raw.head(5)"
   ]
  },
  {
   "cell_type": "markdown",
   "metadata": {},
   "source": [
    "### New starts"
   ]
  },
  {
   "cell_type": "markdown",
   "metadata": {},
   "source": [
    "Let's look at Canada-wide stuff, and we'll start with housing starts for all types of units (single family detached, apartments etc)."
   ]
  },
  {
   "cell_type": "code",
   "execution_count": 47,
   "metadata": {},
   "outputs": [
    {
     "data": {
      "text/html": [
       "<div>\n",
       "<style scoped>\n",
       "    .dataframe tbody tr th:only-of-type {\n",
       "        vertical-align: middle;\n",
       "    }\n",
       "\n",
       "    .dataframe tbody tr th {\n",
       "        vertical-align: top;\n",
       "    }\n",
       "\n",
       "    .dataframe thead th {\n",
       "        text-align: right;\n",
       "    }\n",
       "</style>\n",
       "<table border=\"1\" class=\"dataframe\">\n",
       "  <thead>\n",
       "    <tr style=\"text-align: right;\">\n",
       "      <th>GEO</th>\n",
       "      <th>REF_DATE</th>\n",
       "      <th>Canada</th>\n",
       "    </tr>\n",
       "  </thead>\n",
       "  <tbody>\n",
       "    <tr>\n",
       "      <th>888</th>\n",
       "      <td>2022-01</td>\n",
       "      <td>13388.0</td>\n",
       "    </tr>\n",
       "    <tr>\n",
       "      <th>889</th>\n",
       "      <td>2022-02</td>\n",
       "      <td>15453.0</td>\n",
       "    </tr>\n",
       "    <tr>\n",
       "      <th>890</th>\n",
       "      <td>2022-03</td>\n",
       "      <td>16099.0</td>\n",
       "    </tr>\n",
       "    <tr>\n",
       "      <th>891</th>\n",
       "      <td>2022-04</td>\n",
       "      <td>20775.0</td>\n",
       "    </tr>\n",
       "    <tr>\n",
       "      <th>892</th>\n",
       "      <td>2022-05</td>\n",
       "      <td>22850.0</td>\n",
       "    </tr>\n",
       "  </tbody>\n",
       "</table>\n",
       "</div>"
      ],
      "text/plain": [
       "GEO REF_DATE   Canada\n",
       "888  2022-01  13388.0\n",
       "889  2022-02  15453.0\n",
       "890  2022-03  16099.0\n",
       "891  2022-04  20775.0\n",
       "892  2022-05  22850.0"
      ]
     },
     "execution_count": 47,
     "metadata": {},
     "output_type": "execute_result"
    }
   ],
   "source": [
    "canada = (raw\n",
    "          .loc[(raw[\"GEO\"] == \"Canada\") &\n",
    "               (raw[\"Housing estimates\"] == \"Housing starts\") &\n",
    "               (raw[\"Type of unit\"] == \"Total units\"), :]\n",
    "          .pivot(columns=\"GEO\", index=\"REF_DATE\", values=\"VALUE\")\n",
    "          .reset_index()\n",
    "          )\n",
    "\n",
    "canada.tail(5)"
   ]
  },
  {
   "cell_type": "markdown",
   "metadata": {},
   "source": [
    "Because this data is not seasonally adjusted, and there are way more new builds started in summer months than in winter ones, let's just look at May to May for each year."
   ]
  },
  {
   "cell_type": "code",
   "execution_count": 43,
   "metadata": {},
   "outputs": [
    {
     "data": {
      "text/html": [
       "<div>\n",
       "<style scoped>\n",
       "    .dataframe tbody tr th:only-of-type {\n",
       "        vertical-align: middle;\n",
       "    }\n",
       "\n",
       "    .dataframe tbody tr th {\n",
       "        vertical-align: top;\n",
       "    }\n",
       "\n",
       "    .dataframe thead th {\n",
       "        text-align: right;\n",
       "    }\n",
       "</style>\n",
       "<table border=\"1\" class=\"dataframe\">\n",
       "  <thead>\n",
       "    <tr style=\"text-align: right;\">\n",
       "      <th>GEO</th>\n",
       "      <th>REF_DATE</th>\n",
       "      <th>Canada</th>\n",
       "    </tr>\n",
       "  </thead>\n",
       "  <tbody>\n",
       "    <tr>\n",
       "      <th>844</th>\n",
       "      <td>2018-05-01</td>\n",
       "      <td>15985.0</td>\n",
       "    </tr>\n",
       "    <tr>\n",
       "      <th>856</th>\n",
       "      <td>2019-05-01</td>\n",
       "      <td>16409.0</td>\n",
       "    </tr>\n",
       "    <tr>\n",
       "      <th>868</th>\n",
       "      <td>2020-05-01</td>\n",
       "      <td>16014.0</td>\n",
       "    </tr>\n",
       "    <tr>\n",
       "      <th>880</th>\n",
       "      <td>2021-05-01</td>\n",
       "      <td>22098.0</td>\n",
       "    </tr>\n",
       "    <tr>\n",
       "      <th>892</th>\n",
       "      <td>2022-05-01</td>\n",
       "      <td>22850.0</td>\n",
       "    </tr>\n",
       "  </tbody>\n",
       "</table>\n",
       "</div>"
      ],
      "text/plain": [
       "GEO   REF_DATE   Canada\n",
       "844 2018-05-01  15985.0\n",
       "856 2019-05-01  16409.0\n",
       "868 2020-05-01  16014.0\n",
       "880 2021-05-01  22098.0\n",
       "892 2022-05-01  22850.0"
      ]
     },
     "execution_count": 43,
     "metadata": {},
     "output_type": "execute_result"
    }
   ],
   "source": [
    "canada[\"REF_DATE\"] = pd.to_datetime(canada[\"REF_DATE\"])\n",
    "may = canada[canada[\"REF_DATE\"].dt.month == 5]\n",
    "\n",
    "may.tail(5)"
   ]
  },
  {
   "cell_type": "markdown",
   "metadata": {},
   "source": [
    "Now we'll send that dataframe to datawrapper!"
   ]
  },
  {
   "cell_type": "code",
   "execution_count": 36,
   "metadata": {},
   "outputs": [
    {
     "name": "stderr",
     "output_type": "stream",
     "text": [
      "INFO:root:SUCCESS: Data added to chart.\n",
      "INFO:root:SUCCESS: Metadata updated.\n",
      "INFO:root:SUCCESS: Chart head added.\n",
      "INFO:root:SUCCESS: Chart published!\n",
      "c:\\Users\\dexmc\\anaconda3\\envs\\geo\\lib\\site-packages\\IPython\\core\\display.py:419: UserWarning: Consider using IPython.display.IFrame instead\n",
      "  warnings.warn(\"Consider using IPython.display.IFrame instead\")\n"
     ]
    },
    {
     "data": {
      "text/html": [
       "<iframe title=\"New housing starts in May in Canada since 2000\" aria-label=\"Interactive line chart\" id=\"datawrapper-chart-NrVAt\" src=\"https://datawrapper.dwcdn.net/NrVAt/6/\" scrolling=\"no\" frameborder=\"0\" style=\"border: none;\" width=\"720\" height=\"500\"></iframe>"
      ],
      "text/plain": [
       "<IPython.core.display.HTML object>"
      ]
     },
     "execution_count": 36,
     "metadata": {},
     "output_type": "execute_result"
    }
   ],
   "source": [
    "(datawrappergraphics.Chart(\"NrVAt\")\n",
    "    .data(may)\n",
    "    .head(f\"New housing <b>starts</b> in May in Canada since 1950\")\n",
    "    .publish()\n",
    "    .show()\n",
    " )"
   ]
  },
  {
   "cell_type": "markdown",
   "metadata": {},
   "source": [
    "Let's also see where the most recent month ranks, all-time."
   ]
  },
  {
   "cell_type": "code",
   "execution_count": 54,
   "metadata": {},
   "outputs": [
    {
     "data": {
      "text/html": [
       "<div>\n",
       "<style scoped>\n",
       "    .dataframe tbody tr th:only-of-type {\n",
       "        vertical-align: middle;\n",
       "    }\n",
       "\n",
       "    .dataframe tbody tr th {\n",
       "        vertical-align: top;\n",
       "    }\n",
       "\n",
       "    .dataframe thead th {\n",
       "        text-align: right;\n",
       "    }\n",
       "</style>\n",
       "<table border=\"1\" class=\"dataframe\">\n",
       "  <thead>\n",
       "    <tr style=\"text-align: right;\">\n",
       "      <th>GEO</th>\n",
       "      <th>REF_DATE</th>\n",
       "      <th>Canada</th>\n",
       "    </tr>\n",
       "    <tr>\n",
       "      <th>rank</th>\n",
       "      <th></th>\n",
       "      <th></th>\n",
       "    </tr>\n",
       "  </thead>\n",
       "  <tbody>\n",
       "    <tr>\n",
       "      <th>1</th>\n",
       "      <td>2021-11</td>\n",
       "      <td>25004.0</td>\n",
       "    </tr>\n",
       "    <tr>\n",
       "      <th>2</th>\n",
       "      <td>1987-05</td>\n",
       "      <td>24846.0</td>\n",
       "    </tr>\n",
       "    <tr>\n",
       "      <th>3</th>\n",
       "      <td>2021-06</td>\n",
       "      <td>23573.0</td>\n",
       "    </tr>\n",
       "    <tr>\n",
       "      <th>4</th>\n",
       "      <td>1987-06</td>\n",
       "      <td>23433.0</td>\n",
       "    </tr>\n",
       "    <tr>\n",
       "      <th>5</th>\n",
       "      <td>1976-06</td>\n",
       "      <td>23301.0</td>\n",
       "    </tr>\n",
       "    <tr>\n",
       "      <th>6</th>\n",
       "      <td>1975-10</td>\n",
       "      <td>23181.0</td>\n",
       "    </tr>\n",
       "    <tr>\n",
       "      <th>7</th>\n",
       "      <td>1970-10</td>\n",
       "      <td>23161.0</td>\n",
       "    </tr>\n",
       "    <tr>\n",
       "      <th>8</th>\n",
       "      <td>2022-05</td>\n",
       "      <td>22850.0</td>\n",
       "    </tr>\n",
       "    <tr>\n",
       "      <th>9</th>\n",
       "      <td>1976-05</td>\n",
       "      <td>22799.0</td>\n",
       "    </tr>\n",
       "    <tr>\n",
       "      <th>10</th>\n",
       "      <td>1972-10</td>\n",
       "      <td>22592.0</td>\n",
       "    </tr>\n",
       "  </tbody>\n",
       "</table>\n",
       "</div>"
      ],
      "text/plain": [
       "GEO  REF_DATE   Canada\n",
       "rank                  \n",
       "1     2021-11  25004.0\n",
       "2     1987-05  24846.0\n",
       "3     2021-06  23573.0\n",
       "4     1987-06  23433.0\n",
       "5     1976-06  23301.0\n",
       "6     1975-10  23181.0\n",
       "7     1970-10  23161.0\n",
       "8     2022-05  22850.0\n",
       "9     1976-05  22799.0\n",
       "10    1972-10  22592.0"
      ]
     },
     "execution_count": 54,
     "metadata": {},
     "output_type": "execute_result"
    }
   ],
   "source": [
    "rank = canada.sort_values(\"Canada\", ascending=False)\n",
    "\n",
    "rank[\"rank\"] = range(1, len(canada)+1)\n",
    "\n",
    "rank = rank.set_index(\"rank\")\n",
    "\n",
    "rank.head(10)"
   ]
  },
  {
   "cell_type": "markdown",
   "metadata": {},
   "source": [
    "It ranks 8th all-time, but honestly: it's not too far behind the month with the record (November 2021)."
   ]
  },
  {
   "cell_type": "markdown",
   "metadata": {},
   "source": [
    "### Completions"
   ]
  },
  {
   "cell_type": "markdown",
   "metadata": {},
   "source": [
    "Now we'll do the same, but for completions rather than starts."
   ]
  },
  {
   "cell_type": "code",
   "execution_count": 44,
   "metadata": {},
   "outputs": [
    {
     "data": {
      "text/html": [
       "<div>\n",
       "<style scoped>\n",
       "    .dataframe tbody tr th:only-of-type {\n",
       "        vertical-align: middle;\n",
       "    }\n",
       "\n",
       "    .dataframe tbody tr th {\n",
       "        vertical-align: top;\n",
       "    }\n",
       "\n",
       "    .dataframe thead th {\n",
       "        text-align: right;\n",
       "    }\n",
       "</style>\n",
       "<table border=\"1\" class=\"dataframe\">\n",
       "  <thead>\n",
       "    <tr style=\"text-align: right;\">\n",
       "      <th>GEO</th>\n",
       "      <th>REF_DATE</th>\n",
       "      <th>Canada</th>\n",
       "    </tr>\n",
       "  </thead>\n",
       "  <tbody>\n",
       "    <tr>\n",
       "      <th>888</th>\n",
       "      <td>2022-01</td>\n",
       "      <td>14218.0</td>\n",
       "    </tr>\n",
       "    <tr>\n",
       "      <th>889</th>\n",
       "      <td>2022-02</td>\n",
       "      <td>13624.0</td>\n",
       "    </tr>\n",
       "    <tr>\n",
       "      <th>890</th>\n",
       "      <td>2022-03</td>\n",
       "      <td>16411.0</td>\n",
       "    </tr>\n",
       "    <tr>\n",
       "      <th>891</th>\n",
       "      <td>2022-04</td>\n",
       "      <td>14721.0</td>\n",
       "    </tr>\n",
       "    <tr>\n",
       "      <th>892</th>\n",
       "      <td>2022-05</td>\n",
       "      <td>17761.0</td>\n",
       "    </tr>\n",
       "  </tbody>\n",
       "</table>\n",
       "</div>"
      ],
      "text/plain": [
       "GEO REF_DATE   Canada\n",
       "888  2022-01  14218.0\n",
       "889  2022-02  13624.0\n",
       "890  2022-03  16411.0\n",
       "891  2022-04  14721.0\n",
       "892  2022-05  17761.0"
      ]
     },
     "execution_count": 44,
     "metadata": {},
     "output_type": "execute_result"
    }
   ],
   "source": [
    "completions = (raw\n",
    "               .loc[(raw[\"GEO\"] == \"Canada\") &\n",
    "                    (raw[\"Housing estimates\"] == \"Housing completions\") &\n",
    "                    (raw[\"Type of unit\"] == \"Total units\"), :]\n",
    "                .pivot(columns=\"GEO\", index=\"REF_DATE\", values=\"VALUE\")\n",
    "                .reset_index()\n",
    "                )\n",
    "\n",
    "completions.tail(5)"
   ]
  },
  {
   "cell_type": "markdown",
   "metadata": {},
   "source": [
    "And again, show May to May."
   ]
  },
  {
   "cell_type": "code",
   "execution_count": 45,
   "metadata": {},
   "outputs": [
    {
     "data": {
      "text/html": [
       "<div>\n",
       "<style scoped>\n",
       "    .dataframe tbody tr th:only-of-type {\n",
       "        vertical-align: middle;\n",
       "    }\n",
       "\n",
       "    .dataframe tbody tr th {\n",
       "        vertical-align: top;\n",
       "    }\n",
       "\n",
       "    .dataframe thead th {\n",
       "        text-align: right;\n",
       "    }\n",
       "</style>\n",
       "<table border=\"1\" class=\"dataframe\">\n",
       "  <thead>\n",
       "    <tr style=\"text-align: right;\">\n",
       "      <th>GEO</th>\n",
       "      <th>REF_DATE</th>\n",
       "      <th>Canada</th>\n",
       "    </tr>\n",
       "  </thead>\n",
       "  <tbody>\n",
       "    <tr>\n",
       "      <th>844</th>\n",
       "      <td>2018-05-01</td>\n",
       "      <td>16696.0</td>\n",
       "    </tr>\n",
       "    <tr>\n",
       "      <th>856</th>\n",
       "      <td>2019-05-01</td>\n",
       "      <td>14020.0</td>\n",
       "    </tr>\n",
       "    <tr>\n",
       "      <th>868</th>\n",
       "      <td>2020-05-01</td>\n",
       "      <td>14797.0</td>\n",
       "    </tr>\n",
       "    <tr>\n",
       "      <th>880</th>\n",
       "      <td>2021-05-01</td>\n",
       "      <td>18035.0</td>\n",
       "    </tr>\n",
       "    <tr>\n",
       "      <th>892</th>\n",
       "      <td>2022-05-01</td>\n",
       "      <td>17761.0</td>\n",
       "    </tr>\n",
       "  </tbody>\n",
       "</table>\n",
       "</div>"
      ],
      "text/plain": [
       "GEO   REF_DATE   Canada\n",
       "844 2018-05-01  16696.0\n",
       "856 2019-05-01  14020.0\n",
       "868 2020-05-01  14797.0\n",
       "880 2021-05-01  18035.0\n",
       "892 2022-05-01  17761.0"
      ]
     },
     "execution_count": 45,
     "metadata": {},
     "output_type": "execute_result"
    }
   ],
   "source": [
    "completions[\"REF_DATE\"] = pd.to_datetime(completions[\"REF_DATE\"])\n",
    "completions = completions[completions[\"REF_DATE\"].dt.month == 5]\n",
    "\n",
    "completions.tail(5)"
   ]
  },
  {
   "cell_type": "code",
   "execution_count": 38,
   "metadata": {},
   "outputs": [
    {
     "name": "stderr",
     "output_type": "stream",
     "text": [
      "INFO:root:SUCCESS: Data added to chart.\n",
      "INFO:root:SUCCESS: Metadata updated.\n",
      "INFO:root:SUCCESS: Chart head added.\n",
      "INFO:root:SUCCESS: Chart published!\n",
      "c:\\Users\\dexmc\\anaconda3\\envs\\geo\\lib\\site-packages\\IPython\\core\\display.py:419: UserWarning: Consider using IPython.display.IFrame instead\n",
      "  warnings.warn(\"Consider using IPython.display.IFrame instead\")\n"
     ]
    },
    {
     "data": {
      "text/html": [
       "<iframe title=\"New housing completions in May in Canada since 2000\" aria-label=\"Interactive line chart\" id=\"datawrapper-chart-Z2ag8\" src=\"https://datawrapper.dwcdn.net/Z2ag8/1/\" scrolling=\"no\" frameborder=\"0\" style=\"border: none;\" width=\"720\" height=\"500\"></iframe>"
      ],
      "text/plain": [
       "<IPython.core.display.HTML object>"
      ]
     },
     "execution_count": 38,
     "metadata": {},
     "output_type": "execute_result"
    }
   ],
   "source": [
    "(datawrappergraphics.Chart(\"Z2ag8\")\n",
    "    .data(completions)\n",
    "    .head(f\"New housing <span style='color:#C42127; font-weight:bold'>completions</span> in May in Canada since 1950\")\n",
    "    .publish()\n",
    "    .show()\n",
    " )"
   ]
  },
  {
   "cell_type": "markdown",
   "metadata": {},
   "source": [
    "That's all for now. It would also be interesting to look at this data for other regions in Canada to see where housing starts or completions are surging or faltering.\n",
    "\n",
    "\\-30\\-"
   ]
  }
 ],
 "metadata": {
  "kernelspec": {
   "display_name": "Python 3.10.2 ('geo')",
   "language": "python",
   "name": "python3"
  },
  "language_info": {
   "codemirror_mode": {
    "name": "ipython",
    "version": 3
   },
   "file_extension": ".py",
   "mimetype": "text/x-python",
   "name": "python",
   "nbconvert_exporter": "python",
   "pygments_lexer": "ipython3",
   "version": "3.10.2"
  },
  "orig_nbformat": 4,
  "vscode": {
   "interpreter": {
    "hash": "73de8b438f32372771bda1aa2e3d2689a59747422210df3e3470a45f58c477e6"
   }
  }
 },
 "nbformat": 4,
 "nbformat_minor": 2
}
